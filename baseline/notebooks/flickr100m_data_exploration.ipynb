{
 "cells": [
  {
   "cell_type": "markdown",
   "metadata": {},
   "source": [
    "## Setup"
   ]
  },
  {
   "cell_type": "code",
   "execution_count": 1,
   "metadata": {},
   "outputs": [],
   "source": [
    "import pandas as pd\n",
    "import os\n",
    "import matplotlib.pyplot as plt"
   ]
  },
  {
   "cell_type": "code",
   "execution_count": 2,
   "metadata": {},
   "outputs": [],
   "source": [
    "data_dir = \"/Users/davidmalmstrom/Documents/proj/data/flickr100m/\""
   ]
  },
  {
   "cell_type": "code",
   "execution_count": 3,
   "metadata": {},
   "outputs": [],
   "source": [
    "nrows = 800000"
   ]
  },
  {
   "cell_type": "markdown",
   "metadata": {},
   "source": [
    "## Load dataset data"
   ]
  },
  {
   "cell_type": "code",
   "execution_count": 4,
   "metadata": {
    "scrolled": true
   },
   "outputs": [
    {
     "data": {
      "text/html": [
       "<div>\n",
       "<style scoped>\n",
       "    .dataframe tbody tr th:only-of-type {\n",
       "        vertical-align: middle;\n",
       "    }\n",
       "\n",
       "    .dataframe tbody tr th {\n",
       "        vertical-align: top;\n",
       "    }\n",
       "\n",
       "    .dataframe thead th {\n",
       "        text-align: right;\n",
       "    }\n",
       "</style>\n",
       "<table border=\"1\" class=\"dataframe\">\n",
       "  <thead>\n",
       "    <tr style=\"text-align: right;\">\n",
       "      <th></th>\n",
       "      <th>Photo/video_identifier</th>\n",
       "      <th>Photo/video_hash</th>\n",
       "      <th>User_NSID</th>\n",
       "      <th>User_nickname</th>\n",
       "      <th>Date_taken</th>\n",
       "      <th>Date_uploaded</th>\n",
       "      <th>Capture_device</th>\n",
       "      <th>Title</th>\n",
       "      <th>Description</th>\n",
       "      <th>User_tags</th>\n",
       "      <th>...</th>\n",
       "      <th>Photo/video_page_URL</th>\n",
       "      <th>Photo/video_download_URL</th>\n",
       "      <th>License_name</th>\n",
       "      <th>License_URL</th>\n",
       "      <th>Photo/video_server_identifier</th>\n",
       "      <th>Photo/video_farm_identifier</th>\n",
       "      <th>Photo/video_secret</th>\n",
       "      <th>Photo/video_secret_original</th>\n",
       "      <th>Extension</th>\n",
       "      <th>Photos/video_marker_(0/1)</th>\n",
       "    </tr>\n",
       "    <tr>\n",
       "      <th>Line_number</th>\n",
       "      <th></th>\n",
       "      <th></th>\n",
       "      <th></th>\n",
       "      <th></th>\n",
       "      <th></th>\n",
       "      <th></th>\n",
       "      <th></th>\n",
       "      <th></th>\n",
       "      <th></th>\n",
       "      <th></th>\n",
       "      <th></th>\n",
       "      <th></th>\n",
       "      <th></th>\n",
       "      <th></th>\n",
       "      <th></th>\n",
       "      <th></th>\n",
       "      <th></th>\n",
       "      <th></th>\n",
       "      <th></th>\n",
       "      <th></th>\n",
       "      <th></th>\n",
       "    </tr>\n",
       "  </thead>\n",
       "  <tbody>\n",
       "    <tr>\n",
       "      <th>0</th>\n",
       "      <td>6985418911</td>\n",
       "      <td>4e2f7a26a1dfbf165a7e30bdabf7e72a</td>\n",
       "      <td>39089491@N00</td>\n",
       "      <td>nino63004</td>\n",
       "      <td>2012-02-16 09:56:37.0</td>\n",
       "      <td>1331840483</td>\n",
       "      <td>Canon+PowerShot+ELPH+310+HS</td>\n",
       "      <td>IMG_0520</td>\n",
       "      <td>NaN</td>\n",
       "      <td>canon,canon+powershot+hs+310,carnival+escatay,...</td>\n",
       "      <td>...</td>\n",
       "      <td>http://www.flickr.com/photos/39089491@N00/6985...</td>\n",
       "      <td>http://farm8.staticflickr.com/7205/6985418911_...</td>\n",
       "      <td>Attribution-NonCommercial-NoDerivs License</td>\n",
       "      <td>http://creativecommons.org/licenses/by-nc-nd/2.0/</td>\n",
       "      <td>7205</td>\n",
       "      <td>8</td>\n",
       "      <td>df7747990d</td>\n",
       "      <td>692d7e0a7f</td>\n",
       "      <td>jpg</td>\n",
       "      <td>0</td>\n",
       "    </tr>\n",
       "    <tr>\n",
       "      <th>1</th>\n",
       "      <td>10201275523</td>\n",
       "      <td>6ae91cc04fe06697c9404a5360b9b62</td>\n",
       "      <td>55289779@N00</td>\n",
       "      <td>booledozer</td>\n",
       "      <td>2013-10-09 15:30:13.0</td>\n",
       "      <td>1381464628</td>\n",
       "      <td>Panasonic+DMC-ZS10</td>\n",
       "      <td>Images+from+the+intersection+of+Parliament+and...</td>\n",
       "      <td>NaN</td>\n",
       "      <td>NaN</td>\n",
       "      <td>...</td>\n",
       "      <td>http://www.flickr.com/photos/55289779@N00/1020...</td>\n",
       "      <td>http://farm6.staticflickr.com/5465/10201275523...</td>\n",
       "      <td>Attribution-ShareAlike License</td>\n",
       "      <td>http://creativecommons.org/licenses/by-sa/2.0/</td>\n",
       "      <td>5465</td>\n",
       "      <td>6</td>\n",
       "      <td>3e6ea67c7f</td>\n",
       "      <td>f400826feb</td>\n",
       "      <td>jpg</td>\n",
       "      <td>0</td>\n",
       "    </tr>\n",
       "    <tr>\n",
       "      <th>2</th>\n",
       "      <td>2297552664</td>\n",
       "      <td>b61f252678da02eaff453bce575cb6</td>\n",
       "      <td>8134076@N03</td>\n",
       "      <td>nathalie.cone</td>\n",
       "      <td>2008-02-27 08:14:36.0</td>\n",
       "      <td>1204166915</td>\n",
       "      <td>Canon+PowerShot+S2+IS</td>\n",
       "      <td>denise%27s+peanut+chicken</td>\n",
       "      <td>recipe+here%3A+%3Ca+href%3D%22http%3A%2F%2Fall...</td>\n",
       "      <td>NaN</td>\n",
       "      <td>...</td>\n",
       "      <td>http://www.flickr.com/photos/8134076@N03/22975...</td>\n",
       "      <td>http://farm4.staticflickr.com/3171/2297552664_...</td>\n",
       "      <td>Attribution-NonCommercial-NoDerivs License</td>\n",
       "      <td>http://creativecommons.org/licenses/by-nc-nd/2.0/</td>\n",
       "      <td>3171</td>\n",
       "      <td>4</td>\n",
       "      <td>1ee0e8855d</td>\n",
       "      <td>bed1547a29</td>\n",
       "      <td>jpg</td>\n",
       "      <td>0</td>\n",
       "    </tr>\n",
       "    <tr>\n",
       "      <th>3</th>\n",
       "      <td>7289030198</td>\n",
       "      <td>b545e6a773632e2e65e6ecf1bf385</td>\n",
       "      <td>53430201@N03</td>\n",
       "      <td>sarabeephoto</td>\n",
       "      <td>2012-05-28 00:23:30.0</td>\n",
       "      <td>1338233199</td>\n",
       "      <td>Canon+EOS+DIGITAL+REBEL+XSi</td>\n",
       "      <td>blip+fest+2012+night+3</td>\n",
       "      <td>NaN</td>\n",
       "      <td>blip,blip12ny,blipfest,blipfestival,blipfestiv...</td>\n",
       "      <td>...</td>\n",
       "      <td>http://www.flickr.com/photos/53430201@N03/7289...</td>\n",
       "      <td>http://farm8.staticflickr.com/7231/7289030198_...</td>\n",
       "      <td>Attribution-NonCommercial-NoDerivs License</td>\n",
       "      <td>http://creativecommons.org/licenses/by-nc-nd/2.0/</td>\n",
       "      <td>7231</td>\n",
       "      <td>8</td>\n",
       "      <td>1f1ba44113</td>\n",
       "      <td>bc36823aec</td>\n",
       "      <td>jpg</td>\n",
       "      <td>0</td>\n",
       "    </tr>\n",
       "    <tr>\n",
       "      <th>4</th>\n",
       "      <td>4140939180</td>\n",
       "      <td>7ef1a7715642be6fab2273718c876cae</td>\n",
       "      <td>12940050@N02</td>\n",
       "      <td>enjoiskate8</td>\n",
       "      <td>2009-11-21 08:03:30.0</td>\n",
       "      <td>1259417601</td>\n",
       "      <td>PENTAX+Corporation+PENTAX+K10D</td>\n",
       "      <td>IMGP7409</td>\n",
       "      <td>NaN</td>\n",
       "      <td>2009,amsterdam,clinquest,fall,netherlands,nov,...</td>\n",
       "      <td>...</td>\n",
       "      <td>http://www.flickr.com/photos/12940050@N02/4140...</td>\n",
       "      <td>http://farm3.staticflickr.com/2565/4140939180_...</td>\n",
       "      <td>Attribution-NonCommercial-NoDerivs License</td>\n",
       "      <td>http://creativecommons.org/licenses/by-nc-nd/2.0/</td>\n",
       "      <td>2565</td>\n",
       "      <td>3</td>\n",
       "      <td>07aeded917</td>\n",
       "      <td>da7f4b048e</td>\n",
       "      <td>jpg</td>\n",
       "      <td>0</td>\n",
       "    </tr>\n",
       "  </tbody>\n",
       "</table>\n",
       "<p>5 rows × 24 columns</p>\n",
       "</div>"
      ],
      "text/plain": [
       "             Photo/video_identifier                  Photo/video_hash  \\\n",
       "Line_number                                                             \n",
       "0                        6985418911  4e2f7a26a1dfbf165a7e30bdabf7e72a   \n",
       "1                       10201275523   6ae91cc04fe06697c9404a5360b9b62   \n",
       "2                        2297552664    b61f252678da02eaff453bce575cb6   \n",
       "3                        7289030198     b545e6a773632e2e65e6ecf1bf385   \n",
       "4                        4140939180  7ef1a7715642be6fab2273718c876cae   \n",
       "\n",
       "                User_NSID  User_nickname             Date_taken  \\\n",
       "Line_number                                                       \n",
       "0            39089491@N00      nino63004  2012-02-16 09:56:37.0   \n",
       "1            55289779@N00     booledozer  2013-10-09 15:30:13.0   \n",
       "2             8134076@N03  nathalie.cone  2008-02-27 08:14:36.0   \n",
       "3            53430201@N03   sarabeephoto  2012-05-28 00:23:30.0   \n",
       "4            12940050@N02    enjoiskate8  2009-11-21 08:03:30.0   \n",
       "\n",
       "             Date_uploaded                  Capture_device  \\\n",
       "Line_number                                                  \n",
       "0               1331840483     Canon+PowerShot+ELPH+310+HS   \n",
       "1               1381464628              Panasonic+DMC-ZS10   \n",
       "2               1204166915           Canon+PowerShot+S2+IS   \n",
       "3               1338233199     Canon+EOS+DIGITAL+REBEL+XSi   \n",
       "4               1259417601  PENTAX+Corporation+PENTAX+K10D   \n",
       "\n",
       "                                                         Title  \\\n",
       "Line_number                                                      \n",
       "0                                                     IMG_0520   \n",
       "1            Images+from+the+intersection+of+Parliament+and...   \n",
       "2                                    denise%27s+peanut+chicken   \n",
       "3                                       blip+fest+2012+night+3   \n",
       "4                                                     IMGP7409   \n",
       "\n",
       "                                                   Description  \\\n",
       "Line_number                                                      \n",
       "0                                                          NaN   \n",
       "1                                                          NaN   \n",
       "2            recipe+here%3A+%3Ca+href%3D%22http%3A%2F%2Fall...   \n",
       "3                                                          NaN   \n",
       "4                                                          NaN   \n",
       "\n",
       "                                                     User_tags  ...  \\\n",
       "Line_number                                                     ...   \n",
       "0            canon,canon+powershot+hs+310,carnival+escatay,...  ...   \n",
       "1                                                          NaN  ...   \n",
       "2                                                          NaN  ...   \n",
       "3            blip,blip12ny,blipfest,blipfestival,blipfestiv...  ...   \n",
       "4            2009,amsterdam,clinquest,fall,netherlands,nov,...  ...   \n",
       "\n",
       "                                          Photo/video_page_URL  \\\n",
       "Line_number                                                      \n",
       "0            http://www.flickr.com/photos/39089491@N00/6985...   \n",
       "1            http://www.flickr.com/photos/55289779@N00/1020...   \n",
       "2            http://www.flickr.com/photos/8134076@N03/22975...   \n",
       "3            http://www.flickr.com/photos/53430201@N03/7289...   \n",
       "4            http://www.flickr.com/photos/12940050@N02/4140...   \n",
       "\n",
       "                                      Photo/video_download_URL  \\\n",
       "Line_number                                                      \n",
       "0            http://farm8.staticflickr.com/7205/6985418911_...   \n",
       "1            http://farm6.staticflickr.com/5465/10201275523...   \n",
       "2            http://farm4.staticflickr.com/3171/2297552664_...   \n",
       "3            http://farm8.staticflickr.com/7231/7289030198_...   \n",
       "4            http://farm3.staticflickr.com/2565/4140939180_...   \n",
       "\n",
       "                                           License_name  \\\n",
       "Line_number                                               \n",
       "0            Attribution-NonCommercial-NoDerivs License   \n",
       "1                        Attribution-ShareAlike License   \n",
       "2            Attribution-NonCommercial-NoDerivs License   \n",
       "3            Attribution-NonCommercial-NoDerivs License   \n",
       "4            Attribution-NonCommercial-NoDerivs License   \n",
       "\n",
       "                                                   License_URL  \\\n",
       "Line_number                                                      \n",
       "0            http://creativecommons.org/licenses/by-nc-nd/2.0/   \n",
       "1               http://creativecommons.org/licenses/by-sa/2.0/   \n",
       "2            http://creativecommons.org/licenses/by-nc-nd/2.0/   \n",
       "3            http://creativecommons.org/licenses/by-nc-nd/2.0/   \n",
       "4            http://creativecommons.org/licenses/by-nc-nd/2.0/   \n",
       "\n",
       "            Photo/video_server_identifier Photo/video_farm_identifier  \\\n",
       "Line_number                                                             \n",
       "0                                    7205                           8   \n",
       "1                                    5465                           6   \n",
       "2                                    3171                           4   \n",
       "3                                    7231                           8   \n",
       "4                                    2565                           3   \n",
       "\n",
       "            Photo/video_secret Photo/video_secret_original  Extension  \\\n",
       "Line_number                                                             \n",
       "0                   df7747990d                  692d7e0a7f        jpg   \n",
       "1                   3e6ea67c7f                  f400826feb        jpg   \n",
       "2                   1ee0e8855d                  bed1547a29        jpg   \n",
       "3                   1f1ba44113                  bc36823aec        jpg   \n",
       "4                   07aeded917                  da7f4b048e        jpg   \n",
       "\n",
       "             Photos/video_marker_(0/1)  \n",
       "Line_number                             \n",
       "0                                    0  \n",
       "1                                    0  \n",
       "2                                    0  \n",
       "3                                    0  \n",
       "4                                    0  \n",
       "\n",
       "[5 rows x 24 columns]"
      ]
     },
     "execution_count": 4,
     "metadata": {},
     "output_type": "execute_result"
    }
   ],
   "source": [
    "dataset = pd.read_csv(data_dir + \"yfcc100m_dataset\", sep=\"\\t\", nrows=nrows, header=None)\n",
    "dataset.columns = pd.read_csv(data_dir + \"dataset_header\").columns\n",
    "dataset.set_index(\"Line_number\", inplace=True)\n",
    "dataset.head()"
   ]
  },
  {
   "cell_type": "markdown",
   "metadata": {},
   "source": [
    "## Load autotag data:"
   ]
  },
  {
   "cell_type": "code",
   "execution_count": 5,
   "metadata": {},
   "outputs": [],
   "source": [
    "autotags = pd.read_csv(data_dir + \"yfcc100m_autotags\", sep=\"\\t\", nrows=nrows, header=None)"
   ]
  },
  {
   "cell_type": "code",
   "execution_count": 6,
   "metadata": {},
   "outputs": [
    {
     "data": {
      "text/html": [
       "<div>\n",
       "<style scoped>\n",
       "    .dataframe tbody tr th:only-of-type {\n",
       "        vertical-align: middle;\n",
       "    }\n",
       "\n",
       "    .dataframe tbody tr th {\n",
       "        vertical-align: top;\n",
       "    }\n",
       "\n",
       "    .dataframe thead th {\n",
       "        text-align: right;\n",
       "    }\n",
       "</style>\n",
       "<table border=\"1\" class=\"dataframe\">\n",
       "  <thead>\n",
       "    <tr style=\"text-align: right;\">\n",
       "      <th></th>\n",
       "      <th>0</th>\n",
       "      <th>1</th>\n",
       "    </tr>\n",
       "  </thead>\n",
       "  <tbody>\n",
       "    <tr>\n",
       "      <th>0</th>\n",
       "      <td>6985418911</td>\n",
       "      <td>atoll:0.5220,bay:0.6380,beach:0.9530,coast:0.9...</td>\n",
       "    </tr>\n",
       "    <tr>\n",
       "      <th>1</th>\n",
       "      <td>10201275523</td>\n",
       "      <td>alley:0.7910,apartment:0.9290,architecture:0.9...</td>\n",
       "    </tr>\n",
       "    <tr>\n",
       "      <th>2</th>\n",
       "      <td>2297552664</td>\n",
       "      <td>curry:0.5170,dish:0.9600,food:0.9650,greens:0....</td>\n",
       "    </tr>\n",
       "    <tr>\n",
       "      <th>3</th>\n",
       "      <td>7289030198</td>\n",
       "      <td>art:0.5530,concert:0.9520,fire:0.5540,light pa...</td>\n",
       "    </tr>\n",
       "    <tr>\n",
       "      <th>4</th>\n",
       "      <td>4140939180</td>\n",
       "      <td>friends:0.9000,groupshot:1.0000,indoor:0.9330,...</td>\n",
       "    </tr>\n",
       "  </tbody>\n",
       "</table>\n",
       "</div>"
      ],
      "text/plain": [
       "             0                                                  1\n",
       "0   6985418911  atoll:0.5220,bay:0.6380,beach:0.9530,coast:0.9...\n",
       "1  10201275523  alley:0.7910,apartment:0.9290,architecture:0.9...\n",
       "2   2297552664  curry:0.5170,dish:0.9600,food:0.9650,greens:0....\n",
       "3   7289030198  art:0.5530,concert:0.9520,fire:0.5540,light pa...\n",
       "4   4140939180  friends:0.9000,groupshot:1.0000,indoor:0.9330,..."
      ]
     },
     "execution_count": 6,
     "metadata": {},
     "output_type": "execute_result"
    }
   ],
   "source": [
    "autotags.head()"
   ]
  },
  {
   "cell_type": "code",
   "execution_count": 7,
   "metadata": {},
   "outputs": [],
   "source": [
    "autotags = autotags.dropna()"
   ]
  },
  {
   "cell_type": "markdown",
   "metadata": {},
   "source": [
    "The question now is what we should do with the confidence values? Should we cut off at a certain point, or just use all autotags? To start investigating, we figure out the distribution of the confidence values."
   ]
  },
  {
   "cell_type": "code",
   "execution_count": 8,
   "metadata": {},
   "outputs": [
    {
     "data": {
      "text/plain": [
       "0    [atoll:0.5220, bay:0.6380, beach:0.9530, coast...\n",
       "1    [alley:0.7910, apartment:0.9290, architecture:...\n",
       "2    [curry:0.5170, dish:0.9600, food:0.9650, green...\n",
       "3    [art:0.5530, concert:0.9520, fire:0.5540, ligh...\n",
       "4    [friends:0.9000, groupshot:1.0000, indoor:0.93...\n",
       "Name: 1, dtype: object"
      ]
     },
     "execution_count": 8,
     "metadata": {},
     "output_type": "execute_result"
    }
   ],
   "source": [
    "just_tags = autotags[1].dropna().map(lambda x: str(x).split(','))\n",
    "just_tags.head()"
   ]
  },
  {
   "cell_type": "code",
   "execution_count": 9,
   "metadata": {},
   "outputs": [
    {
     "data": {
      "text/plain": [
       "0    [0.5220, 0.6380, 0.9530, 0.9150, 0.5570, 0.746...\n",
       "1    [0.7910, 0.9290, 0.9430, 0.7420, 0.9430, 0.647...\n",
       "2    [0.5170, 0.9600, 0.9650, 0.8760, 0.9900, 0.879...\n",
       "3    [0.5530, 0.9520, 0.5540, 0.5530, 0.5310, 0.952...\n",
       "4                     [0.9000, 1.0000, 0.9330, 1.0000]\n",
       "Name: 1, dtype: object"
      ]
     },
     "execution_count": 9,
     "metadata": {},
     "output_type": "execute_result"
    }
   ],
   "source": [
    "just_values = just_tags.map(lambda x: list(map(lambda y: y.split(':')[1], x)))\n",
    "just_values.head()"
   ]
  },
  {
   "cell_type": "code",
   "execution_count": 10,
   "metadata": {},
   "outputs": [],
   "source": [
    "just_values = pd.Series((val for val_list in just_values for val in val_list))"
   ]
  },
  {
   "cell_type": "code",
   "execution_count": 11,
   "metadata": {},
   "outputs": [
    {
     "data": {
      "text/plain": [
       "<matplotlib.axes._subplots.AxesSubplot at 0x1974a2c50>"
      ]
     },
     "execution_count": 11,
     "metadata": {},
     "output_type": "execute_result"
    },
    {
     "data": {
      "image/png": "[encoded data removed]",
      "text/plain": [
       "<Figure size 432x288 with 1 Axes>"
      ]
     },
     "metadata": {
      "needs_background": "light"
     },
     "output_type": "display_data"
    }
   ],
   "source": [
    "just_values.astype(float).hist()"
   ]
  },
  {
   "cell_type": "markdown",
   "metadata": {},
   "source": [
    "Here we can see that the makers of the dataset has already set the treshold at 0.5.\n",
    "We are content with this limit, meaning that we can use all of the tags without considering the confidence values."
   ]
  },
  {
   "cell_type": "markdown",
   "metadata": {},
   "source": [
    "Remove the confidence values:"
   ]
  },
  {
   "cell_type": "code",
   "execution_count": 12,
   "metadata": {},
   "outputs": [],
   "source": [
    "tag_lists = autotags[1].map(lambda x: list(map(lambda y: y.split(':')[0], str(x).split(','))))"
   ]
  },
  {
   "cell_type": "code",
   "execution_count": 13,
   "metadata": {
    "scrolled": true
   },
   "outputs": [
    {
     "data": {
      "text/html": [
       "<div>\n",
       "<style scoped>\n",
       "    .dataframe tbody tr th:only-of-type {\n",
       "        vertical-align: middle;\n",
       "    }\n",
       "\n",
       "    .dataframe tbody tr th {\n",
       "        vertical-align: top;\n",
       "    }\n",
       "\n",
       "    .dataframe thead th {\n",
       "        text-align: right;\n",
       "    }\n",
       "</style>\n",
       "<table border=\"1\" class=\"dataframe\">\n",
       "  <thead>\n",
       "    <tr style=\"text-align: right;\">\n",
       "      <th></th>\n",
       "      <th>0</th>\n",
       "      <th>1</th>\n",
       "      <th>autotags</th>\n",
       "    </tr>\n",
       "  </thead>\n",
       "  <tbody>\n",
       "    <tr>\n",
       "      <th>0</th>\n",
       "      <td>6985418911</td>\n",
       "      <td>atoll:0.5220,bay:0.6380,beach:0.9530,coast:0.9...</td>\n",
       "      <td>[atoll, bay, beach, coast, harbor, lake, lakef...</td>\n",
       "    </tr>\n",
       "    <tr>\n",
       "      <th>1</th>\n",
       "      <td>10201275523</td>\n",
       "      <td>alley:0.7910,apartment:0.9290,architecture:0.9...</td>\n",
       "      <td>[alley, apartment, architecture, brownstone, b...</td>\n",
       "    </tr>\n",
       "    <tr>\n",
       "      <th>2</th>\n",
       "      <td>2297552664</td>\n",
       "      <td>curry:0.5170,dish:0.9600,food:0.9650,greens:0....</td>\n",
       "      <td>[curry, dish, food, greens, indoor, meal, past...</td>\n",
       "    </tr>\n",
       "    <tr>\n",
       "      <th>3</th>\n",
       "      <td>7289030198</td>\n",
       "      <td>art:0.5530,concert:0.9520,fire:0.5540,light pa...</td>\n",
       "      <td>[art, concert, fire, light painting, magenta, ...</td>\n",
       "    </tr>\n",
       "    <tr>\n",
       "      <th>4</th>\n",
       "      <td>4140939180</td>\n",
       "      <td>friends:0.9000,groupshot:1.0000,indoor:0.9330,...</td>\n",
       "      <td>[friends, groupshot, indoor, people]</td>\n",
       "    </tr>\n",
       "  </tbody>\n",
       "</table>\n",
       "</div>"
      ],
      "text/plain": [
       "             0                                                  1  \\\n",
       "0   6985418911  atoll:0.5220,bay:0.6380,beach:0.9530,coast:0.9...   \n",
       "1  10201275523  alley:0.7910,apartment:0.9290,architecture:0.9...   \n",
       "2   2297552664  curry:0.5170,dish:0.9600,food:0.9650,greens:0....   \n",
       "3   7289030198  art:0.5530,concert:0.9520,fire:0.5540,light pa...   \n",
       "4   4140939180  friends:0.9000,groupshot:1.0000,indoor:0.9330,...   \n",
       "\n",
       "                                            autotags  \n",
       "0  [atoll, bay, beach, coast, harbor, lake, lakef...  \n",
       "1  [alley, apartment, architecture, brownstone, b...  \n",
       "2  [curry, dish, food, greens, indoor, meal, past...  \n",
       "3  [art, concert, fire, light painting, magenta, ...  \n",
       "4               [friends, groupshot, indoor, people]  "
      ]
     },
     "execution_count": 13,
     "metadata": {},
     "output_type": "execute_result"
    }
   ],
   "source": [
    "autotags['autotags'] = tag_lists\n",
    "autotags.head()"
   ]
  },
  {
   "cell_type": "code",
   "execution_count": 14,
   "metadata": {},
   "outputs": [
    {
     "data": {
      "text/html": [
       "<div>\n",
       "<style scoped>\n",
       "    .dataframe tbody tr th:only-of-type {\n",
       "        vertical-align: middle;\n",
       "    }\n",
       "\n",
       "    .dataframe tbody tr th {\n",
       "        vertical-align: top;\n",
       "    }\n",
       "\n",
       "    .dataframe thead th {\n",
       "        text-align: right;\n",
       "    }\n",
       "</style>\n",
       "<table border=\"1\" class=\"dataframe\">\n",
       "  <thead>\n",
       "    <tr style=\"text-align: right;\">\n",
       "      <th></th>\n",
       "      <th>0</th>\n",
       "      <th>autotags</th>\n",
       "    </tr>\n",
       "  </thead>\n",
       "  <tbody>\n",
       "    <tr>\n",
       "      <th>0</th>\n",
       "      <td>6985418911</td>\n",
       "      <td>[atoll, bay, beach, coast, harbor, lake, lakef...</td>\n",
       "    </tr>\n",
       "    <tr>\n",
       "      <th>1</th>\n",
       "      <td>10201275523</td>\n",
       "      <td>[alley, apartment, architecture, brownstone, b...</td>\n",
       "    </tr>\n",
       "    <tr>\n",
       "      <th>2</th>\n",
       "      <td>2297552664</td>\n",
       "      <td>[curry, dish, food, greens, indoor, meal, past...</td>\n",
       "    </tr>\n",
       "    <tr>\n",
       "      <th>3</th>\n",
       "      <td>7289030198</td>\n",
       "      <td>[art, concert, fire, light painting, magenta, ...</td>\n",
       "    </tr>\n",
       "    <tr>\n",
       "      <th>4</th>\n",
       "      <td>4140939180</td>\n",
       "      <td>[friends, groupshot, indoor, people]</td>\n",
       "    </tr>\n",
       "  </tbody>\n",
       "</table>\n",
       "</div>"
      ],
      "text/plain": [
       "             0                                           autotags\n",
       "0   6985418911  [atoll, bay, beach, coast, harbor, lake, lakef...\n",
       "1  10201275523  [alley, apartment, architecture, brownstone, b...\n",
       "2   2297552664  [curry, dish, food, greens, indoor, meal, past...\n",
       "3   7289030198  [art, concert, fire, light painting, magenta, ...\n",
       "4   4140939180               [friends, groupshot, indoor, people]"
      ]
     },
     "execution_count": 14,
     "metadata": {},
     "output_type": "execute_result"
    }
   ],
   "source": [
    "autotags = autotags.drop(1, axis=1)\n",
    "autotags.head()"
   ]
  },
  {
   "cell_type": "code",
   "execution_count": 15,
   "metadata": {},
   "outputs": [],
   "source": [
    "asd = pd.Series((val for val_list in autotags.autotags for val in val_list))"
   ]
  },
  {
   "cell_type": "code",
   "execution_count": 16,
   "metadata": {
    "scrolled": true
   },
   "outputs": [
    {
     "data": {
      "image/png": "[encoded data removed]",
      "text/plain": [
       "<Figure size 432x288 with 1 Axes>"
      ]
     },
     "metadata": {
      "needs_background": "light"
     },
     "output_type": "display_data"
    }
   ],
   "source": [
    "fig, ax = plt.subplots()\n",
    "asd.value_counts().hist(bins=20)\n",
    "ax.set_yscale('log')\n",
    "#ax.set_xscale('log')"
   ]
  },
  {
   "cell_type": "code",
   "execution_count": 17,
   "metadata": {},
   "outputs": [
    {
     "data": {
      "text/html": [
       "<div>\n",
       "<style scoped>\n",
       "    .dataframe tbody tr th:only-of-type {\n",
       "        vertical-align: middle;\n",
       "    }\n",
       "\n",
       "    .dataframe tbody tr th {\n",
       "        vertical-align: top;\n",
       "    }\n",
       "\n",
       "    .dataframe thead th {\n",
       "        text-align: right;\n",
       "    }\n",
       "</style>\n",
       "<table border=\"1\" class=\"dataframe\">\n",
       "  <thead>\n",
       "    <tr style=\"text-align: right;\">\n",
       "      <th></th>\n",
       "      <th>Photo/video_identifier</th>\n",
       "      <th>Photo/video_hash</th>\n",
       "      <th>User_NSID</th>\n",
       "      <th>User_nickname</th>\n",
       "      <th>Date_taken</th>\n",
       "      <th>Date_uploaded</th>\n",
       "      <th>Capture_device</th>\n",
       "      <th>Title</th>\n",
       "      <th>Description</th>\n",
       "      <th>User_tags</th>\n",
       "      <th>...</th>\n",
       "      <th>Photo/video_download_URL</th>\n",
       "      <th>License_name</th>\n",
       "      <th>License_URL</th>\n",
       "      <th>Photo/video_server_identifier</th>\n",
       "      <th>Photo/video_farm_identifier</th>\n",
       "      <th>Photo/video_secret</th>\n",
       "      <th>Photo/video_secret_original</th>\n",
       "      <th>Extension</th>\n",
       "      <th>Photos/video_marker_(0/1)</th>\n",
       "      <th>autotags</th>\n",
       "    </tr>\n",
       "    <tr>\n",
       "      <th>Line_number</th>\n",
       "      <th></th>\n",
       "      <th></th>\n",
       "      <th></th>\n",
       "      <th></th>\n",
       "      <th></th>\n",
       "      <th></th>\n",
       "      <th></th>\n",
       "      <th></th>\n",
       "      <th></th>\n",
       "      <th></th>\n",
       "      <th></th>\n",
       "      <th></th>\n",
       "      <th></th>\n",
       "      <th></th>\n",
       "      <th></th>\n",
       "      <th></th>\n",
       "      <th></th>\n",
       "      <th></th>\n",
       "      <th></th>\n",
       "      <th></th>\n",
       "      <th></th>\n",
       "    </tr>\n",
       "  </thead>\n",
       "  <tbody>\n",
       "    <tr>\n",
       "      <th>0</th>\n",
       "      <td>6985418911</td>\n",
       "      <td>4e2f7a26a1dfbf165a7e30bdabf7e72a</td>\n",
       "      <td>39089491@N00</td>\n",
       "      <td>nino63004</td>\n",
       "      <td>2012-02-16 09:56:37.0</td>\n",
       "      <td>1331840483</td>\n",
       "      <td>Canon+PowerShot+ELPH+310+HS</td>\n",
       "      <td>IMG_0520</td>\n",
       "      <td>NaN</td>\n",
       "      <td>canon,canon+powershot+hs+310,carnival+escatay,...</td>\n",
       "      <td>...</td>\n",
       "      <td>http://farm8.staticflickr.com/7205/6985418911_...</td>\n",
       "      <td>Attribution-NonCommercial-NoDerivs License</td>\n",
       "      <td>http://creativecommons.org/licenses/by-nc-nd/2.0/</td>\n",
       "      <td>7205</td>\n",
       "      <td>8</td>\n",
       "      <td>df7747990d</td>\n",
       "      <td>692d7e0a7f</td>\n",
       "      <td>jpg</td>\n",
       "      <td>0</td>\n",
       "      <td>[atoll, bay, beach, coast, harbor, lake, lakef...</td>\n",
       "    </tr>\n",
       "    <tr>\n",
       "      <th>1</th>\n",
       "      <td>10201275523</td>\n",
       "      <td>6ae91cc04fe06697c9404a5360b9b62</td>\n",
       "      <td>55289779@N00</td>\n",
       "      <td>booledozer</td>\n",
       "      <td>2013-10-09 15:30:13.0</td>\n",
       "      <td>1381464628</td>\n",
       "      <td>Panasonic+DMC-ZS10</td>\n",
       "      <td>Images+from+the+intersection+of+Parliament+and...</td>\n",
       "      <td>NaN</td>\n",
       "      <td>NaN</td>\n",
       "      <td>...</td>\n",
       "      <td>http://farm6.staticflickr.com/5465/10201275523...</td>\n",
       "      <td>Attribution-ShareAlike License</td>\n",
       "      <td>http://creativecommons.org/licenses/by-sa/2.0/</td>\n",
       "      <td>5465</td>\n",
       "      <td>6</td>\n",
       "      <td>3e6ea67c7f</td>\n",
       "      <td>f400826feb</td>\n",
       "      <td>jpg</td>\n",
       "      <td>0</td>\n",
       "      <td>[alley, apartment, architecture, brownstone, b...</td>\n",
       "    </tr>\n",
       "    <tr>\n",
       "      <th>2</th>\n",
       "      <td>2297552664</td>\n",
       "      <td>b61f252678da02eaff453bce575cb6</td>\n",
       "      <td>8134076@N03</td>\n",
       "      <td>nathalie.cone</td>\n",
       "      <td>2008-02-27 08:14:36.0</td>\n",
       "      <td>1204166915</td>\n",
       "      <td>Canon+PowerShot+S2+IS</td>\n",
       "      <td>denise%27s+peanut+chicken</td>\n",
       "      <td>recipe+here%3A+%3Ca+href%3D%22http%3A%2F%2Fall...</td>\n",
       "      <td>NaN</td>\n",
       "      <td>...</td>\n",
       "      <td>http://farm4.staticflickr.com/3171/2297552664_...</td>\n",
       "      <td>Attribution-NonCommercial-NoDerivs License</td>\n",
       "      <td>http://creativecommons.org/licenses/by-nc-nd/2.0/</td>\n",
       "      <td>3171</td>\n",
       "      <td>4</td>\n",
       "      <td>1ee0e8855d</td>\n",
       "      <td>bed1547a29</td>\n",
       "      <td>jpg</td>\n",
       "      <td>0</td>\n",
       "      <td>[curry, dish, food, greens, indoor, meal, past...</td>\n",
       "    </tr>\n",
       "    <tr>\n",
       "      <th>3</th>\n",
       "      <td>7289030198</td>\n",
       "      <td>b545e6a773632e2e65e6ecf1bf385</td>\n",
       "      <td>53430201@N03</td>\n",
       "      <td>sarabeephoto</td>\n",
       "      <td>2012-05-28 00:23:30.0</td>\n",
       "      <td>1338233199</td>\n",
       "      <td>Canon+EOS+DIGITAL+REBEL+XSi</td>\n",
       "      <td>blip+fest+2012+night+3</td>\n",
       "      <td>NaN</td>\n",
       "      <td>blip,blip12ny,blipfest,blipfestival,blipfestiv...</td>\n",
       "      <td>...</td>\n",
       "      <td>http://farm8.staticflickr.com/7231/7289030198_...</td>\n",
       "      <td>Attribution-NonCommercial-NoDerivs License</td>\n",
       "      <td>http://creativecommons.org/licenses/by-nc-nd/2.0/</td>\n",
       "      <td>7231</td>\n",
       "      <td>8</td>\n",
       "      <td>1f1ba44113</td>\n",
       "      <td>bc36823aec</td>\n",
       "      <td>jpg</td>\n",
       "      <td>0</td>\n",
       "      <td>[art, concert, fire, light painting, magenta, ...</td>\n",
       "    </tr>\n",
       "    <tr>\n",
       "      <th>4</th>\n",
       "      <td>4140939180</td>\n",
       "      <td>7ef1a7715642be6fab2273718c876cae</td>\n",
       "      <td>12940050@N02</td>\n",
       "      <td>enjoiskate8</td>\n",
       "      <td>2009-11-21 08:03:30.0</td>\n",
       "      <td>1259417601</td>\n",
       "      <td>PENTAX+Corporation+PENTAX+K10D</td>\n",
       "      <td>IMGP7409</td>\n",
       "      <td>NaN</td>\n",
       "      <td>2009,amsterdam,clinquest,fall,netherlands,nov,...</td>\n",
       "      <td>...</td>\n",
       "      <td>http://farm3.staticflickr.com/2565/4140939180_...</td>\n",
       "      <td>Attribution-NonCommercial-NoDerivs License</td>\n",
       "      <td>http://creativecommons.org/licenses/by-nc-nd/2.0/</td>\n",
       "      <td>2565</td>\n",
       "      <td>3</td>\n",
       "      <td>07aeded917</td>\n",
       "      <td>da7f4b048e</td>\n",
       "      <td>jpg</td>\n",
       "      <td>0</td>\n",
       "      <td>[friends, groupshot, indoor, people]</td>\n",
       "    </tr>\n",
       "  </tbody>\n",
       "</table>\n",
       "<p>5 rows × 25 columns</p>\n",
       "</div>"
      ],
      "text/plain": [
       "             Photo/video_identifier                  Photo/video_hash  \\\n",
       "Line_number                                                             \n",
       "0                        6985418911  4e2f7a26a1dfbf165a7e30bdabf7e72a   \n",
       "1                       10201275523   6ae91cc04fe06697c9404a5360b9b62   \n",
       "2                        2297552664    b61f252678da02eaff453bce575cb6   \n",
       "3                        7289030198     b545e6a773632e2e65e6ecf1bf385   \n",
       "4                        4140939180  7ef1a7715642be6fab2273718c876cae   \n",
       "\n",
       "                User_NSID  User_nickname             Date_taken  \\\n",
       "Line_number                                                       \n",
       "0            39089491@N00      nino63004  2012-02-16 09:56:37.0   \n",
       "1            55289779@N00     booledozer  2013-10-09 15:30:13.0   \n",
       "2             8134076@N03  nathalie.cone  2008-02-27 08:14:36.0   \n",
       "3            53430201@N03   sarabeephoto  2012-05-28 00:23:30.0   \n",
       "4            12940050@N02    enjoiskate8  2009-11-21 08:03:30.0   \n",
       "\n",
       "             Date_uploaded                  Capture_device  \\\n",
       "Line_number                                                  \n",
       "0               1331840483     Canon+PowerShot+ELPH+310+HS   \n",
       "1               1381464628              Panasonic+DMC-ZS10   \n",
       "2               1204166915           Canon+PowerShot+S2+IS   \n",
       "3               1338233199     Canon+EOS+DIGITAL+REBEL+XSi   \n",
       "4               1259417601  PENTAX+Corporation+PENTAX+K10D   \n",
       "\n",
       "                                                         Title  \\\n",
       "Line_number                                                      \n",
       "0                                                     IMG_0520   \n",
       "1            Images+from+the+intersection+of+Parliament+and...   \n",
       "2                                    denise%27s+peanut+chicken   \n",
       "3                                       blip+fest+2012+night+3   \n",
       "4                                                     IMGP7409   \n",
       "\n",
       "                                                   Description  \\\n",
       "Line_number                                                      \n",
       "0                                                          NaN   \n",
       "1                                                          NaN   \n",
       "2            recipe+here%3A+%3Ca+href%3D%22http%3A%2F%2Fall...   \n",
       "3                                                          NaN   \n",
       "4                                                          NaN   \n",
       "\n",
       "                                                     User_tags  ...  \\\n",
       "Line_number                                                     ...   \n",
       "0            canon,canon+powershot+hs+310,carnival+escatay,...  ...   \n",
       "1                                                          NaN  ...   \n",
       "2                                                          NaN  ...   \n",
       "3            blip,blip12ny,blipfest,blipfestival,blipfestiv...  ...   \n",
       "4            2009,amsterdam,clinquest,fall,netherlands,nov,...  ...   \n",
       "\n",
       "                                      Photo/video_download_URL  \\\n",
       "Line_number                                                      \n",
       "0            http://farm8.staticflickr.com/7205/6985418911_...   \n",
       "1            http://farm6.staticflickr.com/5465/10201275523...   \n",
       "2            http://farm4.staticflickr.com/3171/2297552664_...   \n",
       "3            http://farm8.staticflickr.com/7231/7289030198_...   \n",
       "4            http://farm3.staticflickr.com/2565/4140939180_...   \n",
       "\n",
       "                                           License_name  \\\n",
       "Line_number                                               \n",
       "0            Attribution-NonCommercial-NoDerivs License   \n",
       "1                        Attribution-ShareAlike License   \n",
       "2            Attribution-NonCommercial-NoDerivs License   \n",
       "3            Attribution-NonCommercial-NoDerivs License   \n",
       "4            Attribution-NonCommercial-NoDerivs License   \n",
       "\n",
       "                                                   License_URL  \\\n",
       "Line_number                                                      \n",
       "0            http://creativecommons.org/licenses/by-nc-nd/2.0/   \n",
       "1               http://creativecommons.org/licenses/by-sa/2.0/   \n",
       "2            http://creativecommons.org/licenses/by-nc-nd/2.0/   \n",
       "3            http://creativecommons.org/licenses/by-nc-nd/2.0/   \n",
       "4            http://creativecommons.org/licenses/by-nc-nd/2.0/   \n",
       "\n",
       "             Photo/video_server_identifier Photo/video_farm_identifier  \\\n",
       "Line_number                                                              \n",
       "0                                     7205                           8   \n",
       "1                                     5465                           6   \n",
       "2                                     3171                           4   \n",
       "3                                     7231                           8   \n",
       "4                                     2565                           3   \n",
       "\n",
       "            Photo/video_secret Photo/video_secret_original Extension  \\\n",
       "Line_number                                                            \n",
       "0                   df7747990d                  692d7e0a7f       jpg   \n",
       "1                   3e6ea67c7f                  f400826feb       jpg   \n",
       "2                   1ee0e8855d                  bed1547a29       jpg   \n",
       "3                   1f1ba44113                  bc36823aec       jpg   \n",
       "4                   07aeded917                  da7f4b048e       jpg   \n",
       "\n",
       "             Photos/video_marker_(0/1)  \\\n",
       "Line_number                              \n",
       "0                                    0   \n",
       "1                                    0   \n",
       "2                                    0   \n",
       "3                                    0   \n",
       "4                                    0   \n",
       "\n",
       "                                                      autotags  \n",
       "Line_number                                                     \n",
       "0            [atoll, bay, beach, coast, harbor, lake, lakef...  \n",
       "1            [alley, apartment, architecture, brownstone, b...  \n",
       "2            [curry, dish, food, greens, indoor, meal, past...  \n",
       "3            [art, concert, fire, light painting, magenta, ...  \n",
       "4                         [friends, groupshot, indoor, people]  \n",
       "\n",
       "[5 rows x 25 columns]"
      ]
     },
     "execution_count": 17,
     "metadata": {},
     "output_type": "execute_result"
    }
   ],
   "source": [
    "autotags.set_index(0, inplace=True)\n",
    "dataset = dataset.join(autotags, on='Photo/video_identifier')\n",
    "dataset.head()"
   ]
  },
  {
   "cell_type": "markdown",
   "metadata": {},
   "source": [
    "The user tags needs to be put into an array as well:"
   ]
  },
  {
   "cell_type": "code",
   "execution_count": 18,
   "metadata": {
    "scrolled": true
   },
   "outputs": [
    {
     "data": {
      "text/html": [
       "<div>\n",
       "<style scoped>\n",
       "    .dataframe tbody tr th:only-of-type {\n",
       "        vertical-align: middle;\n",
       "    }\n",
       "\n",
       "    .dataframe tbody tr th {\n",
       "        vertical-align: top;\n",
       "    }\n",
       "\n",
       "    .dataframe thead th {\n",
       "        text-align: right;\n",
       "    }\n",
       "</style>\n",
       "<table border=\"1\" class=\"dataframe\">\n",
       "  <thead>\n",
       "    <tr style=\"text-align: right;\">\n",
       "      <th></th>\n",
       "      <th>Photo/video_identifier</th>\n",
       "      <th>Photo/video_hash</th>\n",
       "      <th>User_NSID</th>\n",
       "      <th>User_nickname</th>\n",
       "      <th>Date_taken</th>\n",
       "      <th>Date_uploaded</th>\n",
       "      <th>Capture_device</th>\n",
       "      <th>Title</th>\n",
       "      <th>Description</th>\n",
       "      <th>User_tags</th>\n",
       "      <th>...</th>\n",
       "      <th>Photo/video_download_URL</th>\n",
       "      <th>License_name</th>\n",
       "      <th>License_URL</th>\n",
       "      <th>Photo/video_server_identifier</th>\n",
       "      <th>Photo/video_farm_identifier</th>\n",
       "      <th>Photo/video_secret</th>\n",
       "      <th>Photo/video_secret_original</th>\n",
       "      <th>Extension</th>\n",
       "      <th>Photos/video_marker_(0/1)</th>\n",
       "      <th>autotags</th>\n",
       "    </tr>\n",
       "    <tr>\n",
       "      <th>Line_number</th>\n",
       "      <th></th>\n",
       "      <th></th>\n",
       "      <th></th>\n",
       "      <th></th>\n",
       "      <th></th>\n",
       "      <th></th>\n",
       "      <th></th>\n",
       "      <th></th>\n",
       "      <th></th>\n",
       "      <th></th>\n",
       "      <th></th>\n",
       "      <th></th>\n",
       "      <th></th>\n",
       "      <th></th>\n",
       "      <th></th>\n",
       "      <th></th>\n",
       "      <th></th>\n",
       "      <th></th>\n",
       "      <th></th>\n",
       "      <th></th>\n",
       "      <th></th>\n",
       "    </tr>\n",
       "  </thead>\n",
       "  <tbody>\n",
       "    <tr>\n",
       "      <th>0</th>\n",
       "      <td>6985418911</td>\n",
       "      <td>4e2f7a26a1dfbf165a7e30bdabf7e72a</td>\n",
       "      <td>39089491@N00</td>\n",
       "      <td>nino63004</td>\n",
       "      <td>2012-02-16 09:56:37.0</td>\n",
       "      <td>1331840483</td>\n",
       "      <td>Canon+PowerShot+ELPH+310+HS</td>\n",
       "      <td>IMG_0520</td>\n",
       "      <td>NaN</td>\n",
       "      <td>[canon, canon+powershot+hs+310, carnival+escat...</td>\n",
       "      <td>...</td>\n",
       "      <td>http://farm8.staticflickr.com/7205/6985418911_...</td>\n",
       "      <td>Attribution-NonCommercial-NoDerivs License</td>\n",
       "      <td>http://creativecommons.org/licenses/by-nc-nd/2.0/</td>\n",
       "      <td>7205</td>\n",
       "      <td>8</td>\n",
       "      <td>df7747990d</td>\n",
       "      <td>692d7e0a7f</td>\n",
       "      <td>jpg</td>\n",
       "      <td>0</td>\n",
       "      <td>[atoll, bay, beach, coast, harbor, lake, lakef...</td>\n",
       "    </tr>\n",
       "    <tr>\n",
       "      <th>1</th>\n",
       "      <td>10201275523</td>\n",
       "      <td>6ae91cc04fe06697c9404a5360b9b62</td>\n",
       "      <td>55289779@N00</td>\n",
       "      <td>booledozer</td>\n",
       "      <td>2013-10-09 15:30:13.0</td>\n",
       "      <td>1381464628</td>\n",
       "      <td>Panasonic+DMC-ZS10</td>\n",
       "      <td>Images+from+the+intersection+of+Parliament+and...</td>\n",
       "      <td>NaN</td>\n",
       "      <td>NaN</td>\n",
       "      <td>...</td>\n",
       "      <td>http://farm6.staticflickr.com/5465/10201275523...</td>\n",
       "      <td>Attribution-ShareAlike License</td>\n",
       "      <td>http://creativecommons.org/licenses/by-sa/2.0/</td>\n",
       "      <td>5465</td>\n",
       "      <td>6</td>\n",
       "      <td>3e6ea67c7f</td>\n",
       "      <td>f400826feb</td>\n",
       "      <td>jpg</td>\n",
       "      <td>0</td>\n",
       "      <td>[alley, apartment, architecture, brownstone, b...</td>\n",
       "    </tr>\n",
       "    <tr>\n",
       "      <th>2</th>\n",
       "      <td>2297552664</td>\n",
       "      <td>b61f252678da02eaff453bce575cb6</td>\n",
       "      <td>8134076@N03</td>\n",
       "      <td>nathalie.cone</td>\n",
       "      <td>2008-02-27 08:14:36.0</td>\n",
       "      <td>1204166915</td>\n",
       "      <td>Canon+PowerShot+S2+IS</td>\n",
       "      <td>denise%27s+peanut+chicken</td>\n",
       "      <td>recipe+here%3A+%3Ca+href%3D%22http%3A%2F%2Fall...</td>\n",
       "      <td>NaN</td>\n",
       "      <td>...</td>\n",
       "      <td>http://farm4.staticflickr.com/3171/2297552664_...</td>\n",
       "      <td>Attribution-NonCommercial-NoDerivs License</td>\n",
       "      <td>http://creativecommons.org/licenses/by-nc-nd/2.0/</td>\n",
       "      <td>3171</td>\n",
       "      <td>4</td>\n",
       "      <td>1ee0e8855d</td>\n",
       "      <td>bed1547a29</td>\n",
       "      <td>jpg</td>\n",
       "      <td>0</td>\n",
       "      <td>[curry, dish, food, greens, indoor, meal, past...</td>\n",
       "    </tr>\n",
       "    <tr>\n",
       "      <th>3</th>\n",
       "      <td>7289030198</td>\n",
       "      <td>b545e6a773632e2e65e6ecf1bf385</td>\n",
       "      <td>53430201@N03</td>\n",
       "      <td>sarabeephoto</td>\n",
       "      <td>2012-05-28 00:23:30.0</td>\n",
       "      <td>1338233199</td>\n",
       "      <td>Canon+EOS+DIGITAL+REBEL+XSi</td>\n",
       "      <td>blip+fest+2012+night+3</td>\n",
       "      <td>NaN</td>\n",
       "      <td>[blip, blip12ny, blipfest, blipfestival, blipf...</td>\n",
       "      <td>...</td>\n",
       "      <td>http://farm8.staticflickr.com/7231/7289030198_...</td>\n",
       "      <td>Attribution-NonCommercial-NoDerivs License</td>\n",
       "      <td>http://creativecommons.org/licenses/by-nc-nd/2.0/</td>\n",
       "      <td>7231</td>\n",
       "      <td>8</td>\n",
       "      <td>1f1ba44113</td>\n",
       "      <td>bc36823aec</td>\n",
       "      <td>jpg</td>\n",
       "      <td>0</td>\n",
       "      <td>[art, concert, fire, light painting, magenta, ...</td>\n",
       "    </tr>\n",
       "    <tr>\n",
       "      <th>4</th>\n",
       "      <td>4140939180</td>\n",
       "      <td>7ef1a7715642be6fab2273718c876cae</td>\n",
       "      <td>12940050@N02</td>\n",
       "      <td>enjoiskate8</td>\n",
       "      <td>2009-11-21 08:03:30.0</td>\n",
       "      <td>1259417601</td>\n",
       "      <td>PENTAX+Corporation+PENTAX+K10D</td>\n",
       "      <td>IMGP7409</td>\n",
       "      <td>NaN</td>\n",
       "      <td>[2009, amsterdam, clinquest, fall, netherlands...</td>\n",
       "      <td>...</td>\n",
       "      <td>http://farm3.staticflickr.com/2565/4140939180_...</td>\n",
       "      <td>Attribution-NonCommercial-NoDerivs License</td>\n",
       "      <td>http://creativecommons.org/licenses/by-nc-nd/2.0/</td>\n",
       "      <td>2565</td>\n",
       "      <td>3</td>\n",
       "      <td>07aeded917</td>\n",
       "      <td>da7f4b048e</td>\n",
       "      <td>jpg</td>\n",
       "      <td>0</td>\n",
       "      <td>[friends, groupshot, indoor, people]</td>\n",
       "    </tr>\n",
       "  </tbody>\n",
       "</table>\n",
       "<p>5 rows × 25 columns</p>\n",
       "</div>"
      ],
      "text/plain": [
       "             Photo/video_identifier                  Photo/video_hash  \\\n",
       "Line_number                                                             \n",
       "0                        6985418911  4e2f7a26a1dfbf165a7e30bdabf7e72a   \n",
       "1                       10201275523   6ae91cc04fe06697c9404a5360b9b62   \n",
       "2                        2297552664    b61f252678da02eaff453bce575cb6   \n",
       "3                        7289030198     b545e6a773632e2e65e6ecf1bf385   \n",
       "4                        4140939180  7ef1a7715642be6fab2273718c876cae   \n",
       "\n",
       "                User_NSID  User_nickname             Date_taken  \\\n",
       "Line_number                                                       \n",
       "0            39089491@N00      nino63004  2012-02-16 09:56:37.0   \n",
       "1            55289779@N00     booledozer  2013-10-09 15:30:13.0   \n",
       "2             8134076@N03  nathalie.cone  2008-02-27 08:14:36.0   \n",
       "3            53430201@N03   sarabeephoto  2012-05-28 00:23:30.0   \n",
       "4            12940050@N02    enjoiskate8  2009-11-21 08:03:30.0   \n",
       "\n",
       "             Date_uploaded                  Capture_device  \\\n",
       "Line_number                                                  \n",
       "0               1331840483     Canon+PowerShot+ELPH+310+HS   \n",
       "1               1381464628              Panasonic+DMC-ZS10   \n",
       "2               1204166915           Canon+PowerShot+S2+IS   \n",
       "3               1338233199     Canon+EOS+DIGITAL+REBEL+XSi   \n",
       "4               1259417601  PENTAX+Corporation+PENTAX+K10D   \n",
       "\n",
       "                                                         Title  \\\n",
       "Line_number                                                      \n",
       "0                                                     IMG_0520   \n",
       "1            Images+from+the+intersection+of+Parliament+and...   \n",
       "2                                    denise%27s+peanut+chicken   \n",
       "3                                       blip+fest+2012+night+3   \n",
       "4                                                     IMGP7409   \n",
       "\n",
       "                                                   Description  \\\n",
       "Line_number                                                      \n",
       "0                                                          NaN   \n",
       "1                                                          NaN   \n",
       "2            recipe+here%3A+%3Ca+href%3D%22http%3A%2F%2Fall...   \n",
       "3                                                          NaN   \n",
       "4                                                          NaN   \n",
       "\n",
       "                                                     User_tags  ...  \\\n",
       "Line_number                                                     ...   \n",
       "0            [canon, canon+powershot+hs+310, carnival+escat...  ...   \n",
       "1                                                          NaN  ...   \n",
       "2                                                          NaN  ...   \n",
       "3            [blip, blip12ny, blipfest, blipfestival, blipf...  ...   \n",
       "4            [2009, amsterdam, clinquest, fall, netherlands...  ...   \n",
       "\n",
       "                                      Photo/video_download_URL  \\\n",
       "Line_number                                                      \n",
       "0            http://farm8.staticflickr.com/7205/6985418911_...   \n",
       "1            http://farm6.staticflickr.com/5465/10201275523...   \n",
       "2            http://farm4.staticflickr.com/3171/2297552664_...   \n",
       "3            http://farm8.staticflickr.com/7231/7289030198_...   \n",
       "4            http://farm3.staticflickr.com/2565/4140939180_...   \n",
       "\n",
       "                                           License_name  \\\n",
       "Line_number                                               \n",
       "0            Attribution-NonCommercial-NoDerivs License   \n",
       "1                        Attribution-ShareAlike License   \n",
       "2            Attribution-NonCommercial-NoDerivs License   \n",
       "3            Attribution-NonCommercial-NoDerivs License   \n",
       "4            Attribution-NonCommercial-NoDerivs License   \n",
       "\n",
       "                                                   License_URL  \\\n",
       "Line_number                                                      \n",
       "0            http://creativecommons.org/licenses/by-nc-nd/2.0/   \n",
       "1               http://creativecommons.org/licenses/by-sa/2.0/   \n",
       "2            http://creativecommons.org/licenses/by-nc-nd/2.0/   \n",
       "3            http://creativecommons.org/licenses/by-nc-nd/2.0/   \n",
       "4            http://creativecommons.org/licenses/by-nc-nd/2.0/   \n",
       "\n",
       "             Photo/video_server_identifier Photo/video_farm_identifier  \\\n",
       "Line_number                                                              \n",
       "0                                     7205                           8   \n",
       "1                                     5465                           6   \n",
       "2                                     3171                           4   \n",
       "3                                     7231                           8   \n",
       "4                                     2565                           3   \n",
       "\n",
       "            Photo/video_secret Photo/video_secret_original Extension  \\\n",
       "Line_number                                                            \n",
       "0                   df7747990d                  692d7e0a7f       jpg   \n",
       "1                   3e6ea67c7f                  f400826feb       jpg   \n",
       "2                   1ee0e8855d                  bed1547a29       jpg   \n",
       "3                   1f1ba44113                  bc36823aec       jpg   \n",
       "4                   07aeded917                  da7f4b048e       jpg   \n",
       "\n",
       "             Photos/video_marker_(0/1)  \\\n",
       "Line_number                              \n",
       "0                                    0   \n",
       "1                                    0   \n",
       "2                                    0   \n",
       "3                                    0   \n",
       "4                                    0   \n",
       "\n",
       "                                                      autotags  \n",
       "Line_number                                                     \n",
       "0            [atoll, bay, beach, coast, harbor, lake, lakef...  \n",
       "1            [alley, apartment, architecture, brownstone, b...  \n",
       "2            [curry, dish, food, greens, indoor, meal, past...  \n",
       "3            [art, concert, fire, light painting, magenta, ...  \n",
       "4                         [friends, groupshot, indoor, people]  \n",
       "\n",
       "[5 rows x 25 columns]"
      ]
     },
     "execution_count": 18,
     "metadata": {},
     "output_type": "execute_result"
    }
   ],
   "source": [
    "dataset.User_tags = dataset.User_tags.map(lambda x: x.split(','), na_action='ignore')\n",
    "dataset.head()"
   ]
  },
  {
   "cell_type": "markdown",
   "metadata": {},
   "source": [
    "## Prepare for use"
   ]
  },
  {
   "cell_type": "markdown",
   "metadata": {},
   "source": [
    "We might need to limit the amount of different tags, perhaps for both features (autotags) as well as the classes (user_tags), but at least for the classes, so let's take a look at this."
   ]
  },
  {
   "cell_type": "code",
   "execution_count": 19,
   "metadata": {},
   "outputs": [],
   "source": [
    "all_autotags = pd.Series((tag for tag_list in dataset.autotags.dropna() for tag in tag_list))"
   ]
  },
  {
   "cell_type": "code",
   "execution_count": 20,
   "metadata": {},
   "outputs": [
    {
     "name": "stdout",
     "output_type": "stream",
     "text": [
      "number of autotags:\n",
      "total: 6802159\n",
      "unique: 1570\n",
      "ratio autotags/item: 8.50269875\n"
     ]
    }
   ],
   "source": [
    "print(\"number of autotags:\")\n",
    "print(\"total: \" + str(len(all_autotags)))\n",
    "print(\"unique: \" + str(len(all_autotags.unique())))\n",
    "print(\"ratio autotags/item: \" + str(len(all_autotags) / dataset.shape[0]))"
   ]
  },
  {
   "cell_type": "code",
   "execution_count": 21,
   "metadata": {},
   "outputs": [
    {
     "name": "stdout",
     "output_type": "stream",
     "text": [
      "number of user tags:\n",
      "total: 2994374\n",
      "unique: 601458\n",
      "ratio user_tags/item: 3.7429675\n"
     ]
    }
   ],
   "source": [
    "all_usertags = pd.Series((tag for tag_list in dataset.User_tags.dropna() for tag in tag_list))\n",
    "print(\"number of user tags:\")\n",
    "print(\"total: \" + str(len(all_usertags)))\n",
    "print(\"unique: \" + str(len(all_usertags.unique())))\n",
    "print(\"ratio user_tags/item: \" + str(len(all_usertags) / dataset.shape[0]))"
   ]
  },
  {
   "cell_type": "markdown",
   "metadata": {},
   "source": [
    "Hmm the amount of unique user tags is a bit unnerving.. Let's find out the distribution of the user tags, how many occurrences there are of each unique tag."
   ]
  },
  {
   "cell_type": "code",
   "execution_count": 22,
   "metadata": {},
   "outputs": [
    {
     "data": {
      "image/png": "[encoded data removed]",
      "text/plain": [
       "<Figure size 432x288 with 1 Axes>"
      ]
     },
     "metadata": {
      "needs_background": "light"
     },
     "output_type": "display_data"
    }
   ],
   "source": [
    "fig, ax = plt.subplots()\n",
    "all_usertags.value_counts().hist(bins=200)\n",
    "ax.set_yscale('log')"
   ]
  },
  {
   "cell_type": "markdown",
   "metadata": {},
   "source": [
    "Seems to be at least 1000 tags that occur more than 5 times."
   ]
  },
  {
   "cell_type": "code",
   "execution_count": 23,
   "metadata": {},
   "outputs": [
    {
     "data": {
      "text/plain": [
       "0                     canon\n",
       "1    canon+powershot+hs+310\n",
       "2          carnival+escatay\n",
       "3                    cruise\n",
       "4                      elph\n",
       "dtype: object"
      ]
     },
     "execution_count": 23,
     "metadata": {},
     "output_type": "execute_result"
    }
   ],
   "source": [
    "all_usertags.head()"
   ]
  },
  {
   "cell_type": "code",
   "execution_count": 24,
   "metadata": {},
   "outputs": [
    {
     "data": {
      "text/plain": [
       "square                                                                                                                                                               8630\n",
       "iphoneography                                                                                                                                                        8291\n",
       "square+format                                                                                                                                                        8045\n",
       "instagram+app                                                                                                                                                        7993\n",
       "travel                                                                                                                                                               7199\n",
       "2010                                                                                                                                                                 7192\n",
       "nikon                                                                                                                                                                6963\n",
       "2011                                                                                                                                                                 6936\n",
       "2009                                                                                                                                                                 6905\n",
       "canon                                                                                                                                                                6808\n",
       "2012                                                                                                                                                                 6689\n",
       "california                                                                                                                                                           6653\n",
       "2008                                                                                                                                                                 6469\n",
       "usa                                                                                                                                                                  6457\n",
       "japan                                                                                                                                                                6351\n",
       "2013                                                                                                                                                                 6228\n",
       "wedding                                                                                                                                                              5987\n",
       "london                                                                                                                                                               5912\n",
       "2007                                                                                                                                                                 5649\n",
       "art                                                                                                                                                                  5559\n",
       "music                                                                                                                                                                5268\n",
       "party                                                                                                                                                                4966\n",
       "nature                                                                                                                                                               4791\n",
       "france                                                                                                                                                               4762\n",
       "taiwan                                                                                                                                                               4365\n",
       "beach                                                                                                                                                                4286\n",
       "nyc                                                                                                                                                                  4173\n",
       "vacation                                                                                                                                                             4130\n",
       "new+york                                                                                                                                                             4010\n",
       "family                                                                                                                                                               4000\n",
       "                                                                                                                                                                     ... \n",
       "cheju                                                                                                                                                                   1\n",
       "museum+of+georgia                                                                                                                                                       1\n",
       "ongoingmoment                                                                                                                                                           1\n",
       "leatherrepair                                                                                                                                                           1\n",
       "phoenix+pub                                                                                                                                                             1\n",
       "club-lightening                                                                                                                                                         1\n",
       "collegecycling                                                                                                                                                          1\n",
       "uusc                                                                                                                                                                    1\n",
       "intermontwv                                                                                                                                                             1\n",
       "tropa+de+choque                                                                                                                                                         1\n",
       "tapada+das+necessidades                                                                                                                                                 1\n",
       "o+farol                                                                                                                                                                 1\n",
       "skypeme                                                                                                                                                                 1\n",
       "antoniette+sayeh                                                                                                                                                        1\n",
       "great+seto+bridge                                                                                                                                                       1\n",
       "upsu_elections                                                                                                                                                          1\n",
       "kf36                                                                                                                                                                    1\n",
       "scorci                                                                                                                                                                  1\n",
       "educational+opportunites                                                                                                                                                1\n",
       "vr+55-200mm+f%2F4-5.6+g                                                                                                                                                 1\n",
       "tunas+samudera                                                                                                                                                          1\n",
       "botanischergarten+bern                                                                                                                                                  1\n",
       "waving                                                                                                                                                                  1\n",
       "fiesta+amigos                                                                                                                                                           1\n",
       "alpha+industries                                                                                                                                                        1\n",
       "02092009nixon                                                                                                                                                           1\n",
       "diaframma+fiumani+++pif+people+involvement+festival+concerto++concerto+bologna+dal+vivo+2010+2011+bolognetti+tpo+luci+colori+colore+notte+rock+indie+indipendente       1\n",
       "highqualityanimals                                                                                                                                                      1\n",
       "samuel+philip+hayag                                                                                                                                                     1\n",
       "karlos                                                                                                                                                                  1\n",
       "Length: 601458, dtype: int64"
      ]
     },
     "execution_count": 24,
     "metadata": {},
     "output_type": "execute_result"
    }
   ],
   "source": [
    "value_counts = all_usertags.value_counts()\n",
    "value_counts"
   ]
  },
  {
   "cell_type": "markdown",
   "metadata": {},
   "source": [
    "It seems that we have to limit the amount of tags to the X most common ones. We will however do this later, after we made sure that the items have multiple tags. We start with filtering this out."
   ]
  },
  {
   "cell_type": "markdown",
   "metadata": {},
   "source": [
    "### Filter out the user tags:"
   ]
  },
  {
   "cell_type": "code",
   "execution_count": 25,
   "metadata": {},
   "outputs": [
    {
     "data": {
      "text/html": [
       "<div>\n",
       "<style scoped>\n",
       "    .dataframe tbody tr th:only-of-type {\n",
       "        vertical-align: middle;\n",
       "    }\n",
       "\n",
       "    .dataframe tbody tr th {\n",
       "        vertical-align: top;\n",
       "    }\n",
       "\n",
       "    .dataframe thead th {\n",
       "        text-align: right;\n",
       "    }\n",
       "</style>\n",
       "<table border=\"1\" class=\"dataframe\">\n",
       "  <thead>\n",
       "    <tr style=\"text-align: right;\">\n",
       "      <th></th>\n",
       "      <th>User_tags</th>\n",
       "      <th>autotags</th>\n",
       "    </tr>\n",
       "    <tr>\n",
       "      <th>Line_number</th>\n",
       "      <th></th>\n",
       "      <th></th>\n",
       "    </tr>\n",
       "  </thead>\n",
       "  <tbody>\n",
       "    <tr>\n",
       "      <th>0</th>\n",
       "      <td>[canon, canon+powershot+hs+310, carnival+escat...</td>\n",
       "      <td>[atoll, bay, beach, coast, harbor, lake, lakef...</td>\n",
       "    </tr>\n",
       "    <tr>\n",
       "      <th>1</th>\n",
       "      <td>NaN</td>\n",
       "      <td>[alley, apartment, architecture, brownstone, b...</td>\n",
       "    </tr>\n",
       "  </tbody>\n",
       "</table>\n",
       "</div>"
      ],
      "text/plain": [
       "                                                     User_tags  \\\n",
       "Line_number                                                      \n",
       "0            [canon, canon+powershot+hs+310, carnival+escat...   \n",
       "1                                                          NaN   \n",
       "\n",
       "                                                      autotags  \n",
       "Line_number                                                     \n",
       "0            [atoll, bay, beach, coast, harbor, lake, lakef...  \n",
       "1            [alley, apartment, architecture, brownstone, b...  "
      ]
     },
     "execution_count": 25,
     "metadata": {},
     "output_type": "execute_result"
    }
   ],
   "source": [
    "prepare_dataset = dataset[['User_tags', 'autotags']]\n",
    "prepare_dataset.head(2)"
   ]
  },
  {
   "cell_type": "markdown",
   "metadata": {},
   "source": [
    "Drop nans, there are a lot of photos which does not have any user-added tags."
   ]
  },
  {
   "cell_type": "code",
   "execution_count": 26,
   "metadata": {},
   "outputs": [
    {
     "name": "stdout",
     "output_type": "stream",
     "text": [
      "(800000, 2)\n",
      "(463593, 2)\n"
     ]
    },
    {
     "data": {
      "text/html": [
       "<div>\n",
       "<style scoped>\n",
       "    .dataframe tbody tr th:only-of-type {\n",
       "        vertical-align: middle;\n",
       "    }\n",
       "\n",
       "    .dataframe tbody tr th {\n",
       "        vertical-align: top;\n",
       "    }\n",
       "\n",
       "    .dataframe thead th {\n",
       "        text-align: right;\n",
       "    }\n",
       "</style>\n",
       "<table border=\"1\" class=\"dataframe\">\n",
       "  <thead>\n",
       "    <tr style=\"text-align: right;\">\n",
       "      <th></th>\n",
       "      <th>User_tags</th>\n",
       "      <th>autotags</th>\n",
       "    </tr>\n",
       "    <tr>\n",
       "      <th>Line_number</th>\n",
       "      <th></th>\n",
       "      <th></th>\n",
       "    </tr>\n",
       "  </thead>\n",
       "  <tbody>\n",
       "    <tr>\n",
       "      <th>0</th>\n",
       "      <td>[canon, canon+powershot+hs+310, carnival+escat...</td>\n",
       "      <td>[atoll, bay, beach, coast, harbor, lake, lakef...</td>\n",
       "    </tr>\n",
       "    <tr>\n",
       "      <th>3</th>\n",
       "      <td>[blip, blip12ny, blipfest, blipfestival, blipf...</td>\n",
       "      <td>[art, concert, fire, light painting, magenta, ...</td>\n",
       "    </tr>\n",
       "  </tbody>\n",
       "</table>\n",
       "</div>"
      ],
      "text/plain": [
       "                                                     User_tags  \\\n",
       "Line_number                                                      \n",
       "0            [canon, canon+powershot+hs+310, carnival+escat...   \n",
       "3            [blip, blip12ny, blipfest, blipfestival, blipf...   \n",
       "\n",
       "                                                      autotags  \n",
       "Line_number                                                     \n",
       "0            [atoll, bay, beach, coast, harbor, lake, lakef...  \n",
       "3            [art, concert, fire, light painting, magenta, ...  "
      ]
     },
     "execution_count": 26,
     "metadata": {},
     "output_type": "execute_result"
    }
   ],
   "source": [
    "print(prepare_dataset.shape)\n",
    "prepare_dataset = prepare_dataset.dropna()\n",
    "print(prepare_dataset.shape)\n",
    "prepare_dataset.head(2)"
   ]
  },
  {
   "cell_type": "code",
   "execution_count": 27,
   "metadata": {},
   "outputs": [
    {
     "ename": "IndentationError",
     "evalue": "unexpected indent (<ipython-input-27-1fdff0a82763>, line 2)",
     "output_type": "error",
     "traceback": [
      "\u001b[0;36m  File \u001b[0;32m\"<ipython-input-27-1fdff0a82763>\"\u001b[0;36m, line \u001b[0;32m2\u001b[0m\n\u001b[0;31m    [tag for tag in photo_tags if tag in common_user_tags],\u001b[0m\n\u001b[0m    ^\u001b[0m\n\u001b[0;31mIndentationError\u001b[0m\u001b[0;31m:\u001b[0m unexpected indent\n"
     ]
    }
   ],
   "source": [
    "#prepare_dataset.User_tags = prepare_dataset.User_tags.map(lambda photo_tags: \n",
    "#                                                          [tag for tag in photo_tags if tag in common_user_tags], \n",
    "#                                                          na_action='ignore')"
   ]
  },
  {
   "cell_type": "markdown",
   "metadata": {},
   "source": [
    "Filter out items with at least 5 user tags"
   ]
  },
  {
   "cell_type": "code",
   "execution_count": 28,
   "metadata": {
    "scrolled": false
   },
   "outputs": [
    {
     "name": "stdout",
     "output_type": "stream",
     "text": [
      "Number of items: 182627.\n",
      "First three: \n"
     ]
    },
    {
     "data": {
      "text/html": [
       "<div>\n",
       "<style scoped>\n",
       "    .dataframe tbody tr th:only-of-type {\n",
       "        vertical-align: middle;\n",
       "    }\n",
       "\n",
       "    .dataframe tbody tr th {\n",
       "        vertical-align: top;\n",
       "    }\n",
       "\n",
       "    .dataframe thead th {\n",
       "        text-align: right;\n",
       "    }\n",
       "</style>\n",
       "<table border=\"1\" class=\"dataframe\">\n",
       "  <thead>\n",
       "    <tr style=\"text-align: right;\">\n",
       "      <th></th>\n",
       "      <th>User_tags</th>\n",
       "      <th>autotags</th>\n",
       "    </tr>\n",
       "    <tr>\n",
       "      <th>Line_number</th>\n",
       "      <th></th>\n",
       "      <th></th>\n",
       "    </tr>\n",
       "  </thead>\n",
       "  <tbody>\n",
       "    <tr>\n",
       "      <th>0</th>\n",
       "      <td>[canon, canon+powershot+hs+310, carnival+escat...</td>\n",
       "      <td>[atoll, bay, beach, coast, harbor, lake, lakef...</td>\n",
       "    </tr>\n",
       "    <tr>\n",
       "      <th>3</th>\n",
       "      <td>[blip, blip12ny, blipfest, blipfestival, blipf...</td>\n",
       "      <td>[art, concert, fire, light painting, magenta, ...</td>\n",
       "    </tr>\n",
       "    <tr>\n",
       "      <th>4</th>\n",
       "      <td>[2009, amsterdam, clinquest, fall, netherlands...</td>\n",
       "      <td>[friends, groupshot, indoor, people]</td>\n",
       "    </tr>\n",
       "  </tbody>\n",
       "</table>\n",
       "</div>"
      ],
      "text/plain": [
       "                                                     User_tags  \\\n",
       "Line_number                                                      \n",
       "0            [canon, canon+powershot+hs+310, carnival+escat...   \n",
       "3            [blip, blip12ny, blipfest, blipfestival, blipf...   \n",
       "4            [2009, amsterdam, clinquest, fall, netherlands...   \n",
       "\n",
       "                                                      autotags  \n",
       "Line_number                                                     \n",
       "0            [atoll, bay, beach, coast, harbor, lake, lakef...  \n",
       "3            [art, concert, fire, light painting, magenta, ...  \n",
       "4                         [friends, groupshot, indoor, people]  "
      ]
     },
     "execution_count": 28,
     "metadata": {},
     "output_type": "execute_result"
    }
   ],
   "source": [
    "asd = prepare_dataset.query('User_tags.str.len() > 5')\n",
    "print(\"Number of items: \" + str(asd.shape[0]) + \".\")\n",
    "print(\"First three: \")\n",
    "asd.head(3)"
   ]
  },
  {
   "cell_type": "code",
   "execution_count": 29,
   "metadata": {},
   "outputs": [],
   "source": [
    "prepare_dataset = asd"
   ]
  },
  {
   "cell_type": "code",
   "execution_count": 30,
   "metadata": {},
   "outputs": [],
   "source": [
    "all_user_tags = pd.Series((tag for tag_list in prepare_dataset.User_tags for tag in tag_list))"
   ]
  },
  {
   "cell_type": "code",
   "execution_count": 31,
   "metadata": {},
   "outputs": [
    {
     "data": {
      "text/plain": [
       "nikon           5864\n",
       "canon           5732\n",
       "usa             4554\n",
       "2012            4548\n",
       "2010            4544\n",
       "2011            4413\n",
       "music           4412\n",
       "travel          4372\n",
       "california      4336\n",
       "art             4314\n",
       "2013            4149\n",
       "2009            3942\n",
       "2008            3667\n",
       "nature          3598\n",
       "party           3405\n",
       "japan           3323\n",
       "city            3247\n",
       "people          3108\n",
       "beach           3046\n",
       "taiwan          3011\n",
       "london          2998\n",
       "2007            2978\n",
       "wedding         2973\n",
       "water           2900\n",
       "summer          2859\n",
       "park            2848\n",
       "europe          2755\n",
       "new+york        2679\n",
       "canada          2637\n",
       "france          2635\n",
       "                ... \n",
       "activism         112\n",
       "highlands        112\n",
       "capitol          112\n",
       "sheffield        112\n",
       "d70s             112\n",
       "trash            112\n",
       "8                112\n",
       "kittens          112\n",
       "gay+pride        112\n",
       "dock             112\n",
       "28mm             112\n",
       "aves             111\n",
       "al               111\n",
       "graff            111\n",
       "en               111\n",
       "singing          111\n",
       "t%C3%BCrkiye     111\n",
       "mazda            111\n",
       "snowboard        111\n",
       "lyon+college     111\n",
       "abigfave         111\n",
       "in               111\n",
       "presentation     111\n",
       "bugs             111\n",
       "base             111\n",
       "otto             111\n",
       "brittany         111\n",
       "son              111\n",
       "6                111\n",
       "xsi              111\n",
       "Length: 2015, dtype: int64"
      ]
     },
     "execution_count": 31,
     "metadata": {},
     "output_type": "execute_result"
    }
   ],
   "source": [
    "user_value_counts = all_user_tags.value_counts()\n",
    "user_value_counts[user_value_counts > 110]"
   ]
  },
  {
   "cell_type": "code",
   "execution_count": 32,
   "metadata": {},
   "outputs": [
    {
     "data": {
      "text/plain": [
       "2015"
      ]
     },
     "execution_count": 32,
     "metadata": {},
     "output_type": "execute_result"
    }
   ],
   "source": [
    "common_user_tags = set(user_value_counts[user_value_counts > 110].index)\n",
    "len(common_user_tags)"
   ]
  },
  {
   "cell_type": "code",
   "execution_count": 33,
   "metadata": {},
   "outputs": [],
   "source": [
    "prepare_dataset.User_tags = prepare_dataset.User_tags.map(lambda tag_list: [tag for tag in tag_list if tag in common_user_tags])"
   ]
  },
  {
   "cell_type": "code",
   "execution_count": 34,
   "metadata": {},
   "outputs": [
    {
     "data": {
      "text/html": [
       "<div>\n",
       "<style scoped>\n",
       "    .dataframe tbody tr th:only-of-type {\n",
       "        vertical-align: middle;\n",
       "    }\n",
       "\n",
       "    .dataframe tbody tr th {\n",
       "        vertical-align: top;\n",
       "    }\n",
       "\n",
       "    .dataframe thead th {\n",
       "        text-align: right;\n",
       "    }\n",
       "</style>\n",
       "<table border=\"1\" class=\"dataframe\">\n",
       "  <thead>\n",
       "    <tr style=\"text-align: right;\">\n",
       "      <th></th>\n",
       "      <th>User_tags</th>\n",
       "      <th>autotags</th>\n",
       "    </tr>\n",
       "    <tr>\n",
       "      <th>Line_number</th>\n",
       "      <th></th>\n",
       "      <th></th>\n",
       "    </tr>\n",
       "  </thead>\n",
       "  <tbody>\n",
       "    <tr>\n",
       "      <th>0</th>\n",
       "      <td>[canon, cruise, powershot]</td>\n",
       "      <td>[atoll, bay, beach, coast, harbor, lake, lakef...</td>\n",
       "    </tr>\n",
       "    <tr>\n",
       "      <th>3</th>\n",
       "      <td>[]</td>\n",
       "      <td>[art, concert, fire, light painting, magenta, ...</td>\n",
       "    </tr>\n",
       "    <tr>\n",
       "      <th>4</th>\n",
       "      <td>[2009, amsterdam, fall, netherlands, travel]</td>\n",
       "      <td>[friends, groupshot, indoor, people]</td>\n",
       "    </tr>\n",
       "    <tr>\n",
       "      <th>10</th>\n",
       "      <td>[k10d, pentax, spain, valencia]</td>\n",
       "      <td>[architecture, beam, bridge, building structur...</td>\n",
       "    </tr>\n",
       "    <tr>\n",
       "      <th>18</th>\n",
       "      <td>[]</td>\n",
       "      <td>[adobe, ancient, architecture, art, brick, bui...</td>\n",
       "    </tr>\n",
       "  </tbody>\n",
       "</table>\n",
       "</div>"
      ],
      "text/plain": [
       "                                                User_tags  \\\n",
       "Line_number                                                 \n",
       "0                              [canon, cruise, powershot]   \n",
       "3                                                      []   \n",
       "4            [2009, amsterdam, fall, netherlands, travel]   \n",
       "10                        [k10d, pentax, spain, valencia]   \n",
       "18                                                     []   \n",
       "\n",
       "                                                      autotags  \n",
       "Line_number                                                     \n",
       "0            [atoll, bay, beach, coast, harbor, lake, lakef...  \n",
       "3            [art, concert, fire, light painting, magenta, ...  \n",
       "4                         [friends, groupshot, indoor, people]  \n",
       "10           [architecture, beam, bridge, building structur...  \n",
       "18           [adobe, ancient, architecture, art, brick, bui...  "
      ]
     },
     "execution_count": 34,
     "metadata": {},
     "output_type": "execute_result"
    }
   ],
   "source": [
    "prepare_dataset.head()"
   ]
  },
  {
   "cell_type": "markdown",
   "metadata": {},
   "source": [
    "Do longer than 5 filtering again:"
   ]
  },
  {
   "cell_type": "code",
   "execution_count": 35,
   "metadata": {},
   "outputs": [
    {
     "name": "stdout",
     "output_type": "stream",
     "text": [
      "Number of items: 50297.\n",
      "First three: \n"
     ]
    },
    {
     "data": {
      "text/html": [
       "<div>\n",
       "<style scoped>\n",
       "    .dataframe tbody tr th:only-of-type {\n",
       "        vertical-align: middle;\n",
       "    }\n",
       "\n",
       "    .dataframe tbody tr th {\n",
       "        vertical-align: top;\n",
       "    }\n",
       "\n",
       "    .dataframe thead th {\n",
       "        text-align: right;\n",
       "    }\n",
       "</style>\n",
       "<table border=\"1\" class=\"dataframe\">\n",
       "  <thead>\n",
       "    <tr style=\"text-align: right;\">\n",
       "      <th></th>\n",
       "      <th>User_tags</th>\n",
       "      <th>autotags</th>\n",
       "    </tr>\n",
       "    <tr>\n",
       "      <th>Line_number</th>\n",
       "      <th></th>\n",
       "      <th></th>\n",
       "    </tr>\n",
       "  </thead>\n",
       "  <tbody>\n",
       "    <tr>\n",
       "      <th>31</th>\n",
       "      <td>[america, arab, child, children, facebook, fre...</td>\n",
       "      <td>[arch, architecture, fort, fortification, goth...</td>\n",
       "    </tr>\n",
       "    <tr>\n",
       "      <th>34</th>\n",
       "      <td>[2004, august, canal, church, grand, health, i...</td>\n",
       "      <td>[architecture, belfry, building, campanile, ca...</td>\n",
       "    </tr>\n",
       "    <tr>\n",
       "      <th>39</th>\n",
       "      <td>[ancient, architecture, buildings, cambridge, ...</td>\n",
       "      <td>[friends, outdoor, people]</td>\n",
       "    </tr>\n",
       "  </tbody>\n",
       "</table>\n",
       "</div>"
      ],
      "text/plain": [
       "                                                     User_tags  \\\n",
       "Line_number                                                      \n",
       "31           [america, arab, child, children, facebook, fre...   \n",
       "34           [2004, august, canal, church, grand, health, i...   \n",
       "39           [ancient, architecture, buildings, cambridge, ...   \n",
       "\n",
       "                                                      autotags  \n",
       "Line_number                                                     \n",
       "31           [arch, architecture, fort, fortification, goth...  \n",
       "34           [architecture, belfry, building, campanile, ca...  \n",
       "39                                  [friends, outdoor, people]  "
      ]
     },
     "execution_count": 35,
     "metadata": {},
     "output_type": "execute_result"
    }
   ],
   "source": [
    "asd = prepare_dataset.query('User_tags.str.len() > 5')\n",
    "print(\"Number of items: \" + str(asd.shape[0]) + \".\")\n",
    "print(\"First three: \")\n",
    "asd.head(3)"
   ]
  },
  {
   "cell_type": "code",
   "execution_count": 36,
   "metadata": {},
   "outputs": [
    {
     "data": {
      "text/plain": [
       "(50297, 2)"
      ]
     },
     "execution_count": 36,
     "metadata": {},
     "output_type": "execute_result"
    }
   ],
   "source": [
    "prepare_dataset = asd\n",
    "asd.shape"
   ]
  },
  {
   "cell_type": "markdown",
   "metadata": {},
   "source": [
    "Unclear though if 50297 items is enough, but it is a start! This can also easily be increased by just using more photos."
   ]
  },
  {
   "cell_type": "code",
   "execution_count": 37,
   "metadata": {
    "scrolled": true
   },
   "outputs": [
    {
     "data": {
      "text/plain": [
       "canon                      3659\n",
       "nikon                      3655\n",
       "art                        2617\n",
       "music                      2605\n",
       "travel                     2605\n",
       "city                       2508\n",
       "usa                        2501\n",
       "people                     2235\n",
       "nature                     2193\n",
       "california                 2090\n",
       "2012                       2010\n",
       "2010                       1991\n",
       "2011                       1962\n",
       "water                      1933\n",
       "summer                     1798\n",
       "photography                1792\n",
       "park                       1776\n",
       "2013                       1775\n",
       "europe                     1758\n",
       "road                       1745\n",
       "new+york                   1720\n",
       "beach                      1706\n",
       "live                       1691\n",
       "2009                       1691\n",
       "street                     1664\n",
       "sky                        1644\n",
       "taiwan                     1615\n",
       "party                      1609\n",
       "photo                      1601\n",
       "sign                       1579\n",
       "                           ... \n",
       "ponies                       25\n",
       "sri+lanka                    25\n",
       "bizkaia                      24\n",
       "hokkaido                     24\n",
       "crenshaw                     24\n",
       "leipzig                      23\n",
       "costa+rica                   23\n",
       "salt+lake+city               23\n",
       "utrecht                      22\n",
       "bras%C3%ADlia                22\n",
       "rolandtanglaophoto           20\n",
       "major+league+baseball        19\n",
       "lyon+college                 18\n",
       "universidad                  16\n",
       "nottinghamshire              15\n",
       "knitting                     13\n",
       "finish+line                  11\n",
       "penta                         8\n",
       "ahl                           8\n",
       "senderismo                    7\n",
       "percygermany                  6\n",
       "sachsen-anhalt                5\n",
       "studio+gemini                 5\n",
       "paul+ridderhof                5\n",
       "paul+en+menno+ridderhof       4\n",
       "noppadon+wongsuwan            3\n",
       "warrenlong                    3\n",
       "worksop                       3\n",
       "bassetlaw                     3\n",
       "flickr+paul+ridderhof         1\n",
       "Length: 2015, dtype: int64"
      ]
     },
     "execution_count": 37,
     "metadata": {},
     "output_type": "execute_result"
    }
   ],
   "source": [
    "all_asd = pd.Series((tag for tag_list in prepare_dataset.User_tags for tag in tag_list))\n",
    "all_asd.value_counts()"
   ]
  },
  {
   "cell_type": "markdown",
   "metadata": {},
   "source": [
    "As can be seen, most tags are more than 5 and there are still 998 of them."
   ]
  },
  {
   "cell_type": "code",
   "execution_count": 38,
   "metadata": {},
   "outputs": [
    {
     "name": "stdout",
     "output_type": "stream",
     "text": [
      "The average amount of autotags per item is 9.910392269916695.\n"
     ]
    }
   ],
   "source": [
    "auto_tag_list = pd.Series((tag for tag_list in prepare_dataset.autotags for tag in tag_list))\n",
    "user_tag_list = pd.Series((tag for tag_list in prepare_dataset.User_tags for tag in tag_list))\n",
    "print(\"The average amount of autotags per item is \" + str(len(auto_tag_list)/prepare_dataset.shape[0]) + \".\")"
   ]
  },
  {
   "cell_type": "code",
   "execution_count": 39,
   "metadata": {
    "scrolled": true
   },
   "outputs": [
    {
     "data": {
      "text/html": [
       "<div>\n",
       "<style scoped>\n",
       "    .dataframe tbody tr th:only-of-type {\n",
       "        vertical-align: middle;\n",
       "    }\n",
       "\n",
       "    .dataframe tbody tr th {\n",
       "        vertical-align: top;\n",
       "    }\n",
       "\n",
       "    .dataframe thead th {\n",
       "        text-align: right;\n",
       "    }\n",
       "</style>\n",
       "<table border=\"1\" class=\"dataframe\">\n",
       "  <thead>\n",
       "    <tr style=\"text-align: right;\">\n",
       "      <th></th>\n",
       "      <th>User_tags</th>\n",
       "      <th>autotags</th>\n",
       "    </tr>\n",
       "    <tr>\n",
       "      <th>Line_number</th>\n",
       "      <th></th>\n",
       "      <th></th>\n",
       "    </tr>\n",
       "  </thead>\n",
       "  <tbody>\n",
       "    <tr>\n",
       "      <th>31</th>\n",
       "      <td>[america, arab, child, children, facebook, fre...</td>\n",
       "      <td>[arch, architecture, fort, fortification, goth...</td>\n",
       "    </tr>\n",
       "    <tr>\n",
       "      <th>34</th>\n",
       "      <td>[2004, august, canal, church, grand, health, i...</td>\n",
       "      <td>[architecture, belfry, building, campanile, ca...</td>\n",
       "    </tr>\n",
       "    <tr>\n",
       "      <th>39</th>\n",
       "      <td>[ancient, architecture, buildings, cambridge, ...</td>\n",
       "      <td>[friends, outdoor, people]</td>\n",
       "    </tr>\n",
       "    <tr>\n",
       "      <th>126</th>\n",
       "      <td>[%E9%A6%99%E6%B8%AF, farm, garden, hong+kong, ...</td>\n",
       "      <td>[blossom, calliandra, flower, geranium, hibisc...</td>\n",
       "    </tr>\n",
       "    <tr>\n",
       "      <th>143</th>\n",
       "      <td>[color, film, fujifilm, home, life, minolta]</td>\n",
       "      <td>[drawer, furniture, indoor]</td>\n",
       "    </tr>\n",
       "  </tbody>\n",
       "</table>\n",
       "</div>"
      ],
      "text/plain": [
       "                                                     User_tags  \\\n",
       "Line_number                                                      \n",
       "31           [america, arab, child, children, facebook, fre...   \n",
       "34           [2004, august, canal, church, grand, health, i...   \n",
       "39           [ancient, architecture, buildings, cambridge, ...   \n",
       "126          [%E9%A6%99%E6%B8%AF, farm, garden, hong+kong, ...   \n",
       "143               [color, film, fujifilm, home, life, minolta]   \n",
       "\n",
       "                                                      autotags  \n",
       "Line_number                                                     \n",
       "31           [arch, architecture, fort, fortification, goth...  \n",
       "34           [architecture, belfry, building, campanile, ca...  \n",
       "39                                  [friends, outdoor, people]  \n",
       "126          [blossom, calliandra, flower, geranium, hibisc...  \n",
       "143                                [drawer, furniture, indoor]  "
      ]
     },
     "execution_count": 39,
     "metadata": {},
     "output_type": "execute_result"
    }
   ],
   "source": [
    "asd.head()"
   ]
  },
  {
   "cell_type": "code",
   "execution_count": 44,
   "metadata": {},
   "outputs": [
    {
     "name": "stdout",
     "output_type": "stream",
     "text": [
      "number of autotags:\n",
      "total: 498463\n",
      "unique: 1568\n",
      "ratio autotags/item: 9.910392269916695\n",
      "\n",
      "number of user tags:\n",
      "total: 459308\n",
      "unique: 2015\n",
      "ratio user_tags/item: 9.131916416486073\n"
     ]
    }
   ],
   "source": [
    "print(\"number of autotags:\")\n",
    "print(\"total: \" + str(len(auto_tag_list)))\n",
    "print(\"unique: \" + str(len(auto_tag_list.unique())))\n",
    "print(\"ratio autotags/item: \" + str(len(auto_tag_list) / asd.shape[0]))\n",
    "print(\"\")\n",
    "print(\"number of user tags:\")\n",
    "print(\"total: \" + str(len(user_tag_list)))\n",
    "print(\"unique: \" + str(len(user_tag_list.unique())))\n",
    "print(\"ratio user_tags/item: \" + str(len(user_tag_list) / asd.shape[0]))"
   ]
  },
  {
   "cell_type": "markdown",
   "metadata": {},
   "source": [
    "Looks good!"
   ]
  },
  {
   "cell_type": "code",
   "execution_count": 41,
   "metadata": {},
   "outputs": [
    {
     "data": {
      "text/html": [
       "<div>\n",
       "<style scoped>\n",
       "    .dataframe tbody tr th:only-of-type {\n",
       "        vertical-align: middle;\n",
       "    }\n",
       "\n",
       "    .dataframe tbody tr th {\n",
       "        vertical-align: top;\n",
       "    }\n",
       "\n",
       "    .dataframe thead th {\n",
       "        text-align: right;\n",
       "    }\n",
       "</style>\n",
       "<table border=\"1\" class=\"dataframe\">\n",
       "  <thead>\n",
       "    <tr style=\"text-align: right;\">\n",
       "      <th></th>\n",
       "      <th>User_tags</th>\n",
       "      <th>autotags</th>\n",
       "    </tr>\n",
       "    <tr>\n",
       "      <th>Line_number</th>\n",
       "      <th></th>\n",
       "      <th></th>\n",
       "    </tr>\n",
       "  </thead>\n",
       "  <tbody>\n",
       "    <tr>\n",
       "      <th>31</th>\n",
       "      <td>[america, arab, child, children, facebook, fre...</td>\n",
       "      <td>[arch, architecture, fort, fortification, goth...</td>\n",
       "    </tr>\n",
       "    <tr>\n",
       "      <th>34</th>\n",
       "      <td>[2004, august, canal, church, grand, health, i...</td>\n",
       "      <td>[architecture, belfry, building, campanile, ca...</td>\n",
       "    </tr>\n",
       "    <tr>\n",
       "      <th>39</th>\n",
       "      <td>[ancient, architecture, buildings, cambridge, ...</td>\n",
       "      <td>[friends, outdoor, people]</td>\n",
       "    </tr>\n",
       "    <tr>\n",
       "      <th>126</th>\n",
       "      <td>[%E9%A6%99%E6%B8%AF, farm, garden, hong+kong, ...</td>\n",
       "      <td>[blossom, calliandra, flower, geranium, hibisc...</td>\n",
       "    </tr>\n",
       "    <tr>\n",
       "      <th>143</th>\n",
       "      <td>[color, film, fujifilm, home, life, minolta]</td>\n",
       "      <td>[drawer, furniture, indoor]</td>\n",
       "    </tr>\n",
       "  </tbody>\n",
       "</table>\n",
       "</div>"
      ],
      "text/plain": [
       "                                                     User_tags  \\\n",
       "Line_number                                                      \n",
       "31           [america, arab, child, children, facebook, fre...   \n",
       "34           [2004, august, canal, church, grand, health, i...   \n",
       "39           [ancient, architecture, buildings, cambridge, ...   \n",
       "126          [%E9%A6%99%E6%B8%AF, farm, garden, hong+kong, ...   \n",
       "143               [color, film, fujifilm, home, life, minolta]   \n",
       "\n",
       "                                                      autotags  \n",
       "Line_number                                                     \n",
       "31           [arch, architecture, fort, fortification, goth...  \n",
       "34           [architecture, belfry, building, campanile, ca...  \n",
       "39                                  [friends, outdoor, people]  \n",
       "126          [blossom, calliandra, flower, geranium, hibisc...  \n",
       "143                                [drawer, furniture, indoor]  "
      ]
     },
     "execution_count": 41,
     "metadata": {},
     "output_type": "execute_result"
    }
   ],
   "source": [
    "prepare_dataset.head()"
   ]
  },
  {
   "cell_type": "markdown",
   "metadata": {},
   "source": [
    "This is now ready to be used."
   ]
  },
  {
   "cell_type": "markdown",
   "metadata": {},
   "source": [
    "Let's save it so that it can be used by some other notebook."
   ]
  },
  {
   "cell_type": "code",
   "execution_count": 43,
   "metadata": {},
   "outputs": [],
   "source": [
    "prepare_dataset.to_pickle(\"results/preprocessed_user_auto_tags.pkl\")"
   ]
  },
  {
   "cell_type": "markdown",
   "metadata": {},
   "source": [
    "## Test of svm model"
   ]
  },
  {
   "cell_type": "code",
   "execution_count": null,
   "metadata": {},
   "outputs": [],
   "source": []
  }
 ],
 "metadata": {
  "kernelspec": {
   "display_name": "Python 3",
   "language": "python",
   "name": "python3"
  },
  "language_info": {
   "codemirror_mode": {
    "name": "ipython",
    "version": 3
   },
   "file_extension": ".py",
   "mimetype": "text/x-python",
   "name": "python",
   "nbconvert_exporter": "python",
   "pygments_lexer": "ipython3",
   "version": "3.7.2"
  }
 },
 "nbformat": 4,
 "nbformat_minor": 2
}
