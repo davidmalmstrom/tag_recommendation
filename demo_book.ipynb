{
 "cells": [
  {
   "cell_type": "code",
   "execution_count": 216,
   "metadata": {
    "scrolled": false
   },
   "outputs": [],
   "source": [
    "import lib.notebook_helpers as nh\n",
    "import baseline.estimators as estimators\n",
    "import nncf.run_model_test as nn_test\n",
    "from nncf.evaluate_recall import evaluate_model_recall\n",
    "import os\n",
    "import pickle\n",
    "import scipy.sparse as sp\n",
    "from nncf.evaluate_recall import get_preds\n",
    "from importlib import reload\n",
    "import numpy as np\n",
    "import pandas as pd\n",
    "import webbrowser\n",
    "from IPython.display import display, Markdown\n",
    "from IPython.core.display import SVG\n",
    "from random import randint\n",
    "\n",
    "TEST_PART_SIZE = 2000\n",
    "\n",
    "def warn(*args, **kwargs):\n",
    "    pass\n",
    "import warnings\n",
    "warnings.warn = warn"
   ]
  },
  {
   "cell_type": "code",
   "execution_count": 67,
   "metadata": {},
   "outputs": [],
   "source": [
    "def format_results_list(res_list, n=None):\n",
    "    if n != None:\n",
    "        res_list = res_list[:n]\n",
    "    return '\\n'.join([str(i+1) + \". \" + item for i, item in enumerate(res_list)])"
   ]
  },
  {
   "cell_type": "code",
   "execution_count": 68,
   "metadata": {},
   "outputs": [],
   "source": [
    "def get_ranked_list(y_preds, mlby):\n",
    "    return [\n",
    "        [mlby.inverse_transform(np.expand_dims(onehot_usertag, axis=0))[0][0] for onehot_usertag in ranked_list]\n",
    "        for ranked_list in y_preds\n",
    "    ]"
   ]
  },
  {
   "cell_type": "markdown",
   "metadata": {},
   "source": [
    "## Load dataset:"
   ]
  },
  {
   "cell_type": "code",
   "execution_count": 5,
   "metadata": {
    "scrolled": true
   },
   "outputs": [],
   "source": [
    "test_set_path = os.path.join('data/test_tag_dataset.pkl')\n",
    "with open(test_set_path, 'rb') as f:\n",
    "    X, y, mlbx, mlby, val_y, test_y = pickle.load(f)\n",
    "    y = y.tocsr()\n",
    "    X = sp.csr_matrix(X)\n",
    "    test_y = test_y.toarray()\n",
    "id_mapping = pd.read_pickle('data/index_id_mapping.pkl')"
   ]
  },
  {
   "cell_type": "markdown",
   "metadata": {},
   "source": [
    "# Tag recommender system"
   ]
  },
  {
   "cell_type": "code",
   "execution_count": 2,
   "metadata": {
    "scrolled": true
   },
   "outputs": [
    {
     "data": {
      "image/svg+xml": [
       "<svg content=\"&lt;mxfile modified=&quot;2019-08-30T14:44:42.647Z&quot; host=&quot;www.draw.io&quot; agent=&quot;Mozilla/5.0 (Macintosh; Intel Mac OS X 10_14_4) AppleWebKit/537.36 (KHTML, like Gecko) Chrome/76.0.3809.100 Safari/537.36&quot; etag=&quot;p_hDdAzE7MkbnBIBYQYL&quot; version=&quot;11.2.4&quot; type=&quot;device&quot; pages=&quot;1&quot;&gt;&lt;diagram id=&quot;LsFryOvVjbCjfRxyC-kq&quot; name=&quot;Page-1&quot;&gt;5VjbctowEP0aP6ZjS7aBx0CStjO9hnaaPiq2YjSRLSqLAP36yli+SDIxkBCa9oXxrnU9Z8/uYgdO0tVbjuazjyzG1AFuvHLghQPAyA/lb+FYl45gBEtHwklcurzGMSW/sXK6yrsgMc61gYIxKshcd0Ysy3AkNB/inC31YXeM6rvOUYItxzRC1Pb+ILGYld4hGDT+d5gks2pnLxyVb1JUDVY3yWcoZsuWC146cMIZE+VTuppgWmBX4VLOu9rytj4Yx5nYZcL1r88ZvZgmN/g7H3xLP8Rfr8UZKFd5QHShLqwOK9YVApwtshgXi7gOHC9nRODpHEXF26WkXPpmIqXS8uRjLji7r5GSdxyrDTAXeLX15F6Nh4wjzFIs+FoOqYJIIahCCHh+aS8bQrxAjZm1yYDKiVQQJPXSDU7yQUG1B2yBBds3lOQWdPLKogZlwijj0p+xTL4e3xFKDReiJMmkGUlcsPSPC9SIjMVz9SIlcVysPdY5uWOZmKpda7tUkhc+DwWeG+gcwJHNAejgAByLgipBtDh4L3D6L3Pg6xx4Q9fiwH9RCrz+7IGz+LxIw9K6pSy619MFXhFx03r+WaD3ZhAo82Kl0NwY68rI5OFv2kZ7WmE38zZWNdFOTvJ0V4RWpykPj2OrIhgMyQuyBY9wf14ViCdYPAYh7Ka8RWlXZqt8HFMkyIN+3i6e1Q5fGJE3qSMKunpmhTDQlyjvqWa1a4u5UGCk6KGxUAmEtdAm7OprPyES7YRsRWIiBTvfKkPVP6Dbari7rzyhb2AQ2PL0wg4yh0fTJ/w7qvsjlG1F8wzoaNbJ5nRo+haa1zhiaSqTiBQhyxwge13oFTg6E+Ccu/k6f+0V6RDqTB2cuEpVQf/cVQocVqVAX5Vq89Qtuv+9ahmpAQyM0Nm5ag2MhcwYPHLVAnZGmUjysdrtteaM/brYugc5WX4I98oPCuGO9OBq6WHH7ODp2WG/FvZE8genVD8we1b3QPUDs2cNXlb90O5ZP+HlBv/EKaK97ibyRZLgvGgx7E8Mun7tWnEEBQehAZy/47eA8FgShsOnlvh+4LbV8z7FdjcPfdnhSAW++kfQK3G4pcV7GY0Hlsb9wzQeWBo3FjpY49JsPt2Ww5vv3/DyDw==&lt;/diagram&gt;&lt;/mxfile&gt;\" height=\"166px\" style=\"background-color: rgb(255, 255, 255);\" version=\"1.1\" viewBox=\"-0.5 -0.5 592 166\" width=\"592px\" xmlns=\"http://www.w3.org/2000/svg\" xmlns:xlink=\"http://www.w3.org/1999/xlink\"><defs/><g><rect fill=\"#ffffff\" height=\"130\" pointer-events=\"none\" stroke=\"#000000\" stroke-width=\"2\" width=\"150\" x=\"1\" y=\"34\"/><g fill=\"#000000\" font-family=\"Helvetica\" font-size=\"16px\" text-anchor=\"middle\"><text x=\"75.5\" y=\"74.5\">Tags</text></g><g fill=\"#000000\" font-family=\"Helvetica\" font-size=\"16px\" text-anchor=\"middle\"><text x=\"75.5\" y=\"15.5\">Item</text></g><path d=\"M 151 131.5 L 220.89 120.58\" fill=\"none\" pointer-events=\"none\" stroke=\"#000000\" stroke-miterlimit=\"10\" stroke-width=\"2\"/><path d=\"M 228.79 119.35 L 221.5 124.53 L 220.27 116.63 Z\" fill=\"#000000\" pointer-events=\"none\" stroke=\"#000000\" stroke-miterlimit=\"10\" stroke-width=\"2\"/><rect fill=\"#ffffff\" height=\"80\" pointer-events=\"none\" stroke=\"#000000\" stroke-width=\"2\" width=\"160\" x=\"231\" y=\"59\"/><g fill=\"#000000\" font-family=\"Helvetica\" font-size=\"16px\" text-anchor=\"middle\"><text x=\"310.5\" y=\"96\">Recommendation</text><text x=\"310.5\" y=\"115\"> system</text></g><path d=\"M 151 66.5 L 220.89 77.42\" fill=\"none\" pointer-events=\"none\" stroke=\"#000000\" stroke-miterlimit=\"10\" stroke-width=\"2\"/><path d=\"M 228.79 78.65 L 220.27 81.37 L 221.5 73.47 Z\" fill=\"#000000\" pointer-events=\"none\" stroke=\"#000000\" stroke-miterlimit=\"10\" stroke-width=\"2\"/><g fill=\"#000000\" font-family=\"Helvetica\" font-size=\"16px\" text-anchor=\"middle\"><text x=\"75.5\" y=\"135.5\">Content</text></g><path d=\"M 1 99 L 151 99\" fill=\"none\" pointer-events=\"none\" stroke=\"#000000\" stroke-miterlimit=\"10\"/><rect fill=\"#ffffff\" height=\"60\" pointer-events=\"none\" stroke=\"#000000\" stroke-width=\"2\" width=\"120\" x=\"471\" y=\"69\"/><g fill=\"#000000\" font-family=\"Helvetica\" font-size=\"16px\" text-anchor=\"middle\"><text x=\"530\" y=\"94.5\">New tag </text><text x=\"530\" y=\"113.5\">suggestions</text></g><path d=\"M 391 99 L 460.76 99\" fill=\"none\" pointer-events=\"none\" stroke=\"#000000\" stroke-miterlimit=\"10\" stroke-width=\"2\"/><path d=\"M 468.76 99 L 460.76 103 L 460.76 95 Z\" fill=\"#000000\" pointer-events=\"none\" stroke=\"#000000\" stroke-miterlimit=\"10\" stroke-width=\"2\"/></g></svg>"
      ],
      "text/plain": [
       "<IPython.core.display.SVG object>"
      ]
     },
     "execution_count": 2,
     "metadata": {},
     "output_type": "execute_result"
    }
   ],
   "source": [
    "SVG(filename='/Users/davidmalmstrom/Documents/proj/figures/general_tag_rec2.svg')"
   ]
  },
  {
   "cell_type": "markdown",
   "metadata": {},
   "source": [
    "### Flickr dataset"
   ]
  },
  {
   "cell_type": "code",
   "execution_count": 208,
   "metadata": {
    "scrolled": true
   },
   "outputs": [
    {
     "data": {
      "text/markdown": [
       "Item user-tags: california, colour, jpg, photograph, color, jpeg, photo, travel"
      ],
      "text/plain": [
       "<IPython.core.display.Markdown object>"
      ]
     },
     "metadata": {},
     "output_type": "display_data"
    },
    {
     "data": {
      "text/markdown": [
       "Item autotags: arbor, architecture, building, country house, gable, house, manor, mansion, outdoor, pediment, porch, portico, villa"
      ],
      "text/plain": [
       "<IPython.core.display.Markdown object>"
      ]
     },
     "metadata": {},
     "output_type": "display_data"
    }
   ],
   "source": [
    "index = randint(0, len(test_y) - 1)\n",
    "user_tags = mlby.inverse_transform(y)[index] + mlby.inverse_transform(test_y)[index]\n",
    "autotags = mlbx.inverse_transform(X)[index]\n",
    "display(Markdown('Item user-tags: ' + ', '.join(user_tags)))\n",
    "display(Markdown('Item autotags: ' + ', '.join(autotags)))"
   ]
  },
  {
   "cell_type": "code",
   "execution_count": 206,
   "metadata": {},
   "outputs": [],
   "source": [
    "url = 'https://' + 'www.flickr.com/' + id_mapping.loc[index]['user+id']\n",
    "webbrowser.open(url);"
   ]
  },
  {
   "cell_type": "markdown",
   "metadata": {},
   "source": [
    "## Train base model and make predictions"
   ]
  },
  {
   "cell_type": "code",
   "execution_count": 102,
   "metadata": {},
   "outputs": [],
   "source": [
    "base_model = estimators.BaselineModel(factors=1000,\n",
    "                                regularization=7,\n",
    "                                iterations=15,\n",
    "                                show_progress=False,\n",
    "                                n=10,\n",
    "                                content_scale_factor=0.038,\n",
    "                                alpha=3.5)"
   ]
  },
  {
   "cell_type": "code",
   "execution_count": 103,
   "metadata": {},
   "outputs": [
    {
     "data": {
      "text/plain": [
       "BaselineModel(alpha=3.5, content_scale_factor=0.038, factors=1000,\n",
       "              filter_seen=True, iterations=15, n=10, regularization=7,\n",
       "              show_progress=False)"
      ]
     },
     "execution_count": 103,
     "metadata": {},
     "output_type": "execute_result"
    }
   ],
   "source": [
    "base_model.fit(X, y);"
   ]
  },
  {
   "cell_type": "code",
   "execution_count": 105,
   "metadata": {
    "scrolled": false
   },
   "outputs": [],
   "source": [
    "y_pred_base = base_model.predict(X[:TEST_PART_SIZE], start_index=0, rank_list=True)\n",
    "y_pred_base_ranked = get_ranked_list(y_pred_base, mlby)"
   ]
  },
  {
   "cell_type": "markdown",
   "metadata": {},
   "source": [
    "## Load pretrained nn model and make predictions"
   ]
  },
  {
   "cell_type": "code",
   "execution_count": 101,
   "metadata": {
    "scrolled": true
   },
   "outputs": [],
   "source": [
    "nn_model_runfile_path = \"nncf/runs/past_runs/runza/runza14.yml\"\n",
    "\n",
    "params = nn_test.read_params(nn_model_runfile_path)\n",
    "\n",
    "nn_model = nn_test.build_model(params, y.shape, X.shape[1])"
   ]
  },
  {
   "cell_type": "code",
   "execution_count": 24,
   "metadata": {
    "scrolled": false
   },
   "outputs": [],
   "source": [
    "y_pred_nn = get_preds(nn_model, y[:TEST_PART_SIZE], 10, False, 0, X[:TEST_PART_SIZE].toarray(), rank_list=True)\n",
    "y_pred_nn_ranked = get_ranked_list(y_pred_nn, mlby)"
   ]
  },
  {
   "cell_type": "markdown",
   "metadata": {},
   "source": [
    "## Check results"
   ]
  },
  {
   "cell_type": "code",
   "execution_count": 233,
   "metadata": {
    "scrolled": true
   },
   "outputs": [
    {
     "data": {
      "text/markdown": [
       "**Item user-tags: blues, chicago, house, lake, park, river**"
      ],
      "text/plain": [
       "<IPython.core.display.Markdown object>"
      ]
     },
     "metadata": {},
     "output_type": "display_data"
    },
    {
     "data": {
      "text/markdown": [
       "Item autotags: architecture, building, building complex, city, freeway, highway, intersection, outdoor, road, skyline, skyscraper, tower, truck, vehicle, water, waterfront"
      ],
      "text/plain": [
       "<IPython.core.display.Markdown object>"
      ]
     },
     "metadata": {},
     "output_type": "display_data"
    }
   ],
   "source": [
    "index = randint(0, len(test_y) - 1)\n",
    "display(Markdown('**Item user-tags: ' + ', '.join(mlby.inverse_transform(y)[index]) + '**'))\n",
    "display(Markdown('Item autotags: ' + ', '.join(mlbx.inverse_transform(X)[index])))"
   ]
  },
  {
   "cell_type": "code",
   "execution_count": 234,
   "metadata": {
    "scrolled": false
   },
   "outputs": [
    {
     "data": {
      "text/markdown": [
       "Prediction goal: \n",
       " * cars \n",
       " * city \n",
       " * garage \n",
       " * illinois \n",
       " * statue \n",
       " * tourists"
      ],
      "text/plain": [
       "<IPython.core.display.Markdown object>"
      ]
     },
     "metadata": {},
     "output_type": "display_data"
    }
   ],
   "source": [
    "pred_goal_list = mlby.inverse_transform(test_y)[index]\n",
    "display(Markdown('Prediction goal: \\n * ' + ' \\n * '.join(pred_goal_list)))\n"
   ]
  },
  {
   "cell_type": "code",
   "execution_count": 235,
   "metadata": {
    "scrolled": true
   },
   "outputs": [
    {
     "data": {
      "text/markdown": [
       "Baseline model predicted: \n",
       "1. illinois\n",
       "2. national\n",
       "3. highway\n",
       "4. road\n",
       "5. shield"
      ],
      "text/plain": [
       "<IPython.core.display.Markdown object>"
      ]
     },
     "metadata": {},
     "output_type": "display_data"
    }
   ],
   "source": [
    "display(Markdown('Baseline model predicted: \\n' + format_results_list(y_pred_base_ranked[index], 5)))"
   ]
  },
  {
   "cell_type": "code",
   "execution_count": 236,
   "metadata": {
    "scrolled": true
   },
   "outputs": [
    {
     "data": {
      "text/markdown": [
       "Deep learning model predicted: \n",
       "1. illinois\n",
       "2. water\n",
       "3. michigan\n",
       "4. pond\n",
       "5. il"
      ],
      "text/plain": [
       "<IPython.core.display.Markdown object>"
      ]
     },
     "metadata": {},
     "output_type": "display_data"
    }
   ],
   "source": [
    "display(Markdown('Deep learning model predicted: \\n' + format_results_list(y_pred_nn_ranked[index], 5) ))"
   ]
  },
  {
   "cell_type": "code",
   "execution_count": 238,
   "metadata": {},
   "outputs": [],
   "source": [
    "url = 'https://' + 'www.flickr.com/' + id_mapping.loc[index]['user+id']\n",
    "webbrowser.open(url);"
   ]
  },
  {
   "cell_type": "code",
   "execution_count": null,
   "metadata": {},
   "outputs": [],
   "source": []
  },
  {
   "cell_type": "code",
   "execution_count": null,
   "metadata": {},
   "outputs": [],
   "source": []
  },
  {
   "cell_type": "code",
   "execution_count": null,
   "metadata": {},
   "outputs": [],
   "source": []
  },
  {
   "cell_type": "code",
   "execution_count": null,
   "metadata": {},
   "outputs": [],
   "source": []
  },
  {
   "cell_type": "code",
   "execution_count": null,
   "metadata": {},
   "outputs": [],
   "source": []
  },
  {
   "cell_type": "code",
   "execution_count": null,
   "metadata": {},
   "outputs": [],
   "source": []
  },
  {
   "cell_type": "code",
   "execution_count": null,
   "metadata": {},
   "outputs": [],
   "source": []
  },
  {
   "cell_type": "code",
   "execution_count": null,
   "metadata": {},
   "outputs": [],
   "source": []
  },
  {
   "cell_type": "code",
   "execution_count": null,
   "metadata": {},
   "outputs": [],
   "source": []
  },
  {
   "cell_type": "code",
   "execution_count": null,
   "metadata": {},
   "outputs": [],
   "source": []
  },
  {
   "cell_type": "code",
   "execution_count": null,
   "metadata": {},
   "outputs": [],
   "source": []
  },
  {
   "cell_type": "code",
   "execution_count": null,
   "metadata": {},
   "outputs": [],
   "source": []
  },
  {
   "cell_type": "code",
   "execution_count": null,
   "metadata": {},
   "outputs": [],
   "source": []
  },
  {
   "cell_type": "code",
   "execution_count": null,
   "metadata": {},
   "outputs": [],
   "source": []
  },
  {
   "cell_type": "code",
   "execution_count": null,
   "metadata": {},
   "outputs": [],
   "source": []
  },
  {
   "cell_type": "code",
   "execution_count": null,
   "metadata": {},
   "outputs": [],
   "source": []
  },
  {
   "cell_type": "code",
   "execution_count": null,
   "metadata": {},
   "outputs": [],
   "source": []
  },
  {
   "cell_type": "code",
   "execution_count": null,
   "metadata": {},
   "outputs": [],
   "source": []
  },
  {
   "cell_type": "code",
   "execution_count": null,
   "metadata": {},
   "outputs": [],
   "source": []
  },
  {
   "cell_type": "code",
   "execution_count": null,
   "metadata": {},
   "outputs": [],
   "source": []
  },
  {
   "cell_type": "code",
   "execution_count": null,
   "metadata": {},
   "outputs": [],
   "source": []
  },
  {
   "cell_type": "code",
   "execution_count": null,
   "metadata": {},
   "outputs": [],
   "source": []
  },
  {
   "cell_type": "code",
   "execution_count": null,
   "metadata": {},
   "outputs": [],
   "source": []
  },
  {
   "cell_type": "code",
   "execution_count": null,
   "metadata": {},
   "outputs": [],
   "source": []
  },
  {
   "cell_type": "code",
   "execution_count": 87,
   "metadata": {
    "scrolled": true
   },
   "outputs": [
    {
     "name": "stdout",
     "output_type": "stream",
     "text": [
      "Start user tags: ('cars', 'course', 'france', 'pentax', 'race', 'sport')\n",
      "Start autotags: ('car', 'car bumper', 'car hood', 'car part', 'car tire', 'ferrari', 'outdoor', 'sports car', 'tire', 'truck', 'van', 'vehicle')\n",
      "\n",
      "Pred goal: ('12', 'car', 'june', 'le', 'racing', 'sunday', 'voiture')\n",
      "\n",
      "Base model predicted: ['paris', 'racing', 'action', 'run', 'competition', 'running', 'car', 'justpentax', 'francia', 'french']\n",
      "\n",
      "NN model predicted: ['car', 'auto', 'paris', 'sports', 'racing', 'voiture', 'blanc', 'motorsport', 'bike', 'automobile']\n"
     ]
    }
   ],
   "source": [
    "test_both(test_y, y_pred_base, y_pred_nn, mlbx, mlby, y, X, index=1532)"
   ]
  },
  {
   "cell_type": "code",
   "execution_count": 91,
   "metadata": {
    "scrolled": true
   },
   "outputs": [
    {
     "name": "stdout",
     "output_type": "stream",
     "text": [
      "Start user tags: ('cars', 'course', 'france', 'pentax', 'race', 'sport')\n",
      "Start autotags: ('car', 'car bumper', 'car hood', 'car part', 'car tire', 'ferrari', 'outdoor', 'sports car', 'tire', 'truck', 'van', 'vehicle')\n",
      "\n",
      "Pred goal: ('12', 'car', 'june', 'le', 'racing', 'sunday', 'voiture')\n",
      "\n",
      "Base model predicted: ['paris', 'racing', 'action', 'run', 'competition', 'running', 'car', 'justpentax', 'francia', 'french']\n",
      "\n",
      "NN model predicted: ['car', 'auto', 'paris']\n"
     ]
    }
   ],
   "source": [
    "test_both(test_y, y_pred_base, y_pred_nn, mlbx, mlby, y, X, index=1532)"
   ]
  },
  {
   "cell_type": "code",
   "execution_count": 23,
   "metadata": {},
   "outputs": [
    {
     "name": "stdout",
     "output_type": "stream",
     "text": [
      "NN model predicted: ['massachusetts', 'japan', 'retro']\n"
     ]
    }
   ],
   "source": [
    "print(\"NN model predicted: \" + str(y_pred_nn_ranked[index]))"
   ]
  },
  {
   "cell_type": "code",
   "execution_count": 15,
   "metadata": {
    "scrolled": true
   },
   "outputs": [
    {
     "name": "stdout",
     "output_type": "stream",
     "text": [
      "96\n",
      "Start user tags: ('francisco', 'garden', 'la', 'street')\n",
      "Start autotags: ('birdbath', 'garden', 'nature', 'outdoor', 'plant', 'potted plant')\n",
      "\n",
      "Pred goal: ('january', 'playa', 'san')\n",
      "\n",
      "Base model predicted: ('los', 'los+angeles', 'san')\n",
      "\n",
      "NN model predicted: ('city', 'los', 'san')\n"
     ]
    }
   ],
   "source": [
    "test_both(test_y, y_pred_base, y_pred_nn, mlbx, mlby, y, X)"
   ]
  },
  {
   "cell_type": "code",
   "execution_count": 90,
   "metadata": {},
   "outputs": [],
   "source": [
    "def test_both(test_y, y_pred_base, y_pred_nn, mlbx, mlby, y, X, index=None):\n",
    "    if index is None:\n",
    "        index = randint(0, len(test_y) - 1)\n",
    "        print(index)\n",
    "    \n",
    "    print(\"Start user tags: \" + str(mlby.inverse_transform(y)[index]))\n",
    "    print(\"Start autotags: \" + str(mlbx.inverse_transform(X)[index]))\n",
    "    print(\"\")\n",
    "    print(\"Pred goal: \" + str(mlby.inverse_transform(test_y)[index]))\n",
    "    print(\"\")\n",
    "    #print(\"Base model predicted: \" + str(mlby.inverse_transform(y_pred_base)[index]))\n",
    "    print(\"Base model predicted: \" + str(qwe[index]))\n",
    "    print(\"\")\n",
    "    #print(\"NN model predicted: \" + str(mlby.inverse_transform(y_pred_nn)[index]))\n",
    "    print(\"NN model predicted: \" + str(asd2[index]))\n",
    "\n",
    "    \n",
    "    url = 'https://' + 'www.flickr.com/' + id_mapping.loc[index]['user+id']\n",
    "    webbrowser.open(url)"
   ]
  }
 ],
 "metadata": {
  "kernelspec": {
   "display_name": "Python 3",
   "language": "python",
   "name": "python3"
  },
  "language_info": {
   "codemirror_mode": {
    "name": "ipython",
    "version": 3
   },
   "file_extension": ".py",
   "mimetype": "text/x-python",
   "name": "python",
   "nbconvert_exporter": "python",
   "pygments_lexer": "ipython3",
   "version": "3.7.2"
  }
 },
 "nbformat": 4,
 "nbformat_minor": 2
}
