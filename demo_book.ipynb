{
 "cells": [
  {
   "cell_type": "code",
   "execution_count": 1,
   "metadata": {
    "scrolled": true
   },
   "outputs": [
    {
     "name": "stderr",
     "output_type": "stream",
     "text": [
      "Using TensorFlow backend.\n"
     ]
    }
   ],
   "source": [
    "import lib.notebook_helpers as nh\n",
    "import baseline.estimators as estimators\n",
    "import nncf.run_model_test as nn_test\n",
    "from nncf.evaluate_recall import evaluate_model_recall\n",
    "import os\n",
    "import pickle\n",
    "import scipy.sparse as sp\n",
    "from nncf.evaluate_recall import get_preds\n",
    "from importlib import reload\n",
    "import numpy as np\n",
    "\n",
    "TEST_PART_SIZE = 2000"
   ]
  },
  {
   "cell_type": "code",
   "execution_count": 9,
   "metadata": {},
   "outputs": [
    {
     "data": {
      "text/plain": [
       "<module 'baseline.estimators' from '/home/david/Documents/proj/tag_recommendation/baseline/estimators.py'>"
      ]
     },
     "execution_count": 9,
     "metadata": {},
     "output_type": "execute_result"
    }
   ],
   "source": [
    "reload(estimators)"
   ]
  },
  {
   "cell_type": "markdown",
   "metadata": {},
   "source": [
    "## Load dataset:"
   ]
  },
  {
   "cell_type": "code",
   "execution_count": 3,
   "metadata": {
    "scrolled": true
   },
   "outputs": [],
   "source": [
    "test_set_path = os.path.join('data/test_tag_dataset.pkl')\n",
    "with open(test_set_path, 'rb') as f:\n",
    "    X, y, mlbx, mlby, val_y, test_y = pickle.load(f)\n",
    "    y = y.tocsr()\n",
    "    X = sp.csr_matrix(X)\n",
    "    test_y = test_y.toarray()"
   ]
  },
  {
   "cell_type": "markdown",
   "metadata": {},
   "source": [
    "## Train base model and make predictions"
   ]
  },
  {
   "cell_type": "code",
   "execution_count": 10,
   "metadata": {},
   "outputs": [],
   "source": [
    "base_model = estimators.BaselineModel(factors=1000,\n",
    "                                regularization=7,\n",
    "                                iterations=15,\n",
    "                                show_progress=False,\n",
    "                                n=3,\n",
    "                                content_scale_factor=0.0424,\n",
    "                                alpha=2.17)"
   ]
  },
  {
   "cell_type": "code",
   "execution_count": 11,
   "metadata": {},
   "outputs": [
    {
     "data": {
      "text/plain": [
       "BaselineModel(alpha=2.17, content_scale_factor=0.0424, factors=1000,\n",
       "              filter_seen=True, iterations=15, n=3, regularization=7,\n",
       "              show_progress=False)"
      ]
     },
     "execution_count": 11,
     "metadata": {},
     "output_type": "execute_result"
    }
   ],
   "source": [
    "base_model.fit(X, y)"
   ]
  },
  {
   "cell_type": "code",
   "execution_count": 6,
   "metadata": {},
   "outputs": [],
   "source": [
    "y_pred_base = base_model.predict(X[:TEST_PART_SIZE], start_index=0)"
   ]
  },
  {
   "cell_type": "markdown",
   "metadata": {},
   "source": [
    "## Load pretrained nn model and make predictions"
   ]
  },
  {
   "cell_type": "code",
   "execution_count": 4,
   "metadata": {},
   "outputs": [],
   "source": [
    "nn_model_runfile_path = \"nncf/runs/several_runs/runu4.yml\"\n",
    "\n",
    "params = nn_test.read_params(nn_model_runfile_path)\n",
    "\n",
    "nn_model = nn_test.build_model(params, y.shape, X.shape[1])"
   ]
  },
  {
   "cell_type": "code",
   "execution_count": 22,
   "metadata": {
    "scrolled": true
   },
   "outputs": [],
   "source": [
    "y_pred_nn = get_preds(nn_model, y[:TEST_PART_SIZE], 3, False, 0, X[:TEST_PART_SIZE].toarray())"
   ]
  },
  {
   "cell_type": "markdown",
   "metadata": {},
   "source": [
    "## Check results"
   ]
  },
  {
   "cell_type": "code",
   "execution_count": 24,
   "metadata": {},
   "outputs": [],
   "source": [
    "def test_both(test_y, y_pred_base, y_pred_nn, mlbx, mlby, y, X):\n",
    "    from random import randint\n",
    "    index = randint(0, len(test_y) - 1)\n",
    "    \n",
    "    \n",
    "    print(\"Start user tags: \" + str(mlby.inverse_transform(y)[index]))\n",
    "    print(\"Start autotags: \" + str(mlbx.inverse_transform(X)[index]))\n",
    "    print(\"\")\n",
    "    print(\"Pred goal: \" + str(mlby.inverse_transform(test_y)[index]))\n",
    "    print(\"\")\n",
    "    print(\"Base model predicted: \" + str(mlby.inverse_transform(y_pred_base)[index]))\n",
    "    print(\"\")\n",
    "    print(\"NN model predicted: \" + str(mlby.inverse_transform(y_pred_nn)[index]))"
   ]
  },
  {
   "cell_type": "code",
   "execution_count": null,
   "metadata": {
    "scrolled": false
   },
   "outputs": [],
   "source": [
    "test_both(test_y, y_pred_base, y_pred_nn, mlbx, mlby, y, X)"
   ]
  }
 ],
 "metadata": {
  "kernelspec": {
   "display_name": "Python 3",
   "language": "python",
   "name": "python3"
  },
  "language_info": {
   "codemirror_mode": {
    "name": "ipython",
    "version": 3
   },
   "file_extension": ".py",
   "mimetype": "text/x-python",
   "name": "python",
   "nbconvert_exporter": "python",
   "pygments_lexer": "ipython3",
   "version": "3.6.7"
  }
 },
 "nbformat": 4,
 "nbformat_minor": 2
}
