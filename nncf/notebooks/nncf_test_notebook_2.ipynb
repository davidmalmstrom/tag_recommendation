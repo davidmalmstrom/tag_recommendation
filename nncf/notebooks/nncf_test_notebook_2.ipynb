{
 "cells": [
  {
   "cell_type": "code",
   "execution_count": 1,
   "metadata": {},
   "outputs": [],
   "source": [
    "import sys\n",
    "import os\n",
    "# append src dir to pythonpath\n",
    "module_path = os.path.abspath(\"..\") # os.path.abspath(os.path.join('..'))\n",
    "if module_path not in sys.path:\n",
    "    sys.path.append(module_path)"
   ]
  },
  {
   "cell_type": "code",
   "execution_count": 2,
   "metadata": {},
   "outputs": [
    {
     "name": "stderr",
     "output_type": "stream",
     "text": [
      "Using TensorFlow backend.\n"
     ]
    }
   ],
   "source": [
    "import sys\n",
    "import os\n",
    "import pickle\n",
    "import scipy.sparse as sp\n",
    "import MLP\n",
    "import GMF\n",
    "import NeuMF\n",
    "import importlib\n",
    "import evaluate_recall as er\n",
    "import numpy as np\n",
    "import lib.notebook_helpers as nh\n",
    "\n",
    "TEST_PART_SIZE = 2000"
   ]
  },
  {
   "cell_type": "code",
   "execution_count": 18,
   "metadata": {
    "scrolled": true
   },
   "outputs": [
    {
     "data": {
      "text/plain": [
       "<module 'evaluate_recall' from '/home/david/Documents/proj/neural_collaborative_filtering/evaluate_recall.py'>"
      ]
     },
     "execution_count": 18,
     "metadata": {},
     "output_type": "execute_result"
    }
   ],
   "source": [
    "importlib.reload(er)"
   ]
  },
  {
   "cell_type": "code",
   "execution_count": 7,
   "metadata": {},
   "outputs": [],
   "source": [
    "from run_model_test import get_test_set, read_params, build_model"
   ]
  },
  {
   "cell_type": "code",
   "execution_count": 12,
   "metadata": {},
   "outputs": [],
   "source": [
    "model_runfile_path = \"../runs/several_runs/runl8.yml\""
   ]
  },
  {
   "cell_type": "code",
   "execution_count": 13,
   "metadata": {},
   "outputs": [],
   "source": [
    "params = read_params(model_runfile_path)"
   ]
  },
  {
   "cell_type": "code",
   "execution_count": 6,
   "metadata": {},
   "outputs": [],
   "source": [
    "with open('../data/test_tag_dataset.pkl', 'rb') as f:\n",
    "        _, y_test, mlbx, mlby, val_y, test_y = pickle.load(f)\n",
    "        test_set = sp.dok_matrix(y_test)"
   ]
  },
  {
   "cell_type": "code",
   "execution_count": 15,
   "metadata": {},
   "outputs": [],
   "source": [
    "# Build model\n",
    "num_users, num_items = test_set.shape\n",
    "try:\n",
    "    if params['nn_model'] == 'NeuMF':\n",
    "        reg_mf = 0\n",
    "        model = NeuMF.get_model(num_users, num_items, params['num_factors'], params['layers'], params['reg_layers'], reg_mf)\n",
    "    elif params['nn_model'] == \"GMF\":\n",
    "        model = GMF.get_model(num_users, num_items, params['num_factors'])\n",
    "    elif params['nn_model'] == \"MLP\":\n",
    "        model = MLP.get_model(num_users, num_items, params['layers'], params['reg_layers'])\n",
    "    else:\n",
    "        print(\"Error: wrong model type\")\n",
    "        sys.exit()\n",
    "except KeyError as e:\n",
    "    print(e)\n",
    "    print(\"yaml file is probably wrong\")\n",
    "    sys.exit()\n",
    "model.load_weights(\"../\" + params['weights_path'])"
   ]
  },
  {
   "cell_type": "code",
   "execution_count": 16,
   "metadata": {},
   "outputs": [
    {
     "data": {
      "text/plain": [
       "scipy.sparse.dok.dok_matrix"
      ]
     },
     "execution_count": 16,
     "metadata": {},
     "output_type": "execute_result"
    }
   ],
   "source": [
    "type(test_set)"
   ]
  },
  {
   "cell_type": "code",
   "execution_count": 19,
   "metadata": {
    "scrolled": false
   },
   "outputs": [
    {
     "name": "stdout",
     "output_type": "stream",
     "text": [
      "Model test performed \n",
      "Recall score: 0.07952583726550812     Jaccard score: 0.049364194884983566\n"
     ]
    }
   ],
   "source": [
    "# val_x, val_y = nh.split_user_tags_percentage(test_set[:TEST_PART_SIZE])\n",
    "#new_test_set = sp.vstack([test_set[18000:], test_set[:18000]]).todok()\n",
    "val_x = test_set[0:TEST_PART_SIZE]\n",
    "\n",
    "\n",
    "recall, jaccard = er.evaluate_model_recall(model, val_x, val_y, params['topk'], fast_eval=False)\n",
    "\n",
    "result = \"Model test performed \\nRecall score: \" + str(recall) + \"     Jaccard score: \" + str(jaccard)\n",
    "print(result)"
   ]
  },
  {
   "cell_type": "code",
   "execution_count": 94,
   "metadata": {},
   "outputs": [
    {
     "data": {
      "text/plain": [
       "(2000, 2000)"
      ]
     },
     "execution_count": 94,
     "metadata": {},
     "output_type": "execute_result"
    }
   ],
   "source": [
    "val_y.shape"
   ]
  },
  {
   "cell_type": "code",
   "execution_count": 88,
   "metadata": {
    "scrolled": false
   },
   "outputs": [
    {
     "name": "stdout",
     "output_type": "stream",
     "text": [
      "17939\n",
      "9035\n",
      "18033\n",
      "17921\n",
      "18446\n",
      "17912\n",
      "18136\n",
      "17950\n",
      "17778\n",
      "17606\n"
     ]
    }
   ],
   "source": [
    "a = 2000\n",
    "for i in range(10):\n",
    "    print(np.sum(new_test_set[i*a: (i+1)*a]))"
   ]
  },
  {
   "cell_type": "code",
   "execution_count": 51,
   "metadata": {},
   "outputs": [
    {
     "name": "stdout",
     "output_type": "stream",
     "text": [
      "Model test performed \n",
      "Recall score: 0.06076648636206698     Jaccard score: 0.037285502436268624\n"
     ]
    }
   ],
   "source": [
    "# val_x, val_y = nh.split_user_tags_percentage(test_set[:TEST_PART_SIZE])\n",
    "val_x = test_set[:TEST_PART_SIZE]\n",
    "\n",
    "recall, jaccard = er.evaluate_model_recall(model, val_x, val_y, params['topk'], 2000)\n",
    "\n",
    "result = \"Model test performed \\nRecall score: \" + str(recall) + \"     Jaccard score: \" + str(jaccard)\n",
    "print(result)"
   ]
  },
  {
   "cell_type": "code",
   "execution_count": 53,
   "metadata": {},
   "outputs": [
    {
     "name": "stdout",
     "output_type": "stream",
     "text": [
      "Model test performed \n",
      "Recall score: 0.059385429853838184     Jaccard score: 0.03640725322796867\n"
     ]
    }
   ],
   "source": [
    "# val_x, val_y = nh.split_user_tags_percentage(test_set[:TEST_PART_SIZE])\n",
    "val_x = test_set[:TEST_PART_SIZE]\n",
    "\n",
    "recall, jaccard = er.evaluate_model_recall(model, val_x, val_y, params['topk'], 3000)\n",
    "\n",
    "result = \"Model test performed \\nRecall score: \" + str(recall) + \"     Jaccard score: \" + str(jaccard)\n",
    "print(result)"
   ]
  },
  {
   "cell_type": "code",
   "execution_count": 54,
   "metadata": {},
   "outputs": [
    {
     "name": "stdout",
     "output_type": "stream",
     "text": [
      "Model test performed \n",
      "Recall score: 0.06214754287029577     Jaccard score: 0.03816524135981342\n"
     ]
    }
   ],
   "source": [
    "# val_x, val_y = nh.split_user_tags_percentage(test_set[:TEST_PART_SIZE])\n",
    "val_x = test_set[:TEST_PART_SIZE]\n",
    "\n",
    "recall, jaccard = er.evaluate_model_recall(model, val_x, val_y, params['topk'], 4000)\n",
    "\n",
    "result = \"Model test performed \\nRecall score: \" + str(recall) + \"     Jaccard score: \" + str(jaccard)\n",
    "print(result)"
   ]
  },
  {
   "cell_type": "code",
   "execution_count": 57,
   "metadata": {},
   "outputs": [
    {
     "name": "stdout",
     "output_type": "stream",
     "text": [
      "Model test performed \n",
      "Recall score: 0.06088157440441938     Jaccard score: 0.03735875706214689\n"
     ]
    }
   ],
   "source": [
    "# val_x, val_y = nh.split_user_tags_percentage(test_set[:TEST_PART_SIZE])\n",
    "val_x = test_set[:TEST_PART_SIZE]\n",
    "\n",
    "recall, jaccard = er.evaluate_model_recall(model, val_x, val_y, params['topk'], 10000)\n",
    "\n",
    "result = \"Model test performed \\nRecall score: \" + str(recall) + \"     Jaccard score: \" + str(jaccard)\n",
    "print(result)\n"
   ]
  },
  {
   "cell_type": "code",
   "execution_count": null,
   "metadata": {},
   "outputs": [],
   "source": []
  },
  {
   "cell_type": "code",
   "execution_count": null,
   "metadata": {},
   "outputs": [],
   "source": []
  },
  {
   "cell_type": "code",
   "execution_count": 3,
   "metadata": {},
   "outputs": [],
   "source": [
    "model = NeuMF.get_model(num_users=20000, num_items=2000, mf_dim=74, layers=[128, 128], reg_layers=[0, 0])"
   ]
  },
  {
   "cell_type": "code",
   "execution_count": 4,
   "metadata": {
    "scrolled": true
   },
   "outputs": [],
   "source": [
    "model.load_weights('../Pretrain/_NeuMF_74_[128,128]_1561985878.h5')"
   ]
  },
  {
   "cell_type": "code",
   "execution_count": 13,
   "metadata": {},
   "outputs": [],
   "source": [
    "preds = er.get_preds(model, y_test[:2000], fast_eval=False, starting_user_num=0, K=3)"
   ]
  },
  {
   "cell_type": "code",
   "execution_count": 95,
   "metadata": {
    "scrolled": true
   },
   "outputs": [
    {
     "name": "stdout",
     "output_type": "stream",
     "text": [
      "Pred goal: ('building', 'decay', 'snow', 'urbex')\n",
      "Predicted: ('cold', 'nature', 'sky')\n",
      "index: 1126\n"
     ]
    }
   ],
   "source": [
    "nh.random_check(test_y.toarray(), preds, mlbx, mlby)"
   ]
  },
  {
   "cell_type": "code",
   "execution_count": 24,
   "metadata": {},
   "outputs": [
    {
     "data": {
      "text/plain": [
       "2000"
      ]
     },
     "execution_count": 24,
     "metadata": {},
     "output_type": "execute_result"
    }
   ],
   "source": [
    "len(mlby.inverse_transform(test_y))"
   ]
  },
  {
   "cell_type": "code",
   "execution_count": 27,
   "metadata": {},
   "outputs": [],
   "source": [
    "from random import randint"
   ]
  },
  {
   "cell_type": "code",
   "execution_count": 36,
   "metadata": {
    "scrolled": true
   },
   "outputs": [
    {
     "name": "stdout",
     "output_type": "stream",
     "text": [
      "2186\n"
     ]
    }
   ],
   "source": [
    "index = randint(0, len(test_y) - 1)\n",
    "print(index)"
   ]
  },
  {
   "cell_type": "code",
   "execution_count": 38,
   "metadata": {},
   "outputs": [
    {
     "data": {
      "text/plain": [
       "8786"
      ]
     },
     "execution_count": 38,
     "metadata": {},
     "output_type": "execute_result"
    }
   ],
   "source": [
    "len(test_y)"
   ]
  }
 ],
 "metadata": {
  "kernelspec": {
   "display_name": "Python 3",
   "language": "python",
   "name": "python3"
  },
  "language_info": {
   "codemirror_mode": {
    "name": "ipython",
    "version": 3
   },
   "file_extension": ".py",
   "mimetype": "text/x-python",
   "name": "python",
   "nbconvert_exporter": "python",
   "pygments_lexer": "ipython3",
   "version": "3.6.7"
  }
 },
 "nbformat": 4,
 "nbformat_minor": 2
}
