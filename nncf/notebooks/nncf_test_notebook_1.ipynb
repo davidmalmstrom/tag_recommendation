{
 "cells": [
  {
   "cell_type": "code",
   "execution_count": 1,
   "metadata": {},
   "outputs": [],
   "source": [
    "import os\n",
    "import sys"
   ]
  },
  {
   "cell_type": "code",
   "execution_count": 2,
   "metadata": {},
   "outputs": [],
   "source": [
    "# append src dir to pythonpath\n",
    "module_path = os.path.abspath(\"..\") # os.path.abspath(os.path.join('..'))\n",
    "if module_path not in sys.path:\n",
    "    sys.path.append(module_path)"
   ]
  },
  {
   "cell_type": "code",
   "execution_count": 39,
   "metadata": {},
   "outputs": [],
   "source": [
    "import NeuMF as nf\n",
    "import evaluate_recall\n",
    "import GMF\n",
    "import MLP\n",
    "import scipy.sparse as sp\n",
    "import lib.notebook_helpers as nh\n",
    "from Dataset import Dataset\n",
    "import importlib"
   ]
  },
  {
   "cell_type": "code",
   "execution_count": 52,
   "metadata": {
    "scrolled": true
   },
   "outputs": [
    {
     "data": {
      "text/plain": [
       "<module 'lib.notebook_helpers' from '/home/david/Documents/proj/neural_collaborative_filtering/lib/notebook_helpers.py'>"
      ]
     },
     "execution_count": 52,
     "metadata": {},
     "output_type": "execute_result"
    }
   ],
   "source": [
    "importlib.reload(nh)"
   ]
  },
  {
   "cell_type": "code",
   "execution_count": 4,
   "metadata": {},
   "outputs": [],
   "source": [
    "mf_dim = 8\n",
    "layers = [1024, 1024]\n",
    "reg_layers = [0, 0]\n",
    "reg_mf = 0"
   ]
  },
  {
   "cell_type": "code",
   "execution_count": 5,
   "metadata": {},
   "outputs": [],
   "source": [
    "dataset = Dataset(\"../Data\", tag_dataset=True, big_tag=False)\n",
    "train, testRatings, testNegatives = dataset.trainMatrix, dataset.testRatings, dataset.testNegatives\n",
    "num_users, num_items = train.shape"
   ]
  },
  {
   "cell_type": "code",
   "execution_count": 6,
   "metadata": {},
   "outputs": [],
   "source": [
    "model = nf.get_model(num_users, num_items, mf_dim, layers, reg_layers, reg_mf)\n"
   ]
  },
  {
   "cell_type": "code",
   "execution_count": 7,
   "metadata": {},
   "outputs": [],
   "source": [
    "model.load_weights(\"../Pretrain/_NeuMF_8_[1024, 1024]_1560166605.h5\")"
   ]
  },
  {
   "cell_type": "code",
   "execution_count": 8,
   "metadata": {
    "scrolled": true
   },
   "outputs": [],
   "source": [
    "# For recall-evaluation:\n",
    "val_x, val_y = nf.split_half_tags(train[:1500])\n",
    "train = sp.vstack([val_x, train[1500:]]).todok()"
   ]
  },
  {
   "cell_type": "code",
   "execution_count": 9,
   "metadata": {},
   "outputs": [],
   "source": [
    "preds = evaluate_recall.get_preds(model, val_x, 3)"
   ]
  },
  {
   "cell_type": "code",
   "execution_count": 63,
   "metadata": {
    "scrolled": true
   },
   "outputs": [
    {
     "name": "stdout",
     "output_type": "stream",
     "text": [
      "Start tags: ('bc', 'canada', 'june')\n",
      "\n",
      "Pred goal: ('mike', 'victoria')\n",
      "Predicted: ('british+columbia', 'melbourne', 'victoria')\n",
      "index: 826\n"
     ]
    }
   ],
   "source": [
    "nh.random_check(val_y.toarray(), preds, dataset.mlbx, dataset.mlby, val_x.toarray())"
   ]
  }
 ],
 "metadata": {
  "kernelspec": {
   "display_name": "Python 3",
   "language": "python",
   "name": "python3"
  },
  "language_info": {
   "codemirror_mode": {
    "name": "ipython",
    "version": 3
   },
   "file_extension": ".py",
   "mimetype": "text/x-python",
   "name": "python",
   "nbconvert_exporter": "python",
   "pygments_lexer": "ipython3",
   "version": "3.6.7"
  }
 },
 "nbformat": 4,
 "nbformat_minor": 2
}
