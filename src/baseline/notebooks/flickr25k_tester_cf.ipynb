{
 "cells": [
  {
   "cell_type": "code",
   "execution_count": 48,
   "metadata": {},
   "outputs": [],
   "source": [
    "import pandas as pd\n",
    "import os\n",
    "import sys\n",
    "from importlib import reload\n",
    "from sklearn.model_selection import train_test_split\n",
    "import pickle"
   ]
  },
  {
   "cell_type": "code",
   "execution_count": 5,
   "metadata": {},
   "outputs": [],
   "source": [
    "# append src dir to pythonpath\n",
    "module_path = os.path.abspath(\"../..\") # os.path.abspath(os.path.join('..'))\n",
    "if module_path not in sys.path:\n",
    "    sys.path.append(module_path)"
   ]
  },
  {
   "cell_type": "code",
   "execution_count": 6,
   "metadata": {},
   "outputs": [
    {
     "name": "stderr",
     "output_type": "stream",
     "text": [
      "Using TensorFlow backend.\n"
     ]
    }
   ],
   "source": [
    "import lib.utils as utils"
   ]
  },
  {
   "cell_type": "code",
   "execution_count": 8,
   "metadata": {},
   "outputs": [
    {
     "data": {
      "text/plain": [
       "<module 'lib.notebook_helpers' from '/home/david/Documents/proj/tag-rec/src/lib/notebook_helpers.py'>"
      ]
     },
     "execution_count": 8,
     "metadata": {},
     "output_type": "execute_result"
    }
   ],
   "source": [
    "reload(nh)"
   ]
  },
  {
   "cell_type": "code",
   "execution_count": 9,
   "metadata": {},
   "outputs": [],
   "source": [
    "dataset = utils.generate_data(10000)"
   ]
  },
  {
   "cell_type": "code",
   "execution_count": 10,
   "metadata": {},
   "outputs": [],
   "source": [
    "X, y, mlbx, mlby = utils.reshape_data(dataset)"
   ]
  },
  {
   "cell_type": "code",
   "execution_count": 11,
   "metadata": {
    "scrolled": true
   },
   "outputs": [
    {
     "data": {
      "text/plain": [
       "(10000, 2)"
      ]
     },
     "execution_count": 11,
     "metadata": {},
     "output_type": "execute_result"
    }
   ],
   "source": [
    "dataset.shape"
   ]
  },
  {
   "cell_type": "code",
   "execution_count": 12,
   "metadata": {},
   "outputs": [],
   "source": [
    "x_train, x_test, y_train, y_test = train_test_split(X, y, test_size=0.3)"
   ]
  },
  {
   "cell_type": "code",
   "execution_count": 7,
   "metadata": {
    "scrolled": true
   },
   "outputs": [],
   "source": [
    "dataset1 = utils.generate_data(17000)"
   ]
  },
  {
   "cell_type": "code",
   "execution_count": 8,
   "metadata": {},
   "outputs": [
    {
     "data": {
      "text/plain": [
       "(17000, 2)"
      ]
     },
     "execution_count": 8,
     "metadata": {},
     "output_type": "execute_result"
    }
   ],
   "source": [
    "dataset1.shape"
   ]
  },
  {
   "cell_type": "code",
   "execution_count": 9,
   "metadata": {},
   "outputs": [
    {
     "data": {
      "text/html": [
       "<div>\n",
       "<style scoped>\n",
       "    .dataframe tbody tr th:only-of-type {\n",
       "        vertical-align: middle;\n",
       "    }\n",
       "\n",
       "    .dataframe tbody tr th {\n",
       "        vertical-align: top;\n",
       "    }\n",
       "\n",
       "    .dataframe thead th {\n",
       "        text-align: right;\n",
       "    }\n",
       "</style>\n",
       "<table border=\"1\" class=\"dataframe\">\n",
       "  <thead>\n",
       "    <tr style=\"text-align: right;\">\n",
       "      <th></th>\n",
       "      <th>User_tags</th>\n",
       "      <th>autotags</th>\n",
       "    </tr>\n",
       "    <tr>\n",
       "      <th>Line_number</th>\n",
       "      <th></th>\n",
       "      <th></th>\n",
       "    </tr>\n",
       "  </thead>\n",
       "  <tbody>\n",
       "    <tr>\n",
       "      <th>31</th>\n",
       "      <td>[america, child, children, free, games, image,...</td>\n",
       "      <td>[arch, architecture, fort, fortification, goth...</td>\n",
       "    </tr>\n",
       "    <tr>\n",
       "      <th>34</th>\n",
       "      <td>[august, canal, church, grand, italia, italy, ...</td>\n",
       "      <td>[architecture, belfry, building, campanile, ca...</td>\n",
       "    </tr>\n",
       "    <tr>\n",
       "      <th>254</th>\n",
       "      <td>[blue, glass, house, japan, japanese, lens, li...</td>\n",
       "      <td>[abstract, blue, ferry, indoor, neon light, sh...</td>\n",
       "    </tr>\n",
       "    <tr>\n",
       "      <th>315</th>\n",
       "      <td>[bridge, gothamist, island, manhattan, nyc, sp...</td>\n",
       "      <td>[amusement park, architecture, beam, bridge, b...</td>\n",
       "    </tr>\n",
       "    <tr>\n",
       "      <th>317</th>\n",
       "      <td>[concert, d90, festival, photo, rock, scene, w...</td>\n",
       "      <td>[alley, art, black background, black, blackand...</td>\n",
       "    </tr>\n",
       "  </tbody>\n",
       "</table>\n",
       "</div>"
      ],
      "text/plain": [
       "                                                     User_tags  \\\n",
       "Line_number                                                      \n",
       "31           [america, child, children, free, games, image,...   \n",
       "34           [august, canal, church, grand, italia, italy, ...   \n",
       "254          [blue, glass, house, japan, japanese, lens, li...   \n",
       "315          [bridge, gothamist, island, manhattan, nyc, sp...   \n",
       "317          [concert, d90, festival, photo, rock, scene, w...   \n",
       "\n",
       "                                                      autotags  \n",
       "Line_number                                                     \n",
       "31           [arch, architecture, fort, fortification, goth...  \n",
       "34           [architecture, belfry, building, campanile, ca...  \n",
       "254          [abstract, blue, ferry, indoor, neon light, sh...  \n",
       "315          [amusement park, architecture, beam, bridge, b...  \n",
       "317          [alley, art, black background, black, blackand...  "
      ]
     },
     "execution_count": 9,
     "metadata": {},
     "output_type": "execute_result"
    }
   ],
   "source": [
    "dataset1.head()"
   ]
  },
  {
   "cell_type": "code",
   "execution_count": 20,
   "metadata": {},
   "outputs": [],
   "source": [
    "X, y, mlbx, mlby = utils.reshape_data(dataset1)"
   ]
  },
  {
   "cell_type": "code",
   "execution_count": 11,
   "metadata": {
    "scrolled": true
   },
   "outputs": [
    {
     "ename": "NameError",
     "evalue": "name 'np' is not defined",
     "output_type": "error",
     "traceback": [
      "\u001b[0;31m---------------------------------------------------------------------------\u001b[0m",
      "\u001b[0;31mNameError\u001b[0m                                 Traceback (most recent call last)",
      "\u001b[0;32m<ipython-input-11-a5a6b426f986>\u001b[0m in \u001b[0;36m<module>\u001b[0;34m\u001b[0m\n\u001b[0;32m----> 1\u001b[0;31m \u001b[0mnp\u001b[0m\u001b[0;34m.\u001b[0m\u001b[0mnonzero\u001b[0m\u001b[0;34m(\u001b[0m\u001b[0my\u001b[0m\u001b[0;34m[\u001b[0m\u001b[0;36m0\u001b[0m\u001b[0;34m]\u001b[0m\u001b[0;34m)\u001b[0m\u001b[0;34m\u001b[0m\u001b[0;34m\u001b[0m\u001b[0m\n\u001b[0m",
      "\u001b[0;31mNameError\u001b[0m: name 'np' is not defined"
     ]
    }
   ],
   "source": [
    "np.nonzero(y[0])"
   ]
  },
  {
   "cell_type": "code",
   "execution_count": 70,
   "metadata": {},
   "outputs": [],
   "source": [
    "def generate_and_write_NCF_dataset():\n",
    "    dataset = utils.generate_data(17000)\n",
    "    X, y, mlbx, mlby = utils.reshape_data(dataset)\n",
    "    wrap = CFDataset(X, y, mlbx, mlby)\n",
    "    pickle.dump(wrap, open('NCF_dataset.pkl', 'wb'))\n",
    "    "
   ]
  },
  {
   "cell_type": "code",
   "execution_count": 68,
   "metadata": {},
   "outputs": [],
   "source": [
    "class CFDataset(object):\n",
    "    # Wrapper for the dataset in the NCF-sense, only using the y-part of the data.\n",
    "    \n",
    "    def __init__(self, X, y, mlbx, mlby):\n",
    "        # Sample unlabelled as negatives, 100 per item:\n",
    "        self.testNegatives = [list(np.random.choice(np.where(row == 0)[0], 99)) for row in y]\n",
    "        \n",
    "        # Sample positives as test positives. The list in list with indices is because NCF is implemented that way.\n",
    "        self.testRatings = [[i, np.random.choice(np.nonzero(row)[0])] for i, row in enumerate(y)]\n",
    "        for (m, n) in self.testRatings:\n",
    "            y[m, n] = 0\n",
    "\n",
    "        self.trainMatrix = sparse.csc_matrix(y)\n",
    "        self.mlby = mlby\n",
    "        self.X = X\n",
    "        self.mlbx = mlbx"
   ]
  },
  {
   "cell_type": "code",
   "execution_count": 71,
   "metadata": {},
   "outputs": [],
   "source": [
    "generate_and_write_NCF_dataset()"
   ]
  },
  {
   "cell_type": "code",
   "execution_count": 50,
   "metadata": {},
   "outputs": [],
   "source": [
    "data = CFDataset(y, mlby)"
   ]
  },
  {
   "cell_type": "code",
   "execution_count": 53,
   "metadata": {},
   "outputs": [],
   "source": [
    "pickle.dump(data, open('CF_dataset.pkl', 'wb'))\n",
    "x = pickle.load(open('CF_dataset.pkl', 'rb'))"
   ]
  },
  {
   "cell_type": "code",
   "execution_count": 39,
   "metadata": {},
   "outputs": [],
   "source": [
    "testNegatives = [list(np.random.choice(np.where(row == 0)[0], 99)) for row in y]"
   ]
  },
  {
   "cell_type": "code",
   "execution_count": 149,
   "metadata": {},
   "outputs": [
    {
     "data": {
      "text/plain": [
       "446"
      ]
     },
     "execution_count": 149,
     "metadata": {},
     "output_type": "execute_result"
    }
   ],
   "source": [
    "np.random.choice(np.nonzero(y[0])[0])"
   ]
  },
  {
   "cell_type": "markdown",
   "metadata": {},
   "source": [
    "## Start with CF"
   ]
  },
  {
   "cell_type": "code",
   "execution_count": 13,
   "metadata": {},
   "outputs": [],
   "source": [
    "import implicit\n",
    "from scipy import sparse\n",
    "import numpy as np"
   ]
  },
  {
   "cell_type": "code",
   "execution_count": 14,
   "metadata": {
    "scrolled": true
   },
   "outputs": [],
   "source": [
    "model = implicit.als.AlternatingLeastSquares(factors=50)"
   ]
  },
  {
   "cell_type": "code",
   "execution_count": 15,
   "metadata": {},
   "outputs": [
    {
     "data": {
      "text/plain": [
       "(7000, 986)"
      ]
     },
     "execution_count": 15,
     "metadata": {},
     "output_type": "execute_result"
    }
   ],
   "source": [
    "y_train.shape"
   ]
  },
  {
   "cell_type": "markdown",
   "metadata": {},
   "source": [
    "7000 \"users\" and 986 \"items\""
   ]
  },
  {
   "cell_type": "code",
   "execution_count": 13,
   "metadata": {},
   "outputs": [],
   "source": [
    "y_sparse = sparse.csr_matrix(y_train)"
   ]
  },
  {
   "cell_type": "code",
   "execution_count": 14,
   "metadata": {},
   "outputs": [
    {
     "name": "stderr",
     "output_type": "stream",
     "text": [
      "100%|██████████| 15.0/15 [00:00<00:00, 22.17it/s]\n"
     ]
    }
   ],
   "source": [
    "# fit takes an item_X_user-matrix\n",
    "model.fit(y_sparse.transpose())"
   ]
  },
  {
   "cell_type": "code",
   "execution_count": 15,
   "metadata": {},
   "outputs": [
    {
     "data": {
      "text/plain": [
       "[(39, 0.35648203),\n",
       " (352, 0.22013423),\n",
       " (896, 0.16828012),\n",
       " (909, 0.13785218),\n",
       " (906, 0.13519911),\n",
       " (376, 0.12883988),\n",
       " (51, 0.115108036),\n",
       " (830, 0.10886446),\n",
       " (350, 0.100379825),\n",
       " (258, 0.087289974)]"
      ]
     },
     "execution_count": 15,
     "metadata": {},
     "output_type": "execute_result"
    }
   ],
   "source": [
    "asd = model.recommend(1011, y_sparse)\n",
    "asd"
   ]
  },
  {
   "cell_type": "code",
   "execution_count": 16,
   "metadata": {},
   "outputs": [
    {
     "data": {
      "text/plain": [
       "(7000, 986)"
      ]
     },
     "execution_count": 16,
     "metadata": {},
     "output_type": "execute_result"
    }
   ],
   "source": [
    "y_train.shape"
   ]
  },
  {
   "cell_type": "code",
   "execution_count": 17,
   "metadata": {},
   "outputs": [
    {
     "data": {
      "text/plain": [
       "(array([ 59, 369, 455, 652, 761, 847]),)"
      ]
     },
     "execution_count": 17,
     "metadata": {},
     "output_type": "execute_result"
    }
   ],
   "source": [
    "np.nonzero(y_train[0])"
   ]
  },
  {
   "cell_type": "code",
   "execution_count": 18,
   "metadata": {},
   "outputs": [
    {
     "data": {
      "text/plain": [
       "('chicago', 'illinois', 'march', 'spring', 'united+states', 'us', 'usa')"
      ]
     },
     "execution_count": 18,
     "metadata": {},
     "output_type": "execute_result"
    }
   ],
   "source": [
    "mlby.inverse_transform(y_train)[1011]"
   ]
  },
  {
   "cell_type": "code",
   "execution_count": 19,
   "metadata": {},
   "outputs": [],
   "source": [
    "cand = np.zeros((1, 986))\n",
    "cand[0][112] = 1"
   ]
  },
  {
   "cell_type": "code",
   "execution_count": 20,
   "metadata": {},
   "outputs": [
    {
     "data": {
      "text/plain": [
       "(array([0, 1]),)"
      ]
     },
     "execution_count": 20,
     "metadata": {},
     "output_type": "execute_result"
    }
   ],
   "source": [
    "np.nonzero(cand.shape)"
   ]
  },
  {
   "cell_type": "code",
   "execution_count": 21,
   "metadata": {},
   "outputs": [
    {
     "data": {
      "text/plain": [
       "(1, 986)"
      ]
     },
     "execution_count": 21,
     "metadata": {},
     "output_type": "execute_result"
    }
   ],
   "source": [
    "cand.shape"
   ]
  },
  {
   "cell_type": "code",
   "execution_count": 22,
   "metadata": {},
   "outputs": [
    {
     "data": {
      "text/plain": [
       "(7000, 986)"
      ]
     },
     "execution_count": 22,
     "metadata": {},
     "output_type": "execute_result"
    }
   ],
   "source": [
    "y_train.shape"
   ]
  },
  {
   "cell_type": "code",
   "execution_count": 23,
   "metadata": {
    "scrolled": true
   },
   "outputs": [
    {
     "ename": "NameError",
     "evalue": "name 'test_test' is not defined",
     "output_type": "error",
     "traceback": [
      "\u001b[0;31m---------------------------------------------------------------------------\u001b[0m",
      "\u001b[0;31mNameError\u001b[0m                                 Traceback (most recent call last)",
      "\u001b[0;32m<ipython-input-23-22144e243c8f>\u001b[0m in \u001b[0;36m<module>\u001b[0;34m\u001b[0m\n\u001b[0;32m----> 1\u001b[0;31m \u001b[0mmlby\u001b[0m\u001b[0;34m.\u001b[0m\u001b[0minverse_transform\u001b[0m\u001b[0;34m(\u001b[0m\u001b[0mnp\u001b[0m\u001b[0;34m.\u001b[0m\u001b[0mreshape\u001b[0m\u001b[0;34m(\u001b[0m\u001b[0mtest_test\u001b[0m\u001b[0;34m[\u001b[0m\u001b[0;36m545\u001b[0m\u001b[0;34m]\u001b[0m\u001b[0;34m,\u001b[0m \u001b[0;34m(\u001b[0m\u001b[0;36m1\u001b[0m\u001b[0;34m,\u001b[0m \u001b[0;34m-\u001b[0m\u001b[0;36m1\u001b[0m\u001b[0;34m)\u001b[0m\u001b[0;34m)\u001b[0m\u001b[0;34m)\u001b[0m\u001b[0;34m\u001b[0m\u001b[0;34m\u001b[0m\u001b[0m\n\u001b[0m",
      "\u001b[0;31mNameError\u001b[0m: name 'test_test' is not defined"
     ]
    }
   ],
   "source": [
    "mlby.inverse_transform(np.reshape(test_test[545], (1, -1)))"
   ]
  },
  {
   "cell_type": "markdown",
   "metadata": {},
   "source": [
    "## Further"
   ]
  },
  {
   "cell_type": "markdown",
   "metadata": {},
   "source": [
    "Hur funkar det om vi endast har 1 user tag på ett item, kan vi få vettiga rekommendationer?"
   ]
  },
  {
   "cell_type": "markdown",
   "metadata": {},
   "source": [
    "Hur gör de flesta papers för att testa detta? Tar man bort eller? Kolla upp detta."
   ]
  },
  {
   "cell_type": "markdown",
   "metadata": {},
   "source": [
    "Use half to start with (from epfl-flickr)"
   ]
  },
  {
   "cell_type": "markdown",
   "metadata": {},
   "source": [
    "## Create an evaluation"
   ]
  },
  {
   "cell_type": "code",
   "execution_count": 84,
   "metadata": {},
   "outputs": [],
   "source": [
    "from sklearn.base import BaseEstimator, TransformerMixin\n",
    "from sklearn.utils.validation import check_is_fitted\n",
    "class ALSEstimator(BaseEstimator, TransformerMixin):\n",
    "    # from https://gist.github.com/jbochi/2e8ddcc5939e70e5368326aa034a144e#file-evaluation-ipynb\n",
    "    def __init__(self, factors=50,\n",
    "                       regularization=0.01,\n",
    "                       iterations=15,\n",
    "                       filter_seen=True,\n",
    "                       show_progress=True,\n",
    "                       n=3):\n",
    "        self.factors = factors\n",
    "        self.regularization = regularization\n",
    "        self.iterations = iterations\n",
    "        self.filter_seen = filter_seen\n",
    "        self.show_progress = show_progress\n",
    "        self.n = n\n",
    "\n",
    "    def fit(self, X, y=None):\n",
    "        self.model = implicit.als.AlternatingLeastSquares(factors=self.factors,\n",
    "                                             regularization=self.regularization,\n",
    "                                             iterations=self.iterations,\n",
    "                                             dtype=np.float32,\n",
    "                                             use_native=True)\n",
    "        self.model.fit(X, show_progress=self.show_progress)\n",
    "        if self.filter_seen:\n",
    "            self.fit_X = X\n",
    "        self._fitted = True\n",
    "        return self\n",
    "    \n",
    "    def predict(self, X=None, y=None):\n",
    "        # Check if fit had been called\n",
    "        check_is_fitted(self, ['_fitted'])\n",
    "        \n",
    "        predictions = np.dot(self.model.item_factors, self.model.user_factors.T)\n",
    "        if self.filter_seen:\n",
    "            predictions[self.fit_X.nonzero()] = -99\n",
    "            \n",
    "        # Make predictions into top n (default is 3)\n",
    "        predictions = predictions.transpose()\n",
    "        tops = utils.get_top_n_tags(predictions, n=self.n)\n",
    "        predictions = utils.from_keras_format(list(map(lambda x: x + 1, tops)), predictions.shape[1])\n",
    "        return predictions"
   ]
  },
  {
   "cell_type": "code",
   "execution_count": 17,
   "metadata": {},
   "outputs": [],
   "source": [
    "from sklearn.base import BaseEstimator, TransformerMixin\n",
    "from sklearn.utils.validation import check_is_fitted\n",
    "class NMSLibALSEstimator(BaseEstimator, TransformerMixin):\n",
    "    # from https://gist.github.com/jbochi/2e8ddcc5939e70e5368326aa034a144e#file-evaluation-ipynb\n",
    "    def __init__(self, iterations=15,\n",
    "                       filter_seen=True,\n",
    "                       show_progress=True):\n",
    "        self.iterations = iterations\n",
    "        self.filter_seen = filter_seen\n",
    "        self.show_progress = show_progress\n",
    "\n",
    "    def fit(self, X, y=None):\n",
    "        self.model = implicit.approximate_als.NMSLibAlternatingLeastSquares()\n",
    "        self.model.fit(X, show_progress=self.show_progress)\n",
    "        if self.filter_seen:\n",
    "            self.fit_X = X\n",
    "        self._fitted = True\n",
    "        return self\n",
    "    \n",
    "    def predict(self, X=None, y=None):\n",
    "        # Check if fit had been called\n",
    "        check_is_fitted(self, ['_fitted'])\n",
    "        \n",
    "        predictions = np.dot(self.model.item_factors, self.model.user_factors.T)\n",
    "        if self.filter_seen:\n",
    "            predictions[self.fit_X.nonzero()] = -99\n",
    "            \n",
    "        # Make predictions into top 3\n",
    "        predictions = predictions.transpose()\n",
    "        tops = utils.get_top_n_tags(predictions, n=3)\n",
    "        predictions = utils.from_keras_format(list(map(lambda x: x + 1, tops)), predictions.shape[1])\n",
    "        return predictions"
   ]
  },
  {
   "cell_type": "markdown",
   "metadata": {},
   "source": [
    "## Test part\n",
    "This part is to figure out how to do it. The proper implementation will be under the headline *Optimize*"
   ]
  },
  {
   "cell_type": "code",
   "execution_count": 19,
   "metadata": {},
   "outputs": [],
   "source": [
    "test_truth = y_test.copy()\n",
    "test_test = y_test.copy()\n",
    "for row_index in range(y_test.shape[0]):\n",
    "    nonzeros = np.nonzero(y_test[row_index])[0]\n",
    "    # Set half of the non-zero elements in the row to zero. These are saved in test_truth, and will be predicted\n",
    "    test_test[row_index, np.random.choice(nonzeros, int(len(nonzeros)/2), replace=False)] = 0"
   ]
  },
  {
   "cell_type": "code",
   "execution_count": 20,
   "metadata": {},
   "outputs": [],
   "source": [
    "test_missing = test_truth - test_test"
   ]
  },
  {
   "cell_type": "code",
   "execution_count": 21,
   "metadata": {
    "scrolled": true
   },
   "outputs": [
    {
     "name": "stdout",
     "output_type": "stream",
     "text": [
      "(7000, 986)\n",
      "(3000, 986)\n"
     ]
    }
   ],
   "source": [
    "print(y_train.shape)\n",
    "print(test_test.shape)\n",
    "full_train = np.concatenate((y_train, test_test), axis=0)"
   ]
  },
  {
   "cell_type": "code",
   "execution_count": 22,
   "metadata": {},
   "outputs": [
    {
     "name": "stderr",
     "output_type": "stream",
     "text": [
      "100%|██████████| 15.0/15 [00:00<00:00, 16.73it/s]\n"
     ]
    },
    {
     "data": {
      "text/plain": [
       "ALSEstimator(factors=50, filter_seen=True, iterations=15, regularization=0.01,\n",
       "       show_progress=True)"
      ]
     },
     "execution_count": 22,
     "metadata": {},
     "output_type": "execute_result"
    }
   ],
   "source": [
    "model = ALSEstimator()\n",
    "full_train_sparse = sparse.csr_matrix(full_train)\n",
    "# fit takes an item_X_user-matrix\n",
    "model.fit(full_train_sparse.transpose())"
   ]
  },
  {
   "cell_type": "code",
   "execution_count": 27,
   "metadata": {},
   "outputs": [
    {
     "data": {
      "text/plain": [
       "(10000, 986)"
      ]
     },
     "execution_count": 27,
     "metadata": {},
     "output_type": "execute_result"
    }
   ],
   "source": [
    "model.predict().shape"
   ]
  },
  {
   "cell_type": "code",
   "execution_count": 33,
   "metadata": {},
   "outputs": [],
   "source": [
    "preds_orgs = model.predict()[-3000:]"
   ]
  },
  {
   "cell_type": "code",
   "execution_count": 34,
   "metadata": {},
   "outputs": [
    {
     "data": {
      "text/plain": [
       "(3000, 986)"
      ]
     },
     "execution_count": 34,
     "metadata": {},
     "output_type": "execute_result"
    }
   ],
   "source": [
    "preds_orgs.shape"
   ]
  },
  {
   "cell_type": "code",
   "execution_count": 35,
   "metadata": {},
   "outputs": [
    {
     "data": {
      "text/plain": [
       "[array([679, 980, 671]),\n",
       " array([913, 511, 509]),\n",
       " array([527, 380, 351]),\n",
       " array([351, 820, 380]),\n",
       " array([935,  49, 199]),\n",
       " array([ 59, 203, 966]),\n",
       " array([ 94, 566, 388]),\n",
       " array([399, 907, 518]),\n",
       " array([527, 820, 350]),\n",
       " array([501, 350,  74]),\n",
       " array([157, 514,  81]),\n",
       " array([ 92, 120, 763]),\n",
       " array([602, 603, 915]),\n",
       " array([367, 282, 438]),\n",
       " array([762,  39, 908]),\n",
       " array([132, 586, 913]),\n",
       " array([399, 902, 907]),\n",
       " array([914,  39, 908]),\n",
       " array([509, 521, 256]),\n",
       " array([401, 894, 895]),\n",
       " array([582, 218, 743]),\n",
       " array([586, 602, 626]),\n",
       " array([739, 802, 820]),\n",
       " array([802, 501, 820]),\n",
       " array([428, 896, 472]),\n",
       " array([445, 679, 363]),\n",
       " array([918, 896, 961]),\n",
       " array([321, 980,  74]),\n",
       " array([509, 856, 375]),\n",
       " array([321, 301, 501]),\n",
       " array([64,  4,  5]),\n",
       " array([762,  39, 908]),\n",
       " array([206, 851,  74]),\n",
       " array([162, 196, 167]),\n",
       " array([927, 621, 623]),\n",
       " array([679, 671, 626]),\n",
       " array([743, 514,  81]),\n",
       " array([157, 388, 968]),\n",
       " array([468, 820, 966]),\n",
       " array([336, 935, 632]),\n",
       " array([632, 915, 375]),\n",
       " array([336, 935, 632]),\n",
       " array([138, 393, 626]),\n",
       " array([375, 665, 793]),\n",
       " array([762, 147, 132]),\n",
       " array([981, 626, 193]),\n",
       " array([896, 375, 882]),\n",
       " array([628, 851, 199]),\n",
       " array([918, 896, 882]),\n",
       " array([514, 881, 387]),\n",
       " array([199, 578, 361]),\n",
       " array([586, 828, 257]),\n",
       " array([586, 961, 882]),\n",
       " array([739, 151, 367]),\n",
       " array([ 23, 927, 621]),\n",
       " array([743,  81, 879]),\n",
       " array([ 92, 397, 776]),\n",
       " array([132, 120, 808]),\n",
       " array([577, 132, 494]),\n",
       " array([351, 820, 350]),\n",
       " array([729, 196, 632]),\n",
       " array([599, 894, 117]),\n",
       " array([851, 740, 958]),\n",
       " array([ 91, 142, 966]),\n",
       " array([428, 896, 375]),\n",
       " array([494,  59, 658]),\n",
       " array([739, 902, 301]),\n",
       " array([743, 514,  81]),\n",
       " array([729,  74, 501]),\n",
       " array([306, 743,  81]),\n",
       " array([ 93, 388, 968]),\n",
       " array([730, 494, 628]),\n",
       " array([729, 608, 913]),\n",
       " array([907, 384, 902]),\n",
       " array([913,  72, 167]),\n",
       " array([745,  52, 747]),\n",
       " array([894, 397, 350]),\n",
       " array([198, 856, 776]),\n",
       " array([729, 915,  39]),\n",
       " array([527, 350, 351]),\n",
       " array([ 39, 132, 908]),\n",
       " array([509,  52, 608]),\n",
       " array([851, 856, 793]),\n",
       " array([428, 896, 793]),\n",
       " array([367, 586, 949]),\n",
       " array([ 49, 196, 632]),\n",
       " array([ 93, 968, 566]),\n",
       " array([802, 856, 206]),\n",
       " array([632, 592, 935]),\n",
       " array([745, 466, 747]),\n",
       " array([367, 306,  98]),\n",
       " array([306, 218, 466]),\n",
       " array([808, 203, 441]),\n",
       " array([739, 730, 509]),\n",
       " array([401, 856, 206]),\n",
       " array([367, 494,  92]),\n",
       " array([ 59, 958, 111]),\n",
       " array([ 64, 879,   4]),\n",
       " array([418, 795,  52]),\n",
       " array([ 64, 879,   4]),\n",
       " array([820, 380, 350]),\n",
       " array([157, 375, 162]),\n",
       " array([740, 370, 418]),\n",
       " array([739, 495, 895]),\n",
       " array([918, 816, 428]),\n",
       " array([ 93, 375, 388]),\n",
       " array([ 91, 638, 880]),\n",
       " array([763, 628, 202]),\n",
       " array([851, 839,  10]),\n",
       " array([608,  72, 167]),\n",
       " array([199, 157, 578]),\n",
       " array([206, 851, 913]),\n",
       " array([808, 441, 468]),\n",
       " array([582, 881, 387]),\n",
       " array([675, 679, 445]),\n",
       " array([351, 820, 350]),\n",
       " array([851, 363, 679]),\n",
       " array([762, 147, 783]),\n",
       " array([306, 816, 893]),\n",
       " array([628, 626, 913]),\n",
       " array([445, 363, 672]),\n",
       " array([ 72, 196, 167]),\n",
       " array([894, 495, 699]),\n",
       " array([675, 894, 671]),\n",
       " array([675, 151, 894]),\n",
       " array([739, 893,  52]),\n",
       " array([445, 679, 671]),\n",
       " array([893, 918, 896]),\n",
       " array([787, 750, 599]),\n",
       " array([199, 157, 578]),\n",
       " array([711, 514,  82]),\n",
       " array([ 88,  99, 270]),\n",
       " array([367, 282, 438]),\n",
       " array([729, 850, 793]),\n",
       " array([750, 795, 418]),\n",
       " array([729, 851, 206]),\n",
       " array([ 64, 879,   5]),\n",
       " array([622, 623,  23]),\n",
       " array([193, 626,  52]),\n",
       " array([ 64, 350, 879]),\n",
       " array([743, 514,  81]),\n",
       " array([729, 839, 386]),\n",
       " array([743, 514,  81]),\n",
       " array([896, 301, 902]),\n",
       " array([608, 699, 509]),\n",
       " array([660, 918, 375]),\n",
       " array([582, 514, 111]),\n",
       " array([307, 306,  52]),\n",
       " array([322, 310, 375]),\n",
       " array([310, 218, 582]),\n",
       " array([699, 388, 968]),\n",
       " array([763, 776, 202]),\n",
       " array([487, 218, 934]),\n",
       " array([375, 729, 162]),\n",
       " array([740, 787, 418]),\n",
       " array([370, 787, 418]),\n",
       " array([581, 839, 386]),\n",
       " array([375, 162, 418]),\n",
       " array([367, 375, 162]),\n",
       " array([351, 820, 350]),\n",
       " array([750, 795, 418]),\n",
       " array([367, 906, 915]),\n",
       " array([527, 820, 351]),\n",
       " array([908, 603, 533]),\n",
       " array([660, 793, 375]),\n",
       " array([762, 147, 162]),\n",
       " array([920, 638,  91]),\n",
       " array([739, 894, 821]),\n",
       " array([914,  39, 908]),\n",
       " array([577, 132, 494]),\n",
       " array([783, 147, 628]),\n",
       " array([ 93, 699, 566]),\n",
       " array([739, 157, 776]),\n",
       " array([367, 191, 142]),\n",
       " array([632, 196, 980]),\n",
       " array([632,  59, 151]),\n",
       " array([514, 881, 387]),\n",
       " array([913, 918, 626]),\n",
       " array([729, 802, 793]),\n",
       " array([913, 793, 961]),\n",
       " array([625, 603, 533]),\n",
       " array([581, 395, 652]),\n",
       " array([586, 518, 980]),\n",
       " array([739, 820,  92]),\n",
       " array([599, 671, 915]),\n",
       " array([739,  52,  92]),\n",
       " array([582, 881, 387]),\n",
       " array([322, 375, 660]),\n",
       " array([397, 747, 466]),\n",
       " array([608, 739, 157]),\n",
       " array([ 92, 206, 628]),\n",
       " array([203, 966, 350]),\n",
       " array([582, 793, 626]),\n",
       " array([582, 218,  81]),\n",
       " array([851, 494, 199]),\n",
       " array([306, 135, 518]),\n",
       " array([199, 466, 851]),\n",
       " array([599, 981, 913]),\n",
       " array([740, 370, 795]),\n",
       " array([675, 581, 395]),\n",
       " array([206, 739, 980]),\n",
       " array([367, 586, 949]),\n",
       " array([938, 882, 881]),\n",
       " array([599, 336,  10]),\n",
       " array([399, 135, 907]),\n",
       " array([151, 375, 762]),\n",
       " array([307, 893, 913]),\n",
       " array([581, 206, 851]),\n",
       " array([509, 162, 256]),\n",
       " array([581, 395, 775]),\n",
       " array([675, 375, 271]),\n",
       " array([659, 592, 893]),\n",
       " array([307, 816, 729]),\n",
       " array([763, 628, 202]),\n",
       " array([ 91, 920, 282]),\n",
       " array([632, 151, 935]),\n",
       " array([906, 908, 915]),\n",
       " array([218, 582, 472]),\n",
       " array([191, 839, 438]),\n",
       " array([306, 918, 896]),\n",
       " array([766, 621, 479]),\n",
       " array([586, 577, 132]),\n",
       " array([632, 162, 196]),\n",
       " array([581, 775, 652]),\n",
       " array([375, 918, 850]),\n",
       " array([881, 934, 387]),\n",
       " array([336, 397, 882]),\n",
       " array([321, 980, 501]),\n",
       " array([336, 958, 747]),\n",
       " array([375, 388, 968]),\n",
       " array([ 39, 350, 908]),\n",
       " array([ 93, 388, 968]),\n",
       " array([582,  81, 142]),\n",
       " array([894, 629, 501]),\n",
       " array([445, 671, 386]),\n",
       " array([ 92, 776, 628]),\n",
       " array([218, 743,  81]),\n",
       " array([699, 388, 968]),\n",
       " array([856, 301, 902]),\n",
       " array([711, 514,  81]),\n",
       " array([ 91, 270, 638]),\n",
       " array([660, 271, 322]),\n",
       " array([199, 820, 350]),\n",
       " array([787, 740, 370]),\n",
       " array([397, 380, 351]),\n",
       " array([428, 908, 918]),\n",
       " array([675, 157, 375]),\n",
       " array([914,  39, 908]),\n",
       " array([370, 750, 317]),\n",
       " array([367, 918, 896]),\n",
       " array([676, 445, 679]),\n",
       " array([918, 816, 428]),\n",
       " array([206, 514,  81]),\n",
       " array([914,  39, 908]),\n",
       " array([198, 199, 820]),\n",
       " array([739, 592, 729]),\n",
       " array([167, 981,  72]),\n",
       " array([915, 914,  39]),\n",
       " array([445, 671, 386]),\n",
       " array([920,  91, 137]),\n",
       " array([577, 132, 120]),\n",
       " array([271, 511, 509]),\n",
       " array([310, 196, 935]),\n",
       " array([660, 375, 839]),\n",
       " array([739, 894, 821]),\n",
       " array([206, 111, 980]),\n",
       " array([949, 895, 509]),\n",
       " array([582, 763, 776]),\n",
       " array([802, 494, 578]),\n",
       " array([894, 157, 350]),\n",
       " array([793, 162, 882]),\n",
       " array([896, 882, 881]),\n",
       " array([301, 739, 856]),\n",
       " array([582, 671, 743]),\n",
       " array([395, 913, 336]),\n",
       " array([310, 162, 167]),\n",
       " array([370, 795, 418]),\n",
       " array([907, 518, 301]),\n",
       " array([206, 961, 851]),\n",
       " array([839, 743, 514]),\n",
       " array([599, 739, 894]),\n",
       " array([ 92, 763, 776]),\n",
       " array([527, 380, 351]),\n",
       " array([401, 980, 641]),\n",
       " array([306, 816, 367]),\n",
       " array([509, 511, 256]),\n",
       " array([199, 894, 468]),\n",
       " array([375, 918, 468]),\n",
       " array([395, 282, 913]),\n",
       " array([157, 472, 879]),\n",
       " array([ 92, 628, 511]),\n",
       " array([851,  72, 167]),\n",
       " array([625, 603, 533]),\n",
       " array([282, 913, 882]),\n",
       " array([307, 896, 301]),\n",
       " array([816, 305, 304]),\n",
       " array([599, 739, 776]),\n",
       " array([306, 980, 270]),\n",
       " array([282, 191,  52]),\n",
       " array([673, 671, 466]),\n",
       " array([581, 395,  52]),\n",
       " array([816, 304, 729]),\n",
       " array([783, 523, 760]),\n",
       " array([428, 918, 162]),\n",
       " array([949, 776,  52]),\n",
       " array([949, 856, 608]),\n",
       " array([660, 375, 820]),\n",
       " array([282, 191,  52]),\n",
       " array([907, 679, 518]),\n",
       " array([729, 375, 793]),\n",
       " array([582, 487, 881]),\n",
       " array([660, 375, 820]),\n",
       " array([802, 820, 966]),\n",
       " array([199, 117, 271]),\n",
       " array([113,  10,  42]),\n",
       " array([ 93, 388, 968]),\n",
       " array([787, 740, 750]),\n",
       " array([739, 256, 511]),\n",
       " array([802, 628, 856]),\n",
       " array([399, 518, 966]),\n",
       " array([ 78, 218, 146]),\n",
       " array([306, 882, 816]),\n",
       " array([218, 743, 711]),\n",
       " array([730, 494, 375]),\n",
       " array([533, 602, 603]),\n",
       " array([659, 117, 592]),\n",
       " array([ 74, 350, 401]),\n",
       " array([739, 310, 839]),\n",
       " array([739, 157, 820]),\n",
       " array([218, 487, 514]),\n",
       " array([802, 980, 641]),\n",
       " array([ 91, 896, 428]),\n",
       " array([582, 218, 514]),\n",
       " array([980, 206, 350]),\n",
       " array([206, 980, 915]),\n",
       " array([671, 729, 162]),\n",
       " array([395, 581, 271]),\n",
       " array([ 92, 961, 776]),\n",
       " array([367, 282, 191]),\n",
       " array([ 59, 602, 626]),\n",
       " array([ 39, 350, 908]),\n",
       " array([638, 111,  91]),\n",
       " array([920, 638,  91]),\n",
       " array([739, 494, 776]),\n",
       " array([199, 518, 851]),\n",
       " array([762, 494, 147]),\n",
       " array([673, 793, 271]),\n",
       " array([367, 147, 762]),\n",
       " array([729, 375, 839]),\n",
       " array([920, 638,  91]),\n",
       " array([445, 679, 839]),\n",
       " array([193, 839,  52]),\n",
       " array([206, 851, 350]),\n",
       " array([ 39, 740, 908]),\n",
       " array([350, 603, 626]),\n",
       " array([802, 628, 856]),\n",
       " array([90, 88, 99]),\n",
       " array([199, 117, 388]),\n",
       " array([334,  68, 481]),\n",
       " array([908, 914, 191]),\n",
       " array([603, 626, 199]),\n",
       " array([895, 802, 851]),\n",
       " array([679, 918, 375]),\n",
       " array([802, 628, 856]),\n",
       " array([676, 673, 271]),\n",
       " array([322, 310, 375]),\n",
       " array([856, 111, 509]),\n",
       " array([743, 514,  81]),\n",
       " array([351, 935, 350]),\n",
       " array([322, 375, 660]),\n",
       " array([113,  10,  42]),\n",
       " array([495, 895,  52]),\n",
       " array([739, 495, 729]),\n",
       " array([306, 776, 628]),\n",
       " array([944, 935,  49]),\n",
       " array([711, 514,  82]),\n",
       " array([739, 730, 494]),\n",
       " array([914,  39, 908]),\n",
       " array([660, 375, 511]),\n",
       " array([599, 918, 428]),\n",
       " array([628, 120, 896]),\n",
       " array([586,  74, 501]),\n",
       " array([445, 679, 146]),\n",
       " array([527, 820, 350]),\n",
       " array([162, 729, 336]),\n",
       " array([659, 958, 699]),\n",
       " array([762, 915,  92]),\n",
       " array([206, 980, 793]),\n",
       " array([918, 896,  52]),\n",
       " array([739, 518, 659]),\n",
       " array([401, 206, 729]),\n",
       " array([673, 671, 271]),\n",
       " array([739, 271, 578]),\n",
       " array([282, 395, 193]),\n",
       " array([199, 894, 966]),\n",
       " array([602, 603, 958]),\n",
       " array([196,  73,  72]),\n",
       " array([472,  59,  52]),\n",
       " array([527, 380, 351]),\n",
       " array([351, 729, 820]),\n",
       " array([301, 915, 902]),\n",
       " array([632, 935,  49]),\n",
       " array([199, 856, 466]),\n",
       " array([894, 350, 351]),\n",
       " array([582, 375, 438]),\n",
       " array([367, 949, 509]),\n",
       " array([445, 679, 363]),\n",
       " array([729, 375, 808]),\n",
       " array([494, 111, 793]),\n",
       " array([162, 747, 336]),\n",
       " array([ 93, 699, 968]),\n",
       " array([527, 820, 351]),\n",
       " array([739, 729, 665]),\n",
       " array([577, 132, 388]),\n",
       " array([816, 305, 304]),\n",
       " array([428, 896, 628]),\n",
       " array([351, 397, 894]),\n",
       " array([147, 375, 762]),\n",
       " array([621, 479,  23]),\n",
       " array([729, 980, 117]),\n",
       " array([894, 509, 199]),\n",
       " array([64,  4,  5]),\n",
       " array([306, 438, 658]),\n",
       " array([151, 375, 270]),\n",
       " array([218, 881, 387]),\n",
       " array([401, 980, 206]),\n",
       " array([699, 388, 632]),\n",
       " array([399, 907, 301]),\n",
       " array([206, 980, 961]),\n",
       " array([592, 350, 351]),\n",
       " array([766, 927, 479]),\n",
       " array([762, 147, 783]),\n",
       " array([ 92, 463, 418]),\n",
       " array([915,  81, 743]),\n",
       " array([367,  59, 191]),\n",
       " array([ 91, 397, 638]),\n",
       " array([896, 191, 428]),\n",
       " array([438, 191, 193]),\n",
       " array([ 90,  99, 820]),\n",
       " array([ 92, 895, 915]),\n",
       " array([495, 206, 509]),\n",
       " array([509, 729, 980]),\n",
       " array([632, 151, 935]),\n",
       " array([ 92, 151, 776]),\n",
       " array([839, 608, 193]),\n",
       " array([894, 915,  39]),\n",
       " array([729, 375, 839]),\n",
       " array([198, 120, 628]),\n",
       " array([699, 388, 968]),\n",
       " array([918, 896, 270]),\n",
       " array([729, 472, 879]),\n",
       " array([203, 441, 966]),\n",
       " array([ 93, 699, 388]),\n",
       " array([218, 151,  52]),\n",
       " array([739, 628, 120]),\n",
       " array([157, 808, 966]),\n",
       " array([961, 361, 420]),\n",
       " array([894, 157,  74]),\n",
       " array([592, 350, 351]),\n",
       " array([151, 914, 908]),\n",
       " array([927, 621, 479]),\n",
       " array([401, 361, 961]),\n",
       " array([763, 628, 202]),\n",
       " array([375, 729, 660]),\n",
       " array([401, 157, 206]),\n",
       " array([509, 729, 671]),\n",
       " array([672, 363, 345]),\n",
       " array([659, 472, 879]),\n",
       " array([582, 218,  81]),\n",
       " array([167, 981,  72]),\n",
       " array([894, 577, 966]),\n",
       " array([894, 350, 351]),\n",
       " array([793, 514,  81]),\n",
       " array([623, 927,  23]),\n",
       " array([ 39, 913, 908]),\n",
       " array([387, 487, 514]),\n",
       " array([306, 816, 307]),\n",
       " array([206, 608, 851]),\n",
       " array([146, 913, 113]),\n",
       " array([808,  72, 167]),\n",
       " array([ 39, 908, 501]),\n",
       " array([132, 820, 350]),\n",
       " array([ 93, 699, 566]),\n",
       " array([472, 879,   4]),\n",
       " array([913, 980, 206]),\n",
       " array([729, 375, 793]),\n",
       " array([739, 494, 578]),\n",
       " array([198, 199, 894]),\n",
       " array([739, 820,  92]),\n",
       " array([ 92, 739, 599]),\n",
       " array([307, 310,  52]),\n",
       " array([603, 626, 147]),\n",
       " array([763, 776, 628]),\n",
       " array([763, 776, 628]),\n",
       " array([147, 762, 760]),\n",
       " array([445, 679, 363]),\n",
       " array([750, 795, 418]),\n",
       " array([729, 592, 850]),\n",
       " array([582, 218, 581]),\n",
       " array([218, 582, 466]),\n",
       " array([199, 310, 660]),\n",
       " array([428, 896, 472]),\n",
       " array([582, 514,  81]),\n",
       " array([592, 665, 659]),\n",
       " array([111, 958, 375]),\n",
       " array([602, 603, 626]),\n",
       " array([511, 375, 256]),\n",
       " array([367, 310, 711]),\n",
       " array([501, 894, 361]),\n",
       " array([218, 334, 387]),\n",
       " array([675, 671, 271]),\n",
       " array([679, 671, 282]),\n",
       " array([913, 142,  52]),\n",
       " array([981, 918, 896]),\n",
       " array([458, 750, 317]),\n",
       " array([ 92, 199, 908]),\n",
       " array([147,  72, 167]),\n",
       " array([445, 301, 271]),\n",
       " array([638, 808,  91]),\n",
       " array([147, 322, 375]),\n",
       " array([907, 518, 301]),\n",
       " array([ 92, 632, 375]),\n",
       " array([675, 586, 671]),\n",
       " array([ 72, 196, 167]),\n",
       " array([367, 199, 894]),\n",
       " array([599, 981, 913]),\n",
       " array([138, 603, 533]),\n",
       " array([336,  10, 113]),\n",
       " array([894, 350, 351]),\n",
       " array([479, 927,  23]),\n",
       " array([306, 816, 468]),\n",
       " array([743, 514,  81]),\n",
       " array([322, 608, 820]),\n",
       " array([445, 679, 671]),\n",
       " array([582, 218, 743]),\n",
       " array([673, 907, 301]),\n",
       " array([776, 628, 202]),\n",
       " array([ 49, 196, 632]),\n",
       " array([602, 603, 626]),\n",
       " array([ 72, 196, 167]),\n",
       " array([306, 918, 816]),\n",
       " array([628, 856, 918]),\n",
       " array([ 92, 509, 856]),\n",
       " array([907, 518, 301]),\n",
       " array([306, 628, 816]),\n",
       " array([336, 113,  42]),\n",
       " array([438, 143, 191]),\n",
       " array([466, 747, 306]),\n",
       " array([199, 961, 386]),\n",
       " array([527, 820, 350]),\n",
       " array([740, 750, 795]),\n",
       " array([740, 750, 795]),\n",
       " array([336, 915,  78]),\n",
       " array([ 92, 776, 628]),\n",
       " array([894, 895,  74]),\n",
       " array([763, 776, 628]),\n",
       " array([915, 626, 603]),\n",
       " array([660, 375, 665]),\n",
       " array([602, 626, 908]),\n",
       " array([351, 762, 908]),\n",
       " array([518,  52, 902]),\n",
       " array([509, 511,  59]),\n",
       " array([367, 763, 628]),\n",
       " array([762, 147, 980]),\n",
       " array([918, 902, 428]),\n",
       " array([ 39, 908, 628]),\n",
       " array([218, 881, 387]),\n",
       " array([307,  59, 586]),\n",
       " array([466, 924, 747]),\n",
       " array([441, 628, 203]),\n",
       " array([660, 375, 820]),\n",
       " array([ 92, 895, 628]),\n",
       " array([157, 638, 509]),\n",
       " array([ 92, 895, 659]),\n",
       " array([816, 306, 509]),\n",
       " array([599, 739, 776]),\n",
       " array([527, 111, 351]),\n",
       " array([879, 918,   4]),\n",
       " array([307, 306,  52]),\n",
       " array([ 99, 270, 632]),\n",
       " array([310, 162, 167]),\n",
       " array([729, 350, 117]),\n",
       " array([ 52, 306, 632]),\n",
       " array([199, 856, 577]),\n",
       " array([729, 111, 851]),\n",
       " array([895, 802, 856]),\n",
       " array([581, 395, 775]),\n",
       " array([218, 743, 514]),\n",
       " array([581, 142, 658]),\n",
       " array([927, 621, 623]),\n",
       " array([310, 711, 162]),\n",
       " array([206, 608, 851]),\n",
       " array([808, 966, 336]),\n",
       " array([739, 820, 501]),\n",
       " array([533, 602, 603]),\n",
       " array([743, 762,  81]),\n",
       " array([132, 851, 199]),\n",
       " array([ 72, 167, 632]),\n",
       " array([586, 949, 481]),\n",
       " array([514,  81, 602]),\n",
       " array([514,  81, 602]),\n",
       " array([509, 511, 256]),\n",
       " array([301, 935, 167]),\n",
       " array([ 92, 739, 628]),\n",
       " array([660, 310, 793]),\n",
       " array([582, 514, 881]),\n",
       " array([632, 671, 196]),\n",
       " array([401, 641, 206]),\n",
       " array([980, 350, 351]),\n",
       " array([113,  10,  42]),\n",
       " array([336, 949, 509]),\n",
       " array([ 99, 592, 386]),\n",
       " array([370, 787, 418]),\n",
       " array([808, 603, 626]),\n",
       " array([895, 578, 577]),\n",
       " array([920, 638,  91]),\n",
       " array([581, 762, 206]),\n",
       " array([915, 625, 533]),\n",
       " array([820, 380, 350]),\n",
       " array([ 92, 463, 763]),\n",
       " array([626, 603, 908]),\n",
       " array([301, 820, 350]),\n",
       " array([839, 882, 881]),\n",
       " array([64,  4,  5]),\n",
       " array([199, 739, 958]),\n",
       " array([660, 918, 375]),\n",
       " array([ 88,  99, 270]),\n",
       " array([743, 711, 514]),\n",
       " array([367, 602, 603]),\n",
       " array([375, 193, 660]),\n",
       " array([944, 935,  49]),\n",
       " array([301, 196, 167]),\n",
       " array([199, 671, 445]),\n",
       " array([671, 699, 388]),\n",
       " array([894, 350, 351]),\n",
       " array([ 64, 321,   4]),\n",
       " array([367, 949, 509]),\n",
       " array([375, 729, 665]),\n",
       " array([428, 918, 638]),\n",
       " array([198, 856, 776]),\n",
       " array([907, 518, 301]),\n",
       " array([203, 441, 336]),\n",
       " array([913,  59, 395]),\n",
       " array([581, 395, 915]),\n",
       " array([676, 679, 363]),\n",
       " array([321, 802, 820]),\n",
       " array([729, 739, 839]),\n",
       " array([808, 802, 856]),\n",
       " array([582, 310, 981]),\n",
       " array([783, 191, 762]),\n",
       " array([336, 856, 509]),\n",
       " array([206, 808, 851]),\n",
       " array([582, 743, 514]),\n",
       " array([632, 592, 935]),\n",
       " array([632,  59, 935]),\n",
       " array([675, 894, 671]),\n",
       " array([428, 896, 142]),\n",
       " array([445, 671, 856]),\n",
       " array([944, 935,  49]),\n",
       " array([397, 776, 729]),\n",
       " array([729, 808, 111]),\n",
       " array([445, 671, 602]),\n",
       " array([445, 679, 363]),\n",
       " array([ 93, 699, 782]),\n",
       " array([336,  10, 113]),\n",
       " array([802, 793, 882]),\n",
       " array([740, 795, 418]),\n",
       " array([533, 602, 603]),\n",
       " array([856, 271, 726]),\n",
       " array([307, 199, 375]),\n",
       " array([ 64, 879,   4]),\n",
       " array([856, 301, 902]),\n",
       " array([466, 494, 793]),\n",
       " array([472, 495, 850]),\n",
       " array([592, 665, 659]),\n",
       " array([306, 191, 367]),\n",
       " array([586, 120, 132]),\n",
       " array([203, 441, 966]),\n",
       " array([399, 518, 902]),\n",
       " array([918, 626, 603]),\n",
       " array([920, 638,  91]),\n",
       " array([894, 350, 351]),\n",
       " array([306, 913, 816]),\n",
       " array([218, 468, 387]),\n",
       " array([351, 808, 350]),\n",
       " array([ 39, 418, 908]),\n",
       " array([ 78, 488, 113]),\n",
       " array([895, 802, 856]),\n",
       " array([282, 913, 438]),\n",
       " array([ 88,  99, 270]),\n",
       " array([729, 111, 146]),\n",
       " array([762, 494, 147]),\n",
       " array([ 64,   4, 472]),\n",
       " array([679, 363, 672]),\n",
       " array([766, 927, 479]),\n",
       " array([ 64, 879, 472]),\n",
       " array([310, 218, 514]),\n",
       " array([893, 495, 839]),\n",
       " array([370, 787, 317]),\n",
       " array([802, 980, 665]),\n",
       " array([501, 111,  74]),\n",
       " array([162, 196,  49]),\n",
       " array([310, 711, 518]),\n",
       " array([659, 980, 592]),\n",
       " array([665, 375, 592]),\n",
       " array([894, 608, 509]),\n",
       " array([466, 924, 747]),\n",
       " array([739, 776, 729]),\n",
       " array([ 93, 699, 388]),\n",
       " array([ 64, 879, 472]),\n",
       " array([578, 481, 647]),\n",
       " array([762, 147, 199]),\n",
       " array([586, 961,  46]),\n",
       " array([711, 514,  81]),\n",
       " array([ 92, 120, 949]),\n",
       " array([ 72, 935, 167]),\n",
       " array([602, 603, 626]),\n",
       " array([599, 981, 913]),\n",
       " array([445, 363,  81]),\n",
       " array([729, 350, 117]),\n",
       " array([793, 162, 196]),\n",
       " array([582, 578, 966]),\n",
       " array([463, 981, 577]),\n",
       " array([582, 218, 387]),\n",
       " array([647, 361, 961]),\n",
       " array([787, 795, 418]),\n",
       " array([495, 895, 577]),\n",
       " array([808, 203, 441]),\n",
       " array([191, 142, 375]),\n",
       " array([370, 787, 795]),\n",
       " array([147, 743, 514]),\n",
       " array([599, 918, 428]),\n",
       " array([336, 113, 632]),\n",
       " array([351, 147, 762]),\n",
       " array([336, 388, 968]),\n",
       " array([820, 380, 350]),\n",
       " array([762, 147, 961]),\n",
       " array([958, 658, 509]),\n",
       " array([ 39, 350, 908]),\n",
       " array([938, 882, 881]),\n",
       " array([ 39, 908, 602]),\n",
       " array([671, 729, 902]),\n",
       " array([675, 375, 665]),\n",
       " array([151, 935, 481]),\n",
       " array([894, 581, 395]),\n",
       " array([895, 578, 769]),\n",
       " array([743, 711, 514]),\n",
       " array([915, 729, 739]),\n",
       " array([944, 935, 196]),\n",
       " array([739, 820,  92]),\n",
       " array([367, 915,  39]),\n",
       " array([351, 820, 350]),\n",
       " array([582, 218, 908]),\n",
       " array([766, 621, 479]),\n",
       " array([802, 980, 641]),\n",
       " array([599, 388, 603]),\n",
       " array([401, 117, 729]),\n",
       " array([367, 980, 350]),\n",
       " array([783, 915, 147]),\n",
       " array([762, 147, 628]),\n",
       " array([745, 466, 747]),\n",
       " array([370, 787, 795]),\n",
       " array([501, 658, 321]),\n",
       " array([586, 828, 257]),\n",
       " array([895, 980, 501]),\n",
       " array([306, 816, 367]),\n",
       " array([306, 375, 816]),\n",
       " array([894, 895, 501]),\n",
       " array([762,  39, 147]),\n",
       " array([820, 380, 350]),\n",
       " array([915, 914,  39]),\n",
       " array([729, 762, 509]),\n",
       " array([ 64, 472, 321]),\n",
       " array([367, 895, 949]),\n",
       " array([527, 380, 351]),\n",
       " array([739, 218, 514]),\n",
       " array([282, 438,  52]),\n",
       " array([676, 671, 271]),\n",
       " array([428, 896,  10]),\n",
       " array([ 81, 626, 582]),\n",
       " array([306, 142, 816]),\n",
       " array([582,  81, 387]),\n",
       " array([603, 626, 625]),\n",
       " array([336, 113,  78]),\n",
       " array([321, 913, 501]),\n",
       " array([578, 867, 769]),\n",
       " array([586, 494, 894]),\n",
       " array([399, 135, 907]),\n",
       " array([586, 828, 257]),\n",
       " array([762, 494, 147]),\n",
       " array([199, 142, 908]),\n",
       " array([ 91, 157, 793]),\n",
       " array([906,  39, 909]),\n",
       " array([142, 608,  52]),\n",
       " array([896, 882, 881]),\n",
       " array([582, 743, 514]),\n",
       " array([582, 743, 514]),\n",
       " array([ 92, 120, 628]),\n",
       " array([301, 375, 902]),\n",
       " array([740, 787, 418]),\n",
       " array([729,  59, 509]),\n",
       " array([894, 501, 321]),\n",
       " array([367, 802, 856]),\n",
       " array([699, 388, 968]),\n",
       " array([218, 743,  81]),\n",
       " array([256, 608, 509]),\n",
       " array([198, 199, 820]),\n",
       " array([206, 256, 511]),\n",
       " array([199, 518, 851]),\n",
       " array([739, 310, 472]),\n",
       " array([ 64, 199,   4]),\n",
       " array([915,  59, 839]),\n",
       " array([ 72,  73, 167]),\n",
       " array([157, 882, 881]),\n",
       " array([ 92, 739, 599]),\n",
       " array([533, 602, 603]),\n",
       " array([361, 494, 199]),\n",
       " array([199, 820, 501]),\n",
       " array([729, 966, 808]),\n",
       " array([949,  74, 501]),\n",
       " array([739, 271, 307]),\n",
       " array([270, 111, 386]),\n",
       " array([351, 820, 350]),\n",
       " array([582, 218, 743]),\n",
       " array([271,  74, 350]),\n",
       " array([518, 301, 902]),\n",
       " array([ 23, 766, 621]),\n",
       " array([ 92, 980, 206]),\n",
       " array([64,  4,  5]),\n",
       " array([113,  10,  42]),\n",
       " array([660, 793, 602]),\n",
       " array([481, 856, 509]),\n",
       " array([463, 763, 202]),\n",
       " array([336,  10, 113]),\n",
       " array([463, 763, 776]),\n",
       " array([ 92, 729, 375]),\n",
       " array([675, 388, 968]),\n",
       " array([132, 902, 142]),\n",
       " array([913, 586, 793]),\n",
       " array([793, 162,  72]),\n",
       " array([729, 350, 380]),\n",
       " array([533, 626, 625]),\n",
       " array([399, 902, 907]),\n",
       " array([401, 638,  91]),\n",
       " array([199, 518, 851]),\n",
       " array([218, 881, 387]),\n",
       " array([599, 397, 894]),\n",
       " array([944, 935,  49]),\n",
       " array([743, 711, 514]),\n",
       " array([334,  68, 481]),\n",
       " array([808, 494, 466]),\n",
       " array([218,  98, 514]),\n",
       " array([762, 147, 660]),\n",
       " array([191, 143, 142]),\n",
       " array([776, 961, 509]),\n",
       " array([915, 762, 147]),\n",
       " array([740, 787, 795]),\n",
       " array([894, 851, 199]),\n",
       " array([306, 305, 304]),\n",
       " array([438, 658, 307]),\n",
       " array([ 59, 162, 167]),\n",
       " array([582, 958,  81]),\n",
       " array([907, 301, 902]),\n",
       " array([968, 699, 132]),\n",
       " array([218, 638, 514]),\n",
       " array([603, 626, 625]),\n",
       " array([793, 162, 472]),\n",
       " array([ 94, 699, 782]),\n",
       " array([ 46, 961,  47]),\n",
       " array([375, 729, 660]),\n",
       " array([762, 147, 961]),\n",
       " array([582, 881, 387]),\n",
       " array([ 59, 336, 935]),\n",
       " array([466,  59, 468]),\n",
       " array([577, 203, 441]),\n",
       " array([518, 902, 350]),\n",
       " array([397, 586, 913]),\n",
       " array([322, 375, 608]),\n",
       " array([ 93, 699, 908]),\n",
       " array([ 23, 927, 621]),\n",
       " array([907, 518, 135]),\n",
       " array([399, 907, 518]),\n",
       " array([399, 907, 518]),\n",
       " array([199, 578, 851]),\n",
       " array([399, 907, 518]),\n",
       " array([907, 902, 142]),\n",
       " array([527, 820, 350]),\n",
       " array([ 72,  73, 167]),\n",
       " array([438,  74, 380]),\n",
       " array([375, 918, 850]),\n",
       " array([582, 514,  81]),\n",
       " array([527, 961, 350]),\n",
       " array([795, 162, 111]),\n",
       " array([310, 918, 896]),\n",
       " array([582, 375, 660]),\n",
       " array([676, 586, 673]),\n",
       " array([ 92, 896, 111]),\n",
       " array([310, 711, 514]),\n",
       " array([820, 380, 350]),\n",
       " array([271, 132, 577]),\n",
       " array([282, 885, 839]),\n",
       " array([913, 879, 472]),\n",
       " array([743, 626, 514]),\n",
       " array([839, 882, 881]),\n",
       " array([907, 301,  52]),\n",
       " array([647, 157, 961]),\n",
       " array([ 39, 913, 908]),\n",
       " array([802, 361, 820]),\n",
       " array([336, 699, 913]),\n",
       " array([ 23, 927, 621]),\n",
       " array([64,  4,  5]),\n",
       " array([920, 638,  91]),\n",
       " array([511, 915, 256]),\n",
       " array([581, 395, 162]),\n",
       " array([762, 147, 193]),\n",
       " array([428, 218, 896]),\n",
       " array([321, 428,  74]),\n",
       " array([632, 397,  52]),\n",
       " array([ 92, 729, 351]),\n",
       " array([199, 271, 336]),\n",
       " array([914,  39, 908]),\n",
       " array([582, 218, 743]),\n",
       " array([581,  88,  99]),\n",
       " array([206, 851, 142]),\n",
       " array([966,  74, 501]),\n",
       " array([599, 375, 162]),\n",
       " array([582, 743, 514]),\n",
       " array([441, 915, 808]),\n",
       " array([894, 350, 351]),\n",
       " array([445, 679, 671]),\n",
       " array([895, 802, 851]),\n",
       " array([514,  81, 387]),\n",
       " array([625, 602, 533]),\n",
       " array([399, 518, 902]),\n",
       " array([367, 763, 628]),\n",
       " array([729, 162, 167]),\n",
       " array([660, 151, 375]),\n",
       " array([367, 157, 162]),\n",
       " array([336, 146, 111]),\n",
       " array([367, 949, 132]),\n",
       " array([370, 750, 418]),\n",
       " array([739, 894, 856]),\n",
       " array([445, 679, 671]),\n",
       " array([787, 750, 418]),\n",
       " array([895, 132, 820]),\n",
       " array([ 78, 699,  10]),\n",
       " array([895, 592, 481]),\n",
       " array([679, 162, 509]),\n",
       " array([625, 603, 533]),\n",
       " array([802, 856, 441]),\n",
       " array([966, 441, 915]),\n",
       " array([514, 881, 199]),\n",
       " array([ 78, 146, 111]),\n",
       " array([401, 199, 206]),\n",
       " array([740, 317, 418]),\n",
       " array([739, 157, 375]),\n",
       " array([509, 882, 608]),\n",
       " array([586, 203, 441]),\n",
       " array([914,  39, 908]),\n",
       " array([882, 501, 820]),\n",
       " array([ 93, 388, 968]),\n",
       " array([ 74, 511, 321]),\n",
       " array([671, 913, 142]),\n",
       " array([582, 375, 913]),\n",
       " array([914,  39, 908]),\n",
       " array([509, 856, 468]),\n",
       " array([445, 363, 307]),\n",
       " array([808, 935, 958]),\n",
       " array([64,  4,  5]),\n",
       " array([157, 895, 577]),\n",
       " array([ 23, 927, 621]),\n",
       " array([729, 966, 808]),\n",
       " array([980, 350, 351]),\n",
       " array([527, 682, 820]),\n",
       " array([743, 514,  81]),\n",
       " array([739, 894, 821]),\n",
       " array([895, 802, 856]),\n",
       " array([ 92, 120, 763]),\n",
       " array([518, 902, 907]),\n",
       " array([743, 711, 514]),\n",
       " array([351, 820, 350]),\n",
       " array([599, 739, 776]),\n",
       " array([307, 494, 658]),\n",
       " array([518, 902, 907]),\n",
       " array([740, 418, 913]),\n",
       " array([321, 626, 501]),\n",
       " array([367, 895, 949]),\n",
       " array([206, 729, 592]),\n",
       " array([151, 729, 162]),\n",
       " array([894, 586, 321]),\n",
       " array([428, 896, 882]),\n",
       " array([918, 193, 839]),\n",
       " array([586, 336, 113]),\n",
       " array([766, 621, 479]),\n",
       " array([750, 795, 418]),\n",
       " array([816, 305, 304]),\n",
       " array([367, 793, 472]),\n",
       " array([729, 375, 850]),\n",
       " array([699, 388, 968]),\n",
       " array([745, 900, 747]),\n",
       " ...]"
      ]
     },
     "execution_count": 35,
     "metadata": {},
     "output_type": "execute_result"
    }
   ],
   "source": [
    "tops = utils.get_top_n_tags(preds_orgs, n=3)\n",
    "tops"
   ]
  },
  {
   "cell_type": "code",
   "execution_count": 42,
   "metadata": {},
   "outputs": [],
   "source": [
    "#new_preds = model.predict()[-3000:]"
   ]
  },
  {
   "cell_type": "code",
   "execution_count": 36,
   "metadata": {
    "scrolled": true
   },
   "outputs": [
    {
     "name": "stdout",
     "output_type": "stream",
     "text": [
      "jaccard score: 0.12382969264088191\n",
      "accuracy score: 0.009333333333333334\n",
      "f1-score: 0.184111798912024\n",
      "recall-score: 0.15928270042194093\n",
      "precision-score: 0.21811111111111112\n",
      "Hamming loss: 0.005881676808654496\n",
      "Hamming score: 0.12382969264088191\n",
      "---\n"
     ]
    }
   ],
   "source": [
    "new_preds = utils.from_keras_format(list(map(lambda x: x + 1, tops)), y.shape[1])\n",
    "utils.print_all_scores(test_missing, new_preds)"
   ]
  },
  {
   "cell_type": "code",
   "execution_count": 372,
   "metadata": {},
   "outputs": [
    {
     "data": {
      "text/plain": [
       "(3000, 986)"
      ]
     },
     "execution_count": 372,
     "metadata": {},
     "output_type": "execute_result"
    }
   ],
   "source": [
    "test_missing.shape"
   ]
  },
  {
   "cell_type": "code",
   "execution_count": 299,
   "metadata": {},
   "outputs": [
    {
     "data": {
      "text/plain": [
       "(10, 986)"
      ]
     },
     "execution_count": 299,
     "metadata": {},
     "output_type": "execute_result"
    }
   ],
   "source": [
    "test_missing[:10].shape"
   ]
  },
  {
   "cell_type": "code",
   "execution_count": 301,
   "metadata": {},
   "outputs": [
    {
     "data": {
      "text/plain": [
       "10"
      ]
     },
     "execution_count": 301,
     "metadata": {},
     "output_type": "execute_result"
    }
   ],
   "source": [
    "len(mlby.inverse_transform(new_preds))"
   ]
  },
  {
   "cell_type": "code",
   "execution_count": 314,
   "metadata": {},
   "outputs": [],
   "source": [
    "from importlib import reload"
   ]
  },
  {
   "cell_type": "code",
   "execution_count": 340,
   "metadata": {},
   "outputs": [
    {
     "data": {
      "text/plain": [
       "<module 'lib.notebook_helpers' from '/home/david/Documents/proj/tag-rec/src/lib/notebook_helpers.py'>"
      ]
     },
     "execution_count": 340,
     "metadata": {},
     "output_type": "execute_result"
    }
   ],
   "source": [
    "reload(nh)"
   ]
  },
  {
   "cell_type": "code",
   "execution_count": 47,
   "metadata": {},
   "outputs": [
    {
     "name": "stdout",
     "output_type": "stream",
     "text": [
      "('macro', 'olympus', 'orange', 'white')\n",
      "('flowers', 'garden', 'macro')\n",
      "index: 2\n"
     ]
    }
   ],
   "source": [
    "utils.random_check(test_missing[:10], new_preds, mlbx, mlby)"
   ]
  },
  {
   "cell_type": "code",
   "execution_count": 368,
   "metadata": {},
   "outputs": [
    {
     "data": {
      "text/plain": [
       "('design', 'home', 'horse', 'pretty')"
      ]
     },
     "execution_count": 368,
     "metadata": {},
     "output_type": "execute_result"
    }
   ],
   "source": [
    "mlby.inverse_transform(full_train)[7001]"
   ]
  },
  {
   "cell_type": "code",
   "execution_count": null,
   "metadata": {},
   "outputs": [],
   "source": []
  },
  {
   "cell_type": "code",
   "execution_count": 285,
   "metadata": {},
   "outputs": [
    {
     "data": {
      "text/plain": [
       "(3000, 986)"
      ]
     },
     "execution_count": 285,
     "metadata": {},
     "output_type": "execute_result"
    }
   ],
   "source": [
    "y_test.shape"
   ]
  },
  {
   "cell_type": "code",
   "execution_count": 231,
   "metadata": {},
   "outputs": [
    {
     "data": {
      "text/plain": [
       "(array([ 29, 143, 179, 269, 457, 570, 573, 634]),)"
      ]
     },
     "execution_count": 231,
     "metadata": {},
     "output_type": "execute_result"
    }
   ],
   "source": [
    "np.nonzero(full_train[7009])"
   ]
  },
  {
   "cell_type": "code",
   "execution_count": 232,
   "metadata": {},
   "outputs": [
    {
     "data": {
      "text/plain": [
       "(array([ 22,  29,  53, 143, 179, 192, 220, 269, 417, 457, 570, 573, 634,\n",
       "        736, 790]),)"
      ]
     },
     "execution_count": 232,
     "metadata": {},
     "output_type": "execute_result"
    }
   ],
   "source": [
    "np.nonzero(test_truth[9])"
   ]
  },
  {
   "cell_type": "code",
   "execution_count": 241,
   "metadata": {},
   "outputs": [
    {
     "data": {
      "text/plain": [
       "{22, 53, 192, 220, 417, 736, 790}"
      ]
     },
     "execution_count": 241,
     "metadata": {},
     "output_type": "execute_result"
    }
   ],
   "source": [
    "set(np.nonzero(test_truth[9])[0]) - set(np.nonzero(full_train[7009])[0])"
   ]
  },
  {
   "cell_type": "code",
   "execution_count": 242,
   "metadata": {},
   "outputs": [
    {
     "data": {
      "text/plain": [
       "(array([ 22,  53, 192, 220, 417, 736, 790]),)"
      ]
     },
     "execution_count": 242,
     "metadata": {},
     "output_type": "execute_result"
    }
   ],
   "source": [
    "np.nonzero(test_truth[9] - full_train[7009])"
   ]
  },
  {
   "cell_type": "code",
   "execution_count": 246,
   "metadata": {
    "scrolled": true
   },
   "outputs": [
    {
     "data": {
      "text/plain": [
       "[53, 192, 439, 935, 283]"
      ]
     },
     "execution_count": 246,
     "metadata": {},
     "output_type": "execute_result"
    }
   ],
   "source": [
    "list(map(lambda x: x[0], asd))[:5]"
   ]
  },
  {
   "cell_type": "markdown",
   "metadata": {},
   "source": [
    "## Optimize"
   ]
  },
  {
   "cell_type": "markdown",
   "metadata": {},
   "source": [
    "Maximize: Recall at 3, can also try jaccard-score\n",
    "\n",
    "The reason is that we have at least 6 user tags per item."
   ]
  },
  {
   "cell_type": "markdown",
   "metadata": {},
   "source": [
    "y_train is the full training data. We will convert this into an x and a y for this purpose, called `x_cf_train` and `y_cf_train` (`cf` stands for collaborative filtering)"
   ]
  },
  {
   "cell_type": "code",
   "execution_count": 57,
   "metadata": {},
   "outputs": [],
   "source": [
    "def split_half_tags(full_data):\n",
    "    x_cf_train = full_data.copy()\n",
    "    for row_index in range(full_data.shape[0]):\n",
    "        nonzeros = np.nonzero(full_data[row_index])[0]\n",
    "        # Set half of the non-zero elements in the row to zero. These are saved in y_cf_train, and will be predicted\n",
    "        x_cf_train[row_index, np.random.choice(nonzeros, int(len(nonzeros)/2), replace=False)] = 0\n",
    "    # Set y_cf_train to contain the remainder of the elements.\n",
    "    y_cf_train = full_data - x_cf_train\n",
    "    return x_cf_train, y_cf_train"
   ]
  },
  {
   "cell_type": "code",
   "execution_count": 53,
   "metadata": {},
   "outputs": [],
   "source": [
    "from sklearn.model_selection import KFold"
   ]
  },
  {
   "cell_type": "code",
   "execution_count": 54,
   "metadata": {},
   "outputs": [],
   "source": [
    "from sklearn.metrics import recall_score, f1_score, jaccard_similarity_score\n"
   ]
  },
  {
   "cell_type": "code",
   "execution_count": 55,
   "metadata": {},
   "outputs": [],
   "source": [
    "from skopt import dummy_minimize, gp_minimize, forest_minimize"
   ]
  },
  {
   "cell_type": "code",
   "execution_count": 93,
   "metadata": {},
   "outputs": [],
   "source": [
    "def model_run(params=(100, 0.01)):\n",
    "    factors, reg = params\n",
    "    print(\"factors: \" + str(factors) + \"  reg: \" + str(reg))\n",
    "    np.random.seed(0)\n",
    "\n",
    "    n_splits = 5\n",
    "    scorer = recall_score\n",
    "    kf = KFold(n_splits=n_splits)\n",
    "    #train_val_sets = list(kf.split(y_train))\n",
    "    # Rename y_train here\n",
    "    score = 0\n",
    "    for train_indices, val_indices in kf.split(y_train):\n",
    "        train_set = y_train[train_indices]\n",
    "        val_set = y_train[val_indices]\n",
    "        val_x, val_y = split_half_tags(val_set)\n",
    "\n",
    "        # The train set is concatenated with the n examples in the val_x-set. This constitutes the full train set,\n",
    "        # which will be passed into the CF-model to train\n",
    "        full_train = np.concatenate((train_set, val_x), axis=0)\n",
    "\n",
    "        model = ALSEstimator(factors=factors, regularization=reg, show_progress=True, n=3)\n",
    "        full_train_sparse = sparse.csr_matrix(full_train)\n",
    "        model.fit(full_train_sparse.transpose())\n",
    "        \n",
    "        # get the last part of the predictions, which is the predictions for the n examples in the val_x-set.\n",
    "        # this will be compared with the val_y-set.\n",
    "        y_pred = model.predict()[-val_x.shape[0]:]\n",
    "        \n",
    "        score += scorer(val_y, y_pred, average='micro')\n",
    "        break\n",
    "    score /= n_splits\n",
    "    return -score"
   ]
  },
  {
   "cell_type": "code",
   "execution_count": 94,
   "metadata": {},
   "outputs": [
    {
     "name": "stdout",
     "output_type": "stream",
     "text": [
      "factors: 100  reg: 0.01\n"
     ]
    },
    {
     "name": "stderr",
     "output_type": "stream",
     "text": [
      "100%|██████████| 15.0/15 [00:01<00:00, 14.20it/s]\n"
     ]
    },
    {
     "data": {
      "text/plain": [
       "-0.034605867797808415"
      ]
     },
     "execution_count": 94,
     "metadata": {},
     "output_type": "execute_result"
    }
   ],
   "source": [
    "model_run()"
   ]
  },
  {
   "cell_type": "code",
   "execution_count": 18,
   "metadata": {},
   "outputs": [],
   "source": [
    "# Function for running the estimator version\n",
    "def model_run2():\n",
    "    np.random.seed(0)\n",
    "\n",
    "    n_splits = 5\n",
    "    scorer = recall_score\n",
    "    kf = KFold(n_splits=n_splits)\n",
    "    #train_val_sets = list(kf.split(y_train))\n",
    "    # Rename y_train here\n",
    "    score = 0\n",
    "    for train_indices, val_indices in kf.split(y_train):\n",
    "        train_set = y_train[train_indices]\n",
    "        val_set = y_train[val_indices]\n",
    "        val_x, val_y = split_half_tags(val_set)\n",
    "\n",
    "        full_train = np.concatenate((train_set, val_x), axis=0)\n",
    "\n",
    "        model = NMSLibALSEstimator(show_progress=False)\n",
    "        full_train_sparse = sparse.csr_matrix(full_train)\n",
    "        model.fit(full_train_sparse.transpose())\n",
    "\n",
    "        y_pred = model.predict()[-val_y.shape[0]:]\n",
    "        score += scorer(val_y, y_pred, average='micro')\n",
    "    score /= n_splits\n",
    "    return -score"
   ]
  },
  {
   "cell_type": "code",
   "execution_count": 93,
   "metadata": {},
   "outputs": [
    {
     "data": {
      "text/plain": [
       "-0.16606286837989384"
      ]
     },
     "execution_count": 93,
     "metadata": {},
     "output_type": "execute_result"
    }
   ],
   "source": [
    "model_run2()"
   ]
  },
  {
   "cell_type": "code",
   "execution_count": 73,
   "metadata": {},
   "outputs": [],
   "source": [
    "args = (model_run, [(10, 100), (1e-4, 1e-2)])\n",
    "kwargs = {\"verbose\": True, \"random_state\": 0}"
   ]
  },
  {
   "cell_type": "code",
   "execution_count": 62,
   "metadata": {
    "scrolled": true
   },
   "outputs": [],
   "source": [
    "res = dummy_minimize(*args, **kwargs)"
   ]
  },
  {
   "cell_type": "code",
   "execution_count": 63,
   "metadata": {},
   "outputs": [
    {
     "data": {
      "text/plain": [
       "          fun: -0.16682033946558833\n",
       "    func_vals: array([-0.16462944, -0.1472439 , -0.16435353, -0.16682034, -0.15997429,\n",
       "       -0.14065643, -0.15955195, -0.14422776, -0.14068927, -0.15955195,\n",
       "       -0.14422776, -0.14068927, -0.15955195, -0.14422776, -0.14068927,\n",
       "       -0.15955195, -0.14422776, -0.14068927, -0.15955195, -0.14422776,\n",
       "       -0.14068927, -0.15955195, -0.14422776, -0.14068927, -0.15955195,\n",
       "       -0.14422776, -0.14068927, -0.15955195, -0.14422776, -0.14068927,\n",
       "       -0.15955195, -0.14422776, -0.14068927, -0.15955195, -0.14422776,\n",
       "       -0.14068927, -0.15955195, -0.14422776, -0.14068927, -0.15955195,\n",
       "       -0.14422776, -0.14068927, -0.15955195, -0.14422776, -0.14068927,\n",
       "       -0.15955195, -0.14422776, -0.14068927, -0.15955195, -0.14422776,\n",
       "       -0.14068927, -0.15955195, -0.14422776, -0.14068927, -0.15955195,\n",
       "       -0.14422776, -0.14068927, -0.15955195, -0.14422776, -0.14068927,\n",
       "       -0.15955195, -0.14422776, -0.14068927, -0.15955195, -0.14422776,\n",
       "       -0.14068927, -0.15955195, -0.14422776, -0.14068927, -0.15955195,\n",
       "       -0.14422776, -0.14068927, -0.15955195, -0.14422776, -0.14068927,\n",
       "       -0.15955195, -0.14422776, -0.14068927, -0.15955195, -0.14422776,\n",
       "       -0.14068927, -0.15955195, -0.14422776, -0.14068927, -0.15955195,\n",
       "       -0.14422776, -0.14068927, -0.15955195, -0.14422776, -0.14068927,\n",
       "       -0.15955195, -0.14422776, -0.14068927, -0.15955195, -0.14422776,\n",
       "       -0.14068927, -0.15955195, -0.14422776, -0.14068927, -0.15955195])\n",
       "       models: []\n",
       " random_state: <mtrand.RandomState object at 0x7fc0d870a120>\n",
       "        space: Space([Integer(low=10, high=100),\n",
       "       Real(low=0.0001, high=0.01, prior='uniform', transform='identity')])\n",
       "        specs: {'args': {'n_jobs': 1, 'kappa': 1.96, 'xi': 0.01, 'n_restarts_optimizer': 5, 'n_points': 10000, 'callback': None, 'verbose': False, 'random_state': None, 'y0': None, 'x0': None, 'acq_optimizer': 'sampling', 'acq_func': 'EI', 'n_random_starts': 100, 'n_calls': 100, 'base_estimator': 'dummy', 'dimensions': [(10, 100), (0.0001, 0.01)], 'func': <function model_run at 0x7fc0b4f09bf8>}, 'function': 'base_minimize'}\n",
       "            x: [73, 0.0014831849133657823]\n",
       "      x_iters: [[81, 0.0009140588372531084], [29, 0.0021533335186946236], [99, 0.0017646725361060986], [73, 0.0014831849133657823], [59, 0.004899236764003756], [23, 0.0032747757376614174], [58, 0.004376610074275836], [24, 0.006306577144951649], [23, 0.006243569933230608], [58, 0.004376610074275836], [24, 0.006306577144951649], [23, 0.006243569933230608], [58, 0.004376610074275836], [24, 0.006306577144951649], [23, 0.006243569933230608], [58, 0.004376610074275836], [24, 0.006306577144951649], [23, 0.006243569933230608], [58, 0.004376610074275836], [24, 0.006306577144951649], [23, 0.006243569933230608], [58, 0.004376610074275836], [24, 0.006306577144951649], [23, 0.006243569933230608], [58, 0.004376610074275836], [24, 0.006306577144951649], [23, 0.006243569933230608], [58, 0.004376610074275836], [24, 0.006306577144951649], [23, 0.006243569933230608], [58, 0.004376610074275836], [24, 0.006306577144951649], [23, 0.006243569933230608], [58, 0.004376610074275836], [24, 0.006306577144951649], [23, 0.006243569933230608], [58, 0.004376610074275836], [24, 0.006306577144951649], [23, 0.006243569933230608], [58, 0.004376610074275836], [24, 0.006306577144951649], [23, 0.006243569933230608], [58, 0.004376610074275836], [24, 0.006306577144951649], [23, 0.006243569933230608], [58, 0.004376610074275836], [24, 0.006306577144951649], [23, 0.006243569933230608], [58, 0.004376610074275836], [24, 0.006306577144951649], [23, 0.006243569933230608], [58, 0.004376610074275836], [24, 0.006306577144951649], [23, 0.006243569933230608], [58, 0.004376610074275836], [24, 0.006306577144951649], [23, 0.006243569933230608], [58, 0.004376610074275836], [24, 0.006306577144951649], [23, 0.006243569933230608], [58, 0.004376610074275836], [24, 0.006306577144951649], [23, 0.006243569933230608], [58, 0.004376610074275836], [24, 0.006306577144951649], [23, 0.006243569933230608], [58, 0.004376610074275836], [24, 0.006306577144951649], [23, 0.006243569933230608], [58, 0.004376610074275836], [24, 0.006306577144951649], [23, 0.006243569933230608], [58, 0.004376610074275836], [24, 0.006306577144951649], [23, 0.006243569933230608], [58, 0.004376610074275836], [24, 0.006306577144951649], [23, 0.006243569933230608], [58, 0.004376610074275836], [24, 0.006306577144951649], [23, 0.006243569933230608], [58, 0.004376610074275836], [24, 0.006306577144951649], [23, 0.006243569933230608], [58, 0.004376610074275836], [24, 0.006306577144951649], [23, 0.006243569933230608], [58, 0.004376610074275836], [24, 0.006306577144951649], [23, 0.006243569933230608], [58, 0.004376610074275836], [24, 0.006306577144951649], [23, 0.006243569933230608], [58, 0.004376610074275836], [24, 0.006306577144951649], [23, 0.006243569933230608], [58, 0.004376610074275836], [24, 0.006306577144951649], [23, 0.006243569933230608], [58, 0.004376610074275836]]"
      ]
     },
     "execution_count": 63,
     "metadata": {},
     "output_type": "execute_result"
    }
   ],
   "source": [
    "res"
   ]
  },
  {
   "cell_type": "code",
   "execution_count": 67,
   "metadata": {
    "scrolled": true
   },
   "outputs": [
    {
     "name": "stdout",
     "output_type": "stream",
     "text": [
      "Iteration No: 1 started. Evaluating function at random point.\n",
      "Iteration No: 1 ended. Evaluation done at random point.\n",
      "Time taken: 9.5298\n",
      "Function value obtained: -0.1632\n",
      "Current minimum: -0.1632\n",
      "Iteration No: 2 started. Evaluating function at random point.\n",
      "Iteration No: 2 ended. Evaluation done at random point.\n",
      "Time taken: 10.4332\n",
      "Function value obtained: -0.1674\n",
      "Current minimum: -0.1674\n",
      "Iteration No: 3 started. Evaluating function at random point.\n",
      "Iteration No: 3 ended. Evaluation done at random point.\n",
      "Time taken: 8.6186\n",
      "Function value obtained: -0.1649\n",
      "Current minimum: -0.1674\n",
      "Iteration No: 4 started. Evaluating function at random point.\n",
      "Iteration No: 4 ended. Evaluation done at random point.\n",
      "Time taken: 7.6696\n",
      "Function value obtained: -0.1548\n",
      "Current minimum: -0.1674\n",
      "Iteration No: 5 started. Evaluating function at random point.\n",
      "Iteration No: 5 ended. Evaluation done at random point.\n",
      "Time taken: 7.3053\n",
      "Function value obtained: -0.1540\n",
      "Current minimum: -0.1674\n",
      "Iteration No: 6 started. Evaluating function at random point.\n",
      "Iteration No: 6 ended. Evaluation done at random point.\n",
      "Time taken: 9.9563\n",
      "Function value obtained: -0.1660\n",
      "Current minimum: -0.1674\n",
      "Iteration No: 7 started. Evaluating function at random point.\n",
      "Iteration No: 7 ended. Evaluation done at random point.\n",
      "Time taken: 7.9150\n",
      "Function value obtained: -0.1554\n",
      "Current minimum: -0.1674\n",
      "Iteration No: 8 started. Evaluating function at random point.\n",
      "Iteration No: 8 ended. Evaluation done at random point.\n",
      "Time taken: 7.7587\n",
      "Function value obtained: -0.1563\n",
      "Current minimum: -0.1674\n",
      "Iteration No: 9 started. Evaluating function at random point.\n",
      "Iteration No: 9 ended. Evaluation done at random point.\n",
      "Time taken: 7.9037\n",
      "Function value obtained: -0.1547\n",
      "Current minimum: -0.1674\n",
      "Iteration No: 10 started. Evaluating function at random point.\n",
      "Iteration No: 10 ended. Evaluation done at random point.\n",
      "Time taken: 7.6834\n",
      "Function value obtained: -0.1407\n",
      "Current minimum: -0.1674\n",
      "Iteration No: 11 started. Searching for the next optimal point.\n",
      "Iteration No: 11 ended. Search finished for the next optimal point.\n",
      "Time taken: 10.6846\n",
      "Function value obtained: -0.1661\n",
      "Current minimum: -0.1674\n",
      "Iteration No: 12 started. Searching for the next optimal point.\n",
      "Iteration No: 12 ended. Search finished for the next optimal point.\n",
      "Time taken: 10.5671\n",
      "Function value obtained: -0.1661\n",
      "Current minimum: -0.1674\n",
      "Iteration No: 13 started. Searching for the next optimal point.\n"
     ]
    },
    {
     "name": "stderr",
     "output_type": "stream",
     "text": [
      "/home/david/Documents/proj/proj/lib/python3.6/site-packages/skopt/optimizer/optimizer.py:399: UserWarning: The objective has been evaluated at this point before.\n",
      "  warnings.warn(\"The objective has been evaluated \"\n"
     ]
    },
    {
     "name": "stdout",
     "output_type": "stream",
     "text": [
      "Iteration No: 13 ended. Search finished for the next optimal point.\n",
      "Time taken: 10.6430\n",
      "Function value obtained: -0.1661\n",
      "Current minimum: -0.1674\n",
      "Iteration No: 14 started. Searching for the next optimal point.\n"
     ]
    },
    {
     "name": "stderr",
     "output_type": "stream",
     "text": [
      "/home/david/Documents/proj/proj/lib/python3.6/site-packages/skopt/optimizer/optimizer.py:399: UserWarning: The objective has been evaluated at this point before.\n",
      "  warnings.warn(\"The objective has been evaluated \"\n"
     ]
    },
    {
     "name": "stdout",
     "output_type": "stream",
     "text": [
      "Iteration No: 14 ended. Search finished for the next optimal point.\n",
      "Time taken: 10.6801\n",
      "Function value obtained: -0.1661\n",
      "Current minimum: -0.1674\n",
      "Iteration No: 15 started. Searching for the next optimal point.\n",
      "Iteration No: 15 ended. Search finished for the next optimal point.\n",
      "Time taken: 10.2475\n",
      "Function value obtained: -0.1660\n",
      "Current minimum: -0.1674\n",
      "Iteration No: 16 started. Searching for the next optimal point.\n",
      "Iteration No: 16 ended. Search finished for the next optimal point.\n",
      "Time taken: 10.5141\n",
      "Function value obtained: -0.1661\n",
      "Current minimum: -0.1674\n",
      "Iteration No: 17 started. Searching for the next optimal point.\n",
      "Iteration No: 17 ended. Search finished for the next optimal point.\n",
      "Time taken: 10.1423\n",
      "Function value obtained: -0.1649\n",
      "Current minimum: -0.1674\n",
      "Iteration No: 18 started. Searching for the next optimal point.\n",
      "Iteration No: 18 ended. Search finished for the next optimal point.\n",
      "Time taken: 10.7149\n",
      "Function value obtained: -0.1661\n",
      "Current minimum: -0.1674\n",
      "Iteration No: 19 started. Searching for the next optimal point.\n",
      "Iteration No: 19 ended. Search finished for the next optimal point.\n",
      "Time taken: 9.7161\n",
      "Function value obtained: -0.1658\n",
      "Current minimum: -0.1674\n",
      "Iteration No: 20 started. Searching for the next optimal point.\n",
      "Iteration No: 20 ended. Search finished for the next optimal point.\n",
      "Time taken: 10.7920\n",
      "Function value obtained: -0.1661\n",
      "Current minimum: -0.1674\n",
      "Iteration No: 21 started. Searching for the next optimal point.\n"
     ]
    },
    {
     "name": "stderr",
     "output_type": "stream",
     "text": [
      "/home/david/Documents/proj/proj/lib/python3.6/site-packages/skopt/optimizer/optimizer.py:399: UserWarning: The objective has been evaluated at this point before.\n",
      "  warnings.warn(\"The objective has been evaluated \"\n"
     ]
    },
    {
     "name": "stdout",
     "output_type": "stream",
     "text": [
      "Iteration No: 21 ended. Search finished for the next optimal point.\n",
      "Time taken: 10.6145\n",
      "Function value obtained: -0.1661\n",
      "Current minimum: -0.1674\n",
      "Iteration No: 22 started. Searching for the next optimal point.\n",
      "Iteration No: 22 ended. Search finished for the next optimal point.\n",
      "Time taken: 7.1475\n",
      "Function value obtained: -0.1097\n",
      "Current minimum: -0.1674\n",
      "Iteration No: 23 started. Searching for the next optimal point.\n",
      "Iteration No: 23 ended. Search finished for the next optimal point.\n",
      "Time taken: 10.8951\n",
      "Function value obtained: -0.1650\n",
      "Current minimum: -0.1674\n",
      "Iteration No: 24 started. Searching for the next optimal point.\n",
      "Iteration No: 24 ended. Search finished for the next optimal point.\n",
      "Time taken: 11.0565\n",
      "Function value obtained: -0.1647\n",
      "Current minimum: -0.1674\n",
      "Iteration No: 25 started. Searching for the next optimal point.\n",
      "Iteration No: 25 ended. Search finished for the next optimal point.\n",
      "Time taken: 9.8679\n",
      "Function value obtained: -0.1659\n",
      "Current minimum: -0.1674\n",
      "Iteration No: 26 started. Searching for the next optimal point.\n",
      "Iteration No: 26 ended. Search finished for the next optimal point.\n",
      "Time taken: 9.6154\n",
      "Function value obtained: -0.1639\n",
      "Current minimum: -0.1674\n",
      "Iteration No: 27 started. Searching for the next optimal point.\n",
      "Iteration No: 27 ended. Search finished for the next optimal point.\n",
      "Time taken: 9.3470\n",
      "Function value obtained: -0.1630\n",
      "Current minimum: -0.1674\n",
      "Iteration No: 28 started. Searching for the next optimal point.\n"
     ]
    },
    {
     "name": "stderr",
     "output_type": "stream",
     "text": [
      "/home/david/Documents/proj/proj/lib/python3.6/site-packages/skopt/optimizer/optimizer.py:399: UserWarning: The objective has been evaluated at this point before.\n",
      "  warnings.warn(\"The objective has been evaluated \"\n"
     ]
    },
    {
     "name": "stdout",
     "output_type": "stream",
     "text": [
      "Iteration No: 28 ended. Search finished for the next optimal point.\n",
      "Time taken: 10.8711\n",
      "Function value obtained: -0.1650\n",
      "Current minimum: -0.1674\n",
      "Iteration No: 29 started. Searching for the next optimal point.\n",
      "Iteration No: 29 ended. Search finished for the next optimal point.\n",
      "Time taken: 9.1604\n",
      "Function value obtained: -0.1590\n",
      "Current minimum: -0.1674\n",
      "Iteration No: 30 started. Searching for the next optimal point.\n"
     ]
    },
    {
     "name": "stderr",
     "output_type": "stream",
     "text": [
      "/home/david/Documents/proj/proj/lib/python3.6/site-packages/skopt/optimizer/optimizer.py:399: UserWarning: The objective has been evaluated at this point before.\n",
      "  warnings.warn(\"The objective has been evaluated \"\n"
     ]
    },
    {
     "name": "stdout",
     "output_type": "stream",
     "text": [
      "Iteration No: 30 ended. Search finished for the next optimal point.\n",
      "Time taken: 10.7912\n",
      "Function value obtained: -0.1661\n",
      "Current minimum: -0.1674\n",
      "Iteration No: 31 started. Searching for the next optimal point.\n",
      "Iteration No: 31 ended. Search finished for the next optimal point.\n",
      "Time taken: 9.8433\n",
      "Function value obtained: -0.1665\n",
      "Current minimum: -0.1674\n",
      "Iteration No: 32 started. Searching for the next optimal point.\n"
     ]
    },
    {
     "name": "stderr",
     "output_type": "stream",
     "text": [
      "/home/david/Documents/proj/proj/lib/python3.6/site-packages/skopt/optimizer/optimizer.py:399: UserWarning: The objective has been evaluated at this point before.\n",
      "  warnings.warn(\"The objective has been evaluated \"\n"
     ]
    },
    {
     "name": "stdout",
     "output_type": "stream",
     "text": [
      "Iteration No: 32 ended. Search finished for the next optimal point.\n",
      "Time taken: 10.8766\n",
      "Function value obtained: -0.1647\n",
      "Current minimum: -0.1674\n",
      "Iteration No: 33 started. Searching for the next optimal point.\n"
     ]
    },
    {
     "name": "stderr",
     "output_type": "stream",
     "text": [
      "/home/david/Documents/proj/proj/lib/python3.6/site-packages/skopt/optimizer/optimizer.py:399: UserWarning: The objective has been evaluated at this point before.\n",
      "  warnings.warn(\"The objective has been evaluated \"\n"
     ]
    },
    {
     "name": "stdout",
     "output_type": "stream",
     "text": [
      "Iteration No: 33 ended. Search finished for the next optimal point.\n",
      "Time taken: 10.7782\n",
      "Function value obtained: -0.1661\n",
      "Current minimum: -0.1674\n",
      "Iteration No: 34 started. Searching for the next optimal point.\n",
      "Iteration No: 34 ended. Search finished for the next optimal point.\n",
      "Time taken: 9.8158\n",
      "Function value obtained: -0.1653\n",
      "Current minimum: -0.1674\n",
      "Iteration No: 35 started. Searching for the next optimal point.\n",
      "Iteration No: 35 ended. Search finished for the next optimal point.\n",
      "Time taken: 9.0536\n",
      "Function value obtained: -0.1598\n",
      "Current minimum: -0.1674\n",
      "Iteration No: 36 started. Searching for the next optimal point.\n",
      "Iteration No: 36 ended. Search finished for the next optimal point.\n",
      "Time taken: 11.0294\n",
      "Function value obtained: -0.1650\n",
      "Current minimum: -0.1674\n",
      "Iteration No: 37 started. Searching for the next optimal point.\n",
      "Iteration No: 37 ended. Search finished for the next optimal point.\n",
      "Time taken: 9.8126\n",
      "Function value obtained: -0.1653\n",
      "Current minimum: -0.1674\n",
      "Iteration No: 38 started. Searching for the next optimal point.\n",
      "Iteration No: 38 ended. Search finished for the next optimal point.\n",
      "Time taken: 9.8301\n",
      "Function value obtained: -0.1643\n",
      "Current minimum: -0.1674\n",
      "Iteration No: 39 started. Searching for the next optimal point.\n",
      "Iteration No: 39 ended. Search finished for the next optimal point.\n",
      "Time taken: 10.8953\n",
      "Function value obtained: -0.1661\n",
      "Current minimum: -0.1674\n",
      "Iteration No: 40 started. Searching for the next optimal point.\n",
      "Iteration No: 40 ended. Search finished for the next optimal point.\n",
      "Time taken: 11.0146\n",
      "Function value obtained: -0.1647\n",
      "Current minimum: -0.1674\n",
      "Iteration No: 41 started. Searching for the next optimal point.\n"
     ]
    },
    {
     "name": "stderr",
     "output_type": "stream",
     "text": [
      "/home/david/Documents/proj/proj/lib/python3.6/site-packages/skopt/optimizer/optimizer.py:399: UserWarning: The objective has been evaluated at this point before.\n",
      "  warnings.warn(\"The objective has been evaluated \"\n"
     ]
    },
    {
     "name": "stdout",
     "output_type": "stream",
     "text": [
      "Iteration No: 41 ended. Search finished for the next optimal point.\n",
      "Time taken: 10.8559\n",
      "Function value obtained: -0.1661\n",
      "Current minimum: -0.1674\n",
      "Iteration No: 42 started. Searching for the next optimal point.\n"
     ]
    },
    {
     "name": "stderr",
     "output_type": "stream",
     "text": [
      "/home/david/Documents/proj/proj/lib/python3.6/site-packages/skopt/optimizer/optimizer.py:399: UserWarning: The objective has been evaluated at this point before.\n",
      "  warnings.warn(\"The objective has been evaluated \"\n"
     ]
    },
    {
     "name": "stdout",
     "output_type": "stream",
     "text": [
      "Iteration No: 42 ended. Search finished for the next optimal point.\n",
      "Time taken: 10.7820\n",
      "Function value obtained: -0.1661\n",
      "Current minimum: -0.1674\n",
      "Iteration No: 43 started. Searching for the next optimal point.\n",
      "Iteration No: 43 ended. Search finished for the next optimal point.\n",
      "Time taken: 9.6746\n",
      "Function value obtained: -0.1631\n",
      "Current minimum: -0.1674\n",
      "Iteration No: 44 started. Searching for the next optimal point.\n",
      "Iteration No: 44 ended. Search finished for the next optimal point.\n",
      "Time taken: 11.1578\n",
      "Function value obtained: -0.1650\n",
      "Current minimum: -0.1674\n",
      "Iteration No: 45 started. Searching for the next optimal point.\n",
      "Iteration No: 45 ended. Search finished for the next optimal point.\n",
      "Time taken: 9.3823\n",
      "Function value obtained: -0.1572\n",
      "Current minimum: -0.1674\n",
      "Iteration No: 46 started. Searching for the next optimal point.\n",
      "Iteration No: 46 ended. Search finished for the next optimal point.\n",
      "Time taken: 10.2577\n",
      "Function value obtained: -0.1645\n",
      "Current minimum: -0.1674\n",
      "Iteration No: 47 started. Searching for the next optimal point.\n"
     ]
    },
    {
     "name": "stderr",
     "output_type": "stream",
     "text": [
      "/home/david/Documents/proj/proj/lib/python3.6/site-packages/skopt/optimizer/optimizer.py:399: UserWarning: The objective has been evaluated at this point before.\n",
      "  warnings.warn(\"The objective has been evaluated \"\n"
     ]
    },
    {
     "name": "stdout",
     "output_type": "stream",
     "text": [
      "Iteration No: 47 ended. Search finished for the next optimal point.\n",
      "Time taken: 11.2872\n",
      "Function value obtained: -0.1661\n",
      "Current minimum: -0.1674\n",
      "Iteration No: 48 started. Searching for the next optimal point.\n",
      "Iteration No: 48 ended. Search finished for the next optimal point.\n",
      "Time taken: 11.4278\n",
      "Function value obtained: -0.1662\n",
      "Current minimum: -0.1674\n",
      "Iteration No: 49 started. Searching for the next optimal point.\n",
      "Iteration No: 49 ended. Search finished for the next optimal point.\n",
      "Time taken: 10.9807\n",
      "Function value obtained: -0.1660\n",
      "Current minimum: -0.1674\n",
      "Iteration No: 50 started. Searching for the next optimal point.\n",
      "Iteration No: 50 ended. Search finished for the next optimal point.\n",
      "Time taken: 9.6331\n",
      "Function value obtained: -0.1656\n",
      "Current minimum: -0.1674\n",
      "Iteration No: 51 started. Searching for the next optimal point.\n"
     ]
    },
    {
     "name": "stderr",
     "output_type": "stream",
     "text": [
      "/home/david/Documents/proj/proj/lib/python3.6/site-packages/skopt/optimizer/optimizer.py:399: UserWarning: The objective has been evaluated at this point before.\n",
      "  warnings.warn(\"The objective has been evaluated \"\n"
     ]
    },
    {
     "name": "stdout",
     "output_type": "stream",
     "text": [
      "Iteration No: 51 ended. Search finished for the next optimal point.\n",
      "Time taken: 11.2598\n",
      "Function value obtained: -0.1661\n",
      "Current minimum: -0.1674\n",
      "Iteration No: 52 started. Searching for the next optimal point.\n"
     ]
    },
    {
     "name": "stderr",
     "output_type": "stream",
     "text": [
      "/home/david/Documents/proj/proj/lib/python3.6/site-packages/skopt/optimizer/optimizer.py:399: UserWarning: The objective has been evaluated at this point before.\n",
      "  warnings.warn(\"The objective has been evaluated \"\n"
     ]
    },
    {
     "name": "stdout",
     "output_type": "stream",
     "text": [
      "Iteration No: 52 ended. Search finished for the next optimal point.\n",
      "Time taken: 11.0931\n",
      "Function value obtained: -0.1661\n",
      "Current minimum: -0.1674\n",
      "Iteration No: 53 started. Searching for the next optimal point.\n"
     ]
    },
    {
     "name": "stderr",
     "output_type": "stream",
     "text": [
      "/home/david/Documents/proj/proj/lib/python3.6/site-packages/skopt/optimizer/optimizer.py:399: UserWarning: The objective has been evaluated at this point before.\n",
      "  warnings.warn(\"The objective has been evaluated \"\n"
     ]
    },
    {
     "name": "stdout",
     "output_type": "stream",
     "text": [
      "Iteration No: 53 ended. Search finished for the next optimal point.\n",
      "Time taken: 10.9855\n",
      "Function value obtained: -0.1661\n",
      "Current minimum: -0.1674\n",
      "Iteration No: 54 started. Searching for the next optimal point.\n",
      "Iteration No: 54 ended. Search finished for the next optimal point.\n",
      "Time taken: 10.8286\n",
      "Function value obtained: -0.1658\n",
      "Current minimum: -0.1674\n",
      "Iteration No: 55 started. Searching for the next optimal point.\n"
     ]
    },
    {
     "name": "stderr",
     "output_type": "stream",
     "text": [
      "/home/david/Documents/proj/proj/lib/python3.6/site-packages/skopt/optimizer/optimizer.py:399: UserWarning: The objective has been evaluated at this point before.\n",
      "  warnings.warn(\"The objective has been evaluated \"\n"
     ]
    },
    {
     "name": "stdout",
     "output_type": "stream",
     "text": [
      "Iteration No: 55 ended. Search finished for the next optimal point.\n",
      "Time taken: 11.1939\n",
      "Function value obtained: -0.1661\n",
      "Current minimum: -0.1674\n",
      "Iteration No: 56 started. Searching for the next optimal point.\n",
      "Iteration No: 56 ended. Search finished for the next optimal point.\n",
      "Time taken: 9.8471\n",
      "Function value obtained: -0.1624\n",
      "Current minimum: -0.1674\n",
      "Iteration No: 57 started. Searching for the next optimal point.\n"
     ]
    },
    {
     "name": "stderr",
     "output_type": "stream",
     "text": [
      "/home/david/Documents/proj/proj/lib/python3.6/site-packages/skopt/optimizer/optimizer.py:399: UserWarning: The objective has been evaluated at this point before.\n",
      "  warnings.warn(\"The objective has been evaluated \"\n"
     ]
    },
    {
     "name": "stdout",
     "output_type": "stream",
     "text": [
      "Iteration No: 57 ended. Search finished for the next optimal point.\n",
      "Time taken: 11.3015\n",
      "Function value obtained: -0.1661\n",
      "Current minimum: -0.1674\n",
      "Iteration No: 58 started. Searching for the next optimal point.\n",
      "Iteration No: 58 ended. Search finished for the next optimal point.\n",
      "Time taken: 11.4838\n",
      "Function value obtained: -0.1654\n",
      "Current minimum: -0.1674\n",
      "Iteration No: 59 started. Searching for the next optimal point.\n",
      "Iteration No: 59 ended. Search finished for the next optimal point.\n",
      "Time taken: 9.6157\n",
      "Function value obtained: -0.1597\n",
      "Current minimum: -0.1674\n",
      "Iteration No: 60 started. Searching for the next optimal point.\n"
     ]
    },
    {
     "name": "stderr",
     "output_type": "stream",
     "text": [
      "/home/david/Documents/proj/proj/lib/python3.6/site-packages/skopt/optimizer/optimizer.py:399: UserWarning: The objective has been evaluated at this point before.\n",
      "  warnings.warn(\"The objective has been evaluated \"\n"
     ]
    },
    {
     "name": "stdout",
     "output_type": "stream",
     "text": [
      "Iteration No: 60 ended. Search finished for the next optimal point.\n",
      "Time taken: 11.0838\n",
      "Function value obtained: -0.1661\n",
      "Current minimum: -0.1674\n",
      "Iteration No: 61 started. Searching for the next optimal point.\n"
     ]
    },
    {
     "name": "stderr",
     "output_type": "stream",
     "text": [
      "/home/david/Documents/proj/proj/lib/python3.6/site-packages/skopt/optimizer/optimizer.py:399: UserWarning: The objective has been evaluated at this point before.\n",
      "  warnings.warn(\"The objective has been evaluated \"\n"
     ]
    },
    {
     "name": "stdout",
     "output_type": "stream",
     "text": [
      "Iteration No: 61 ended. Search finished for the next optimal point.\n",
      "Time taken: 11.2289\n",
      "Function value obtained: -0.1661\n",
      "Current minimum: -0.1674\n",
      "Iteration No: 62 started. Searching for the next optimal point.\n",
      "Iteration No: 62 ended. Search finished for the next optimal point.\n",
      "Time taken: 11.6662\n",
      "Function value obtained: -0.1662\n",
      "Current minimum: -0.1674\n",
      "Iteration No: 63 started. Searching for the next optimal point.\n"
     ]
    },
    {
     "name": "stderr",
     "output_type": "stream",
     "text": [
      "/home/david/Documents/proj/proj/lib/python3.6/site-packages/skopt/optimizer/optimizer.py:399: UserWarning: The objective has been evaluated at this point before.\n",
      "  warnings.warn(\"The objective has been evaluated \"\n"
     ]
    },
    {
     "name": "stdout",
     "output_type": "stream",
     "text": [
      "Iteration No: 63 ended. Search finished for the next optimal point.\n",
      "Time taken: 11.1903\n",
      "Function value obtained: -0.1661\n",
      "Current minimum: -0.1674\n",
      "Iteration No: 64 started. Searching for the next optimal point.\n"
     ]
    },
    {
     "name": "stderr",
     "output_type": "stream",
     "text": [
      "/home/david/Documents/proj/proj/lib/python3.6/site-packages/skopt/optimizer/optimizer.py:399: UserWarning: The objective has been evaluated at this point before.\n",
      "  warnings.warn(\"The objective has been evaluated \"\n"
     ]
    },
    {
     "name": "stdout",
     "output_type": "stream",
     "text": [
      "Iteration No: 64 ended. Search finished for the next optimal point.\n",
      "Time taken: 11.2093\n",
      "Function value obtained: -0.1661\n",
      "Current minimum: -0.1674\n",
      "Iteration No: 65 started. Searching for the next optimal point.\n"
     ]
    },
    {
     "ename": "KeyboardInterrupt",
     "evalue": "",
     "output_type": "error",
     "traceback": [
      "\u001b[0;31m---------------------------------------------------------------------------\u001b[0m",
      "\u001b[0;31mKeyboardInterrupt\u001b[0m                         Traceback (most recent call last)",
      "\u001b[0;32m<ipython-input-67-4d89f1d6fd7d>\u001b[0m in \u001b[0;36m<module>\u001b[0;34m\u001b[0m\n\u001b[0;32m----> 1\u001b[0;31m \u001b[0mres_gp\u001b[0m \u001b[0;34m=\u001b[0m \u001b[0mgp_minimize\u001b[0m\u001b[0;34m(\u001b[0m\u001b[0;34m*\u001b[0m\u001b[0margs\u001b[0m\u001b[0;34m,\u001b[0m \u001b[0;34m**\u001b[0m\u001b[0mkwargs\u001b[0m\u001b[0;34m)\u001b[0m\u001b[0;34m\u001b[0m\u001b[0;34m\u001b[0m\u001b[0m\n\u001b[0m",
      "\u001b[0;32m~/Documents/proj/proj/lib/python3.6/site-packages/skopt/optimizer/gp.py\u001b[0m in \u001b[0;36mgp_minimize\u001b[0;34m(func, dimensions, base_estimator, n_calls, n_random_starts, acq_func, acq_optimizer, x0, y0, random_state, verbose, callback, n_points, n_restarts_optimizer, xi, kappa, noise, n_jobs)\u001b[0m\n\u001b[1;32m    226\u001b[0m         \u001b[0mn_restarts_optimizer\u001b[0m\u001b[0;34m=\u001b[0m\u001b[0mn_restarts_optimizer\u001b[0m\u001b[0;34m,\u001b[0m\u001b[0;34m\u001b[0m\u001b[0;34m\u001b[0m\u001b[0m\n\u001b[1;32m    227\u001b[0m         \u001b[0mx0\u001b[0m\u001b[0;34m=\u001b[0m\u001b[0mx0\u001b[0m\u001b[0;34m,\u001b[0m \u001b[0my0\u001b[0m\u001b[0;34m=\u001b[0m\u001b[0my0\u001b[0m\u001b[0;34m,\u001b[0m \u001b[0mrandom_state\u001b[0m\u001b[0;34m=\u001b[0m\u001b[0mrng\u001b[0m\u001b[0;34m,\u001b[0m \u001b[0mverbose\u001b[0m\u001b[0;34m=\u001b[0m\u001b[0mverbose\u001b[0m\u001b[0;34m,\u001b[0m\u001b[0;34m\u001b[0m\u001b[0;34m\u001b[0m\u001b[0m\n\u001b[0;32m--> 228\u001b[0;31m         callback=callback, n_jobs=n_jobs)\n\u001b[0m",
      "\u001b[0;32m~/Documents/proj/proj/lib/python3.6/site-packages/skopt/optimizer/base.py\u001b[0m in \u001b[0;36mbase_minimize\u001b[0;34m(func, dimensions, base_estimator, n_calls, n_random_starts, acq_func, acq_optimizer, x0, y0, random_state, verbose, callback, n_points, n_restarts_optimizer, xi, kappa, n_jobs)\u001b[0m\n\u001b[1;32m    246\u001b[0m     \u001b[0;32mfor\u001b[0m \u001b[0mn\u001b[0m \u001b[0;32min\u001b[0m \u001b[0mrange\u001b[0m\u001b[0;34m(\u001b[0m\u001b[0mn_calls\u001b[0m\u001b[0;34m)\u001b[0m\u001b[0;34m:\u001b[0m\u001b[0;34m\u001b[0m\u001b[0;34m\u001b[0m\u001b[0m\n\u001b[1;32m    247\u001b[0m         \u001b[0mnext_x\u001b[0m \u001b[0;34m=\u001b[0m \u001b[0moptimizer\u001b[0m\u001b[0;34m.\u001b[0m\u001b[0mask\u001b[0m\u001b[0;34m(\u001b[0m\u001b[0;34m)\u001b[0m\u001b[0;34m\u001b[0m\u001b[0;34m\u001b[0m\u001b[0m\n\u001b[0;32m--> 248\u001b[0;31m         \u001b[0mnext_y\u001b[0m \u001b[0;34m=\u001b[0m \u001b[0mfunc\u001b[0m\u001b[0;34m(\u001b[0m\u001b[0mnext_x\u001b[0m\u001b[0;34m)\u001b[0m\u001b[0;34m\u001b[0m\u001b[0;34m\u001b[0m\u001b[0m\n\u001b[0m\u001b[1;32m    249\u001b[0m         \u001b[0mresult\u001b[0m \u001b[0;34m=\u001b[0m \u001b[0moptimizer\u001b[0m\u001b[0;34m.\u001b[0m\u001b[0mtell\u001b[0m\u001b[0;34m(\u001b[0m\u001b[0mnext_x\u001b[0m\u001b[0;34m,\u001b[0m \u001b[0mnext_y\u001b[0m\u001b[0;34m)\u001b[0m\u001b[0;34m\u001b[0m\u001b[0;34m\u001b[0m\u001b[0m\n\u001b[1;32m    250\u001b[0m         \u001b[0mresult\u001b[0m\u001b[0;34m.\u001b[0m\u001b[0mspecs\u001b[0m \u001b[0;34m=\u001b[0m \u001b[0mspecs\u001b[0m\u001b[0;34m\u001b[0m\u001b[0;34m\u001b[0m\u001b[0m\n",
      "\u001b[0;32m<ipython-input-60-122bc0197177>\u001b[0m in \u001b[0;36mmodel_run\u001b[0;34m(params)\u001b[0m\n\u001b[1;32m     20\u001b[0m         \u001b[0mmodel\u001b[0m\u001b[0;34m.\u001b[0m\u001b[0mfit\u001b[0m\u001b[0;34m(\u001b[0m\u001b[0mfull_train_sparse\u001b[0m\u001b[0;34m.\u001b[0m\u001b[0mtranspose\u001b[0m\u001b[0;34m(\u001b[0m\u001b[0;34m)\u001b[0m\u001b[0;34m)\u001b[0m\u001b[0;34m\u001b[0m\u001b[0;34m\u001b[0m\u001b[0m\n\u001b[1;32m     21\u001b[0m \u001b[0;34m\u001b[0m\u001b[0m\n\u001b[0;32m---> 22\u001b[0;31m         \u001b[0my_pred\u001b[0m \u001b[0;34m=\u001b[0m \u001b[0mmodel\u001b[0m\u001b[0;34m.\u001b[0m\u001b[0mpredict\u001b[0m\u001b[0;34m(\u001b[0m\u001b[0;34m)\u001b[0m\u001b[0;34m[\u001b[0m\u001b[0;34m-\u001b[0m\u001b[0mval_y\u001b[0m\u001b[0;34m.\u001b[0m\u001b[0mshape\u001b[0m\u001b[0;34m[\u001b[0m\u001b[0;36m0\u001b[0m\u001b[0;34m]\u001b[0m\u001b[0;34m:\u001b[0m\u001b[0;34m]\u001b[0m\u001b[0;34m\u001b[0m\u001b[0;34m\u001b[0m\u001b[0m\n\u001b[0m\u001b[1;32m     23\u001b[0m         \u001b[0mscore\u001b[0m \u001b[0;34m+=\u001b[0m \u001b[0mscorer\u001b[0m\u001b[0;34m(\u001b[0m\u001b[0mval_y\u001b[0m\u001b[0;34m,\u001b[0m \u001b[0my_pred\u001b[0m\u001b[0;34m,\u001b[0m \u001b[0maverage\u001b[0m\u001b[0;34m=\u001b[0m\u001b[0;34m'micro'\u001b[0m\u001b[0;34m)\u001b[0m\u001b[0;34m\u001b[0m\u001b[0;34m\u001b[0m\u001b[0m\n\u001b[1;32m     24\u001b[0m     \u001b[0mscore\u001b[0m \u001b[0;34m/=\u001b[0m \u001b[0mn_splits\u001b[0m\u001b[0;34m\u001b[0m\u001b[0;34m\u001b[0m\u001b[0m\n",
      "\u001b[0;32m<ipython-input-25-8c14a3aee44a>\u001b[0m in \u001b[0;36mpredict\u001b[0;34m(self, X, y)\u001b[0m\n\u001b[1;32m     36\u001b[0m         \u001b[0;31m# Make predictions into top 3\u001b[0m\u001b[0;34m\u001b[0m\u001b[0;34m\u001b[0m\u001b[0;34m\u001b[0m\u001b[0m\n\u001b[1;32m     37\u001b[0m         \u001b[0mpredictions\u001b[0m \u001b[0;34m=\u001b[0m \u001b[0mpredictions\u001b[0m\u001b[0;34m.\u001b[0m\u001b[0mtranspose\u001b[0m\u001b[0;34m(\u001b[0m\u001b[0;34m)\u001b[0m\u001b[0;34m\u001b[0m\u001b[0;34m\u001b[0m\u001b[0m\n\u001b[0;32m---> 38\u001b[0;31m         \u001b[0mtops\u001b[0m \u001b[0;34m=\u001b[0m \u001b[0mnh\u001b[0m\u001b[0;34m.\u001b[0m\u001b[0mget_top_n_tags\u001b[0m\u001b[0;34m(\u001b[0m\u001b[0mpredictions\u001b[0m\u001b[0;34m,\u001b[0m \u001b[0mn\u001b[0m\u001b[0;34m=\u001b[0m\u001b[0;36m3\u001b[0m\u001b[0;34m)\u001b[0m\u001b[0;34m\u001b[0m\u001b[0;34m\u001b[0m\u001b[0m\n\u001b[0m\u001b[1;32m     39\u001b[0m         \u001b[0mpredictions\u001b[0m \u001b[0;34m=\u001b[0m \u001b[0mnh\u001b[0m\u001b[0;34m.\u001b[0m\u001b[0mfrom_keras_format\u001b[0m\u001b[0;34m(\u001b[0m\u001b[0mlist\u001b[0m\u001b[0;34m(\u001b[0m\u001b[0mmap\u001b[0m\u001b[0;34m(\u001b[0m\u001b[0;32mlambda\u001b[0m \u001b[0mx\u001b[0m\u001b[0;34m:\u001b[0m \u001b[0mx\u001b[0m \u001b[0;34m+\u001b[0m \u001b[0;36m1\u001b[0m\u001b[0;34m,\u001b[0m \u001b[0mtops\u001b[0m\u001b[0;34m)\u001b[0m\u001b[0;34m)\u001b[0m\u001b[0;34m,\u001b[0m \u001b[0mpredictions\u001b[0m\u001b[0;34m.\u001b[0m\u001b[0mshape\u001b[0m\u001b[0;34m[\u001b[0m\u001b[0;36m1\u001b[0m\u001b[0;34m]\u001b[0m\u001b[0;34m)\u001b[0m\u001b[0;34m\u001b[0m\u001b[0;34m\u001b[0m\u001b[0m\n\u001b[1;32m     40\u001b[0m         \u001b[0;32mreturn\u001b[0m \u001b[0mpredictions\u001b[0m\u001b[0;34m\u001b[0m\u001b[0;34m\u001b[0m\u001b[0m\n",
      "\u001b[0;32m~/Documents/proj/tag-rec/src/lib/notebook_helpers.py\u001b[0m in \u001b[0;36mget_top_n_tags\u001b[0;34m(prediction, n)\u001b[0m\n\u001b[1;32m    247\u001b[0m \u001b[0;34m\u001b[0m\u001b[0m\n\u001b[1;32m    248\u001b[0m \u001b[0;32mdef\u001b[0m \u001b[0mget_top_n_tags\u001b[0m\u001b[0;34m(\u001b[0m\u001b[0mprediction\u001b[0m\u001b[0;34m,\u001b[0m \u001b[0mn\u001b[0m\u001b[0;34m=\u001b[0m\u001b[0;36m5\u001b[0m\u001b[0;34m)\u001b[0m\u001b[0;34m:\u001b[0m\u001b[0;34m\u001b[0m\u001b[0;34m\u001b[0m\u001b[0m\n\u001b[0;32m--> 249\u001b[0;31m     \u001b[0;32mreturn\u001b[0m \u001b[0;34m[\u001b[0m\u001b[0mrow\u001b[0m\u001b[0;34m.\u001b[0m\u001b[0margsort\u001b[0m\u001b[0;34m(\u001b[0m\u001b[0;34m)\u001b[0m\u001b[0;34m[\u001b[0m\u001b[0;34m-\u001b[0m\u001b[0mn\u001b[0m\u001b[0;34m:\u001b[0m\u001b[0;34m]\u001b[0m\u001b[0;34m[\u001b[0m\u001b[0;34m:\u001b[0m\u001b[0;34m:\u001b[0m\u001b[0;34m-\u001b[0m\u001b[0;36m1\u001b[0m\u001b[0;34m]\u001b[0m \u001b[0;32mfor\u001b[0m \u001b[0mrow\u001b[0m \u001b[0;32min\u001b[0m \u001b[0mprediction\u001b[0m\u001b[0;34m]\u001b[0m\u001b[0;34m\u001b[0m\u001b[0;34m\u001b[0m\u001b[0m\n\u001b[0m",
      "\u001b[0;32m~/Documents/proj/tag-rec/src/lib/notebook_helpers.py\u001b[0m in \u001b[0;36m<listcomp>\u001b[0;34m(.0)\u001b[0m\n\u001b[1;32m    247\u001b[0m \u001b[0;34m\u001b[0m\u001b[0m\n\u001b[1;32m    248\u001b[0m \u001b[0;32mdef\u001b[0m \u001b[0mget_top_n_tags\u001b[0m\u001b[0;34m(\u001b[0m\u001b[0mprediction\u001b[0m\u001b[0;34m,\u001b[0m \u001b[0mn\u001b[0m\u001b[0;34m=\u001b[0m\u001b[0;36m5\u001b[0m\u001b[0;34m)\u001b[0m\u001b[0;34m:\u001b[0m\u001b[0;34m\u001b[0m\u001b[0;34m\u001b[0m\u001b[0m\n\u001b[0;32m--> 249\u001b[0;31m     \u001b[0;32mreturn\u001b[0m \u001b[0;34m[\u001b[0m\u001b[0mrow\u001b[0m\u001b[0;34m.\u001b[0m\u001b[0margsort\u001b[0m\u001b[0;34m(\u001b[0m\u001b[0;34m)\u001b[0m\u001b[0;34m[\u001b[0m\u001b[0;34m-\u001b[0m\u001b[0mn\u001b[0m\u001b[0;34m:\u001b[0m\u001b[0;34m]\u001b[0m\u001b[0;34m[\u001b[0m\u001b[0;34m:\u001b[0m\u001b[0;34m:\u001b[0m\u001b[0;34m-\u001b[0m\u001b[0;36m1\u001b[0m\u001b[0;34m]\u001b[0m \u001b[0;32mfor\u001b[0m \u001b[0mrow\u001b[0m \u001b[0;32min\u001b[0m \u001b[0mprediction\u001b[0m\u001b[0;34m]\u001b[0m\u001b[0;34m\u001b[0m\u001b[0;34m\u001b[0m\u001b[0m\n\u001b[0m",
      "\u001b[0;31mKeyboardInterrupt\u001b[0m: "
     ]
    }
   ],
   "source": [
    "res_gp = gp_minimize(*args, **kwargs, n_calls=30)"
   ]
  },
  {
   "cell_type": "code",
   "execution_count": 74,
   "metadata": {
    "scrolled": true
   },
   "outputs": [
    {
     "name": "stdout",
     "output_type": "stream",
     "text": [
      "Iteration No: 1 started. Evaluating function at random point.\n",
      "factors: 57  reg: 0.007180374727086955\n",
      "Iteration No: 1 ended. Evaluation done at random point.\n",
      "Time taken: 8.8878\n",
      "Function value obtained: -0.1591\n",
      "Current minimum: -0.1591\n",
      "Iteration No: 2 started. Evaluating function at random point.\n",
      "factors: 77  reg: 0.008593661614465294\n",
      "Iteration No: 2 ended. Evaluation done at random point.\n",
      "Time taken: 9.4533\n",
      "Function value obtained: -0.1656\n",
      "Current minimum: -0.1656\n",
      "Iteration No: 3 started. Evaluating function at random point.\n",
      "factors: 19  reg: 0.006273280598181128\n",
      "Iteration No: 3 ended. Evaluation done at random point.\n",
      "Time taken: 7.2060\n",
      "Function value obtained: -0.1343\n",
      "Current minimum: -0.1656\n",
      "Iteration No: 4 started. Evaluating function at random point.\n",
      "factors: 46  reg: 0.003045592604790276\n",
      "Iteration No: 4 ended. Evaluation done at random point.\n",
      "Time taken: 8.0003\n",
      "Function value obtained: -0.1570\n",
      "Current minimum: -0.1656\n",
      "Iteration No: 5 started. Evaluating function at random point.\n",
      "factors: 98  reg: 0.009640261328960191\n",
      "Iteration No: 5 ended. Evaluation done at random point.\n",
      "Time taken: 10.4962\n",
      "Function value obtained: -0.1650\n",
      "Current minimum: -0.1656\n",
      "Iteration No: 6 started. Evaluating function at random point.\n",
      "factors: 68  reg: 0.004828884661481365\n",
      "Iteration No: 6 ended. Evaluation done at random point.\n",
      "Time taken: 8.5618\n",
      "Function value obtained: -0.1650\n",
      "Current minimum: -0.1656\n",
      "Iteration No: 7 started. Evaluating function at random point.\n",
      "factors: 49  reg: 0.005336059705553756\n",
      "Iteration No: 7 ended. Evaluation done at random point.\n",
      "Time taken: 8.1823\n",
      "Function value obtained: -0.1586\n",
      "Current minimum: -0.1656\n",
      "Iteration No: 8 started. Evaluating function at random point.\n",
      "factors: 98  reg: 0.0039885694813982155\n",
      "Iteration No: 8 ended. Evaluation done at random point.\n",
      "Time taken: 10.4220\n",
      "Function value obtained: -0.1648\n",
      "Current minimum: -0.1656\n",
      "Iteration No: 9 started. Evaluating function at random point.\n",
      "factors: 35  reg: 0.000803256976159081\n",
      "Iteration No: 9 ended. Evaluation done at random point.\n",
      "Time taken: 7.5903\n",
      "Function value obtained: -0.1536\n",
      "Current minimum: -0.1656\n",
      "Iteration No: 10 started. Evaluating function at random point.\n",
      "factors: 19  reg: 0.006516901533306854\n",
      "Iteration No: 10 ended. Evaluation done at random point.\n",
      "Time taken: 7.3769\n",
      "Function value obtained: -0.1343\n",
      "Current minimum: -0.1656\n",
      "Iteration No: 11 started. Searching for the next optimal point.\n",
      "factors: 72  reg: 0.006377914816899269\n",
      "Iteration No: 11 ended. Search finished for the next optimal point.\n",
      "Time taken: 9.1284\n",
      "Function value obtained: -0.1628\n",
      "Current minimum: -0.1656\n",
      "Iteration No: 12 started. Searching for the next optimal point.\n",
      "factors: 69  reg: 0.00649618891976337\n",
      "Iteration No: 12 ended. Search finished for the next optimal point.\n",
      "Time taken: 9.0486\n",
      "Function value obtained: -0.1651\n",
      "Current minimum: -0.1656\n",
      "Iteration No: 13 started. Searching for the next optimal point.\n",
      "factors: 68  reg: 0.006528666018221343\n",
      "Iteration No: 13 ended. Search finished for the next optimal point.\n",
      "Time taken: 8.8845\n",
      "Function value obtained: -0.1652\n",
      "Current minimum: -0.1656\n",
      "Iteration No: 14 started. Searching for the next optimal point.\n",
      "factors: 69  reg: 0.0065023750033119465\n",
      "Iteration No: 14 ended. Search finished for the next optimal point.\n",
      "Time taken: 8.9924\n",
      "Function value obtained: -0.1651\n",
      "Current minimum: -0.1656\n",
      "Iteration No: 15 started. Searching for the next optimal point.\n",
      "factors: 39  reg: 0.009422677021143185\n",
      "Iteration No: 15 ended. Search finished for the next optimal point.\n",
      "Time taken: 7.8586\n",
      "Function value obtained: -0.1564\n",
      "Current minimum: -0.1656\n",
      "Iteration No: 16 started. Searching for the next optimal point.\n",
      "factors: 37  reg: 0.009120386887362254\n",
      "Iteration No: 16 ended. Search finished for the next optimal point.\n",
      "Time taken: 7.8135\n",
      "Function value obtained: -0.1539\n",
      "Current minimum: -0.1656\n",
      "Iteration No: 17 started. Searching for the next optimal point.\n",
      "factors: 64  reg: 0.006304494346363729\n",
      "Iteration No: 17 ended. Search finished for the next optimal point.\n",
      "Time taken: 8.7104\n",
      "Function value obtained: -0.1644\n",
      "Current minimum: -0.1656\n",
      "Iteration No: 18 started. Searching for the next optimal point.\n",
      "factors: 51  reg: 0.00629589364121756\n",
      "Iteration No: 18 ended. Search finished for the next optimal point.\n",
      "Time taken: 8.5382\n",
      "Function value obtained: -0.1563\n",
      "Current minimum: -0.1656\n",
      "Iteration No: 19 started. Searching for the next optimal point.\n",
      "factors: 64  reg: 0.0064413240966696836\n",
      "Iteration No: 19 ended. Search finished for the next optimal point.\n",
      "Time taken: 8.5847\n",
      "Function value obtained: -0.1644\n",
      "Current minimum: -0.1656\n",
      "Iteration No: 20 started. Searching for the next optimal point.\n",
      "factors: 17  reg: 0.007994137530999678\n",
      "Iteration No: 20 ended. Search finished for the next optimal point.\n",
      "Time taken: 7.2867\n",
      "Function value obtained: -0.1289\n",
      "Current minimum: -0.1656\n"
     ]
    }
   ],
   "source": [
    "res_forest = forest_minimize(*args, **kwargs, n_calls=20)"
   ]
  },
  {
   "cell_type": "code",
   "execution_count": null,
   "metadata": {},
   "outputs": [],
   "source": []
  },
  {
   "cell_type": "code",
   "execution_count": 75,
   "metadata": {},
   "outputs": [
    {
     "data": {
      "text/plain": [
       "          fun: -0.16561284350915723\n",
       "    func_vals: array([-0.15905585, -0.16561284, -0.13429457, -0.15700916, -0.16503507,\n",
       "       -0.16498886, -0.15861365, -0.16480048, -0.15360956, -0.13429457,\n",
       "       -0.16276125, -0.16508829, -0.16519118, -0.16508829, -0.15642602,\n",
       "       -0.15394532, -0.16436156, -0.15630022, -0.16439566, -0.12889466])\n",
       "       models: [ExtraTreesRegressor(bootstrap=False, criterion='mse', max_depth=None,\n",
       "          max_features='auto', max_leaf_nodes=None, min_samples_leaf=3,\n",
       "          min_samples_split=2, min_variance=0.0,\n",
       "          min_weight_fraction_leaf=0.0, n_estimators=100, n_jobs=1,\n",
       "          oob_score=False, random_state=209652396, verbose=0,\n",
       "          warm_start=False), ExtraTreesRegressor(bootstrap=False, criterion='mse', max_depth=None,\n",
       "          max_features='auto', max_leaf_nodes=None, min_samples_leaf=3,\n",
       "          min_samples_split=2, min_variance=0.0,\n",
       "          min_weight_fraction_leaf=0.0, n_estimators=100, n_jobs=1,\n",
       "          oob_score=False, random_state=209652396, verbose=0,\n",
       "          warm_start=False), ExtraTreesRegressor(bootstrap=False, criterion='mse', max_depth=None,\n",
       "          max_features='auto', max_leaf_nodes=None, min_samples_leaf=3,\n",
       "          min_samples_split=2, min_variance=0.0,\n",
       "          min_weight_fraction_leaf=0.0, n_estimators=100, n_jobs=1,\n",
       "          oob_score=False, random_state=209652396, verbose=0,\n",
       "          warm_start=False), ExtraTreesRegressor(bootstrap=False, criterion='mse', max_depth=None,\n",
       "          max_features='auto', max_leaf_nodes=None, min_samples_leaf=3,\n",
       "          min_samples_split=2, min_variance=0.0,\n",
       "          min_weight_fraction_leaf=0.0, n_estimators=100, n_jobs=1,\n",
       "          oob_score=False, random_state=209652396, verbose=0,\n",
       "          warm_start=False), ExtraTreesRegressor(bootstrap=False, criterion='mse', max_depth=None,\n",
       "          max_features='auto', max_leaf_nodes=None, min_samples_leaf=3,\n",
       "          min_samples_split=2, min_variance=0.0,\n",
       "          min_weight_fraction_leaf=0.0, n_estimators=100, n_jobs=1,\n",
       "          oob_score=False, random_state=209652396, verbose=0,\n",
       "          warm_start=False), ExtraTreesRegressor(bootstrap=False, criterion='mse', max_depth=None,\n",
       "          max_features='auto', max_leaf_nodes=None, min_samples_leaf=3,\n",
       "          min_samples_split=2, min_variance=0.0,\n",
       "          min_weight_fraction_leaf=0.0, n_estimators=100, n_jobs=1,\n",
       "          oob_score=False, random_state=209652396, verbose=0,\n",
       "          warm_start=False), ExtraTreesRegressor(bootstrap=False, criterion='mse', max_depth=None,\n",
       "          max_features='auto', max_leaf_nodes=None, min_samples_leaf=3,\n",
       "          min_samples_split=2, min_variance=0.0,\n",
       "          min_weight_fraction_leaf=0.0, n_estimators=100, n_jobs=1,\n",
       "          oob_score=False, random_state=209652396, verbose=0,\n",
       "          warm_start=False), ExtraTreesRegressor(bootstrap=False, criterion='mse', max_depth=None,\n",
       "          max_features='auto', max_leaf_nodes=None, min_samples_leaf=3,\n",
       "          min_samples_split=2, min_variance=0.0,\n",
       "          min_weight_fraction_leaf=0.0, n_estimators=100, n_jobs=1,\n",
       "          oob_score=False, random_state=209652396, verbose=0,\n",
       "          warm_start=False), ExtraTreesRegressor(bootstrap=False, criterion='mse', max_depth=None,\n",
       "          max_features='auto', max_leaf_nodes=None, min_samples_leaf=3,\n",
       "          min_samples_split=2, min_variance=0.0,\n",
       "          min_weight_fraction_leaf=0.0, n_estimators=100, n_jobs=1,\n",
       "          oob_score=False, random_state=209652396, verbose=0,\n",
       "          warm_start=False), ExtraTreesRegressor(bootstrap=False, criterion='mse', max_depth=None,\n",
       "          max_features='auto', max_leaf_nodes=None, min_samples_leaf=3,\n",
       "          min_samples_split=2, min_variance=0.0,\n",
       "          min_weight_fraction_leaf=0.0, n_estimators=100, n_jobs=1,\n",
       "          oob_score=False, random_state=209652396, verbose=0,\n",
       "          warm_start=False), ExtraTreesRegressor(bootstrap=False, criterion='mse', max_depth=None,\n",
       "          max_features='auto', max_leaf_nodes=None, min_samples_leaf=3,\n",
       "          min_samples_split=2, min_variance=0.0,\n",
       "          min_weight_fraction_leaf=0.0, n_estimators=100, n_jobs=1,\n",
       "          oob_score=False, random_state=209652396, verbose=0,\n",
       "          warm_start=False)]\n",
       " random_state: <mtrand.RandomState object at 0x7fc0b3b78438>\n",
       "        space: Space([Integer(low=10, high=100),\n",
       "       Real(low=0.0001, high=0.01, prior='uniform', transform='identity')])\n",
       "        specs: {'args': {'n_jobs': 1, 'kappa': 1.96, 'xi': 0.01, 'n_restarts_optimizer': 5, 'n_points': 10000, 'callback': None, 'verbose': True, 'random_state': 0, 'y0': None, 'x0': None, 'acq_optimizer': 'sampling', 'acq_func': 'EI', 'n_random_starts': 10, 'n_calls': 20, 'base_estimator': 'ET', 'dimensions': [(10, 100), (0.0001, 0.01)], 'func': <function model_run at 0x7fc0b20b1268>}, 'function': 'base_minimize'}\n",
       "            x: [77, 0.008593661614465294]\n",
       "      x_iters: [[57, 0.007180374727086955], [77, 0.008593661614465294], [19, 0.006273280598181128], [46, 0.003045592604790276], [98, 0.009640261328960191], [68, 0.004828884661481365], [49, 0.005336059705553756], [98, 0.0039885694813982155], [35, 0.000803256976159081], [19, 0.006516901533306854], [72, 0.006377914816899269], [69, 0.00649618891976337], [68, 0.006528666018221343], [69, 0.0065023750033119465], [39, 0.009422677021143185], [37, 0.009120386887362254], [64, 0.006304494346363729], [51, 0.00629589364121756], [64, 0.0064413240966696836], [17, 0.007994137530999678]]"
      ]
     },
     "execution_count": 75,
     "metadata": {},
     "output_type": "execute_result"
    }
   ],
   "source": [
    "res_forest"
   ]
  }
 ],
 "metadata": {
  "kernelspec": {
   "display_name": "Python 3",
   "language": "python",
   "name": "python3"
  },
  "language_info": {
   "codemirror_mode": {
    "name": "ipython",
    "version": 3
   },
   "file_extension": ".py",
   "mimetype": "text/x-python",
   "name": "python",
   "nbconvert_exporter": "python",
   "pygments_lexer": "ipython3",
   "version": "3.6.7"
  }
 },
 "nbformat": 4,
 "nbformat_minor": 2
}
