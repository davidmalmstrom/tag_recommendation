{
 "cells": [
  {
   "cell_type": "code",
   "execution_count": 1,
   "metadata": {},
   "outputs": [],
   "source": [
    "import sys \n",
    "sys.path.append('..')"
   ]
  },
  {
   "cell_type": "code",
   "execution_count": 2,
   "metadata": {},
   "outputs": [
    {
     "name": "stderr",
     "output_type": "stream",
     "text": [
      "Using TensorFlow backend.\n"
     ]
    }
   ],
   "source": [
    "import lib.utils as utils\n",
    "import baseline.estimators as estimators\n",
    "import nncf.run_model_test as nn_test\n",
    "from nncf.evaluate_recall import evaluate_model_recall\n",
    "\n",
    "import os\n",
    "import pickle\n",
    "import scipy.sparse as sp\n",
    "from nncf.evaluate_recall import get_preds\n",
    "from importlib import reload\n",
    "import numpy as np\n",
    "from sklearn.metrics import jaccard_score, recall_score\n",
    "from importlib import reload\n",
    "import seaborn as sns\n",
    "import pandas as pd"
   ]
  },
  {
   "cell_type": "code",
   "execution_count": 3,
   "metadata": {},
   "outputs": [],
   "source": [
    "PROJ_ROOT_DIR = os.path.join(os.path.abspath(''), '..')"
   ]
  },
  {
   "cell_type": "code",
   "execution_count": 4,
   "metadata": {},
   "outputs": [
    {
     "data": {
      "text/plain": [
       "<module 'baseline.estimators' from '../baseline/estimators.py'>"
      ]
     },
     "execution_count": 4,
     "metadata": {},
     "output_type": "execute_result"
    }
   ],
   "source": [
    "reload(estimators)"
   ]
  },
  {
   "cell_type": "code",
   "execution_count": 5,
   "metadata": {},
   "outputs": [],
   "source": [
    "TEST_PART_SIZE = 2000\n",
    "M_SPACE = np.linspace(10, 90, 3, dtype=\"int32\")"
   ]
  },
  {
   "cell_type": "markdown",
   "metadata": {},
   "source": [
    "# All data"
   ]
  },
  {
   "cell_type": "markdown",
   "metadata": {},
   "source": [
    "### Load dataset:"
   ]
  },
  {
   "cell_type": "code",
   "execution_count": 6,
   "metadata": {},
   "outputs": [],
   "source": [
    "test_set_path = os.path.join(PROJ_ROOT_DIR, \"data\", \"test_tag_dataset.pkl\")\n",
    "with open(test_set_path, 'rb') as f:\n",
    "    X, y, mlbx, mlby, val_y, test_y = pickle.load(f)\n",
    "    y = y.tocsr()\n",
    "    X = sp.csr_matrix(X)\n",
    "    test_y = test_y.toarray()\n",
    "NUM_USER_TAGS = y.shape[1]"
   ]
  },
  {
   "cell_type": "markdown",
   "metadata": {},
   "source": [
    "### Load pretrained nn model and generate performance list:"
   ]
  },
  {
   "cell_type": "code",
   "execution_count": 6,
   "metadata": {},
   "outputs": [],
   "source": [
    "nn_model_runfile_path = os.path.join(PROJ_ROOT_DIR, \"nncf\", \"runs\", \"several_runs\", \"runu4.yml\")\n",
    "\n",
    "params = nn_test.read_params(nn_model_runfile_path)\n",
    "\n",
    "nn_model = nn_test.build_model(params, y.shape, X.shape[1])"
   ]
  },
  {
   "cell_type": "code",
   "execution_count": 45,
   "metadata": {},
   "outputs": [],
   "source": [
    "k_list_nn = [(*evaluate_model_recall(nn_model, y[:TEST_PART_SIZE], \n",
    "                                test_y, K, X[:TEST_PART_SIZE].toarray(), False), K, \"nn\")\n",
    "          for K in M_SPACE\n",
    "         ]"
   ]
  },
  {
   "cell_type": "code",
   "execution_count": 46,
   "metadata": {},
   "outputs": [
    {
     "data": {
      "text/plain": [
       "[(0.3300602544074983, 0.11375173050299954, 10, 'nn'),\n",
       " (0.5282303057353269, 0.04541965690601374, 50, 'nn'),\n",
       " (0.6036598973443428, 0.029473936541143653, 90, 'nn')]"
      ]
     },
     "execution_count": 46,
     "metadata": {},
     "output_type": "execute_result"
    }
   ],
   "source": [
    "k_list_nn"
   ]
  },
  {
   "cell_type": "markdown",
   "metadata": {},
   "source": [
    "### Train base model and generate performance list"
   ]
  },
  {
   "cell_type": "code",
   "execution_count": 9,
   "metadata": {},
   "outputs": [],
   "source": [
    "base_model = estimators.BaselineModel(factors=1000,\n",
    "                                regularization=7,\n",
    "                                iterations=15,\n",
    "                                show_progress=False,\n",
    "                                n=3,\n",
    "                                content_scale_factor=0.0424,\n",
    "                                alpha=2.17)"
   ]
  },
  {
   "cell_type": "code",
   "execution_count": 10,
   "metadata": {},
   "outputs": [
    {
     "data": {
      "text/plain": [
       "BaselineModel(alpha=2.17, content_scale_factor=0.0424, factors=1000,\n",
       "              filter_seen=True, iterations=15, n=3, regularization=7,\n",
       "              show_progress=False)"
      ]
     },
     "execution_count": 10,
     "metadata": {},
     "output_type": "execute_result"
    }
   ],
   "source": [
    "base_model.fit(X, y)"
   ]
  },
  {
   "cell_type": "code",
   "execution_count": 13,
   "metadata": {},
   "outputs": [],
   "source": [
    "def compute_metrics(test_y, preds):\n",
    "    return recall_score(test_y, preds, average='micro'), jaccard_score(test_y, preds, average='micro')"
   ]
  },
  {
   "cell_type": "code",
   "execution_count": 42,
   "metadata": {},
   "outputs": [],
   "source": [
    "k_list_base = [\n",
    "    (*compute_metrics(test_y, base_model.predict(X[:TEST_PART_SIZE], start_index=0, n=K)), K, \"Base\")\n",
    "               for K in M_SPACE\n",
    "]"
   ]
  },
  {
   "cell_type": "code",
   "execution_count": 43,
   "metadata": {},
   "outputs": [
    {
     "data": {
      "text/plain": [
       "[(0.3519303726846686, 0.1222101673899566, 10, 'base'),\n",
       " (0.5805623744699844, 0.05014504765851637, 50, 'base'),\n",
       " (0.6603436732872127, 0.032331024234610255, 90, 'base')]"
      ]
     },
     "execution_count": 43,
     "metadata": {},
     "output_type": "execute_result"
    }
   ],
   "source": [
    "k_list_base"
   ]
  },
  {
   "cell_type": "markdown",
   "metadata": {},
   "source": [
    "### And the same for random preds"
   ]
  },
  {
   "cell_type": "code",
   "execution_count": 181,
   "metadata": {},
   "outputs": [],
   "source": [
    "def generate_random_preds(shape, m):\n",
    "    matrix = np.zeros(shape)\n",
    "    for row in matrix:\n",
    "        row[np.random.choice(shape[1], m, replace=False)] = 1\n",
    "    return matrix"
   ]
  },
  {
   "cell_type": "code",
   "execution_count": 199,
   "metadata": {},
   "outputs": [],
   "source": [
    "k_list_random = [\n",
    "    (*compute_metrics(test_y, generate_random_preds((TEST_PART_SIZE, NUM_USERTAGS), K)), K, \"Random\")\n",
    "               for K in M_SPACE\n",
    "]"
   ]
  },
  {
   "cell_type": "code",
   "execution_count": 200,
   "metadata": {},
   "outputs": [
    {
     "data": {
      "text/plain": [
       "[(0.004463289444320465, 0.0013830302192102898, 10, 'Random'),\n",
       " (0.025552332068734657, 0.002106076352165396, 50, 'Random'),\n",
       " (0.046976121401472885, 0.002232936072260145, 90, 'Random')]"
      ]
     },
     "execution_count": 200,
     "metadata": {},
     "output_type": "execute_result"
    }
   ],
   "source": [
    "k_list_random"
   ]
  },
  {
   "cell_type": "markdown",
   "metadata": {},
   "source": [
    "### Generate figures"
   ]
  },
  {
   "cell_type": "code",
   "execution_count": 201,
   "metadata": {
    "scrolled": false
   },
   "outputs": [
    {
     "data": {
      "text/html": [
       "<div>\n",
       "<style scoped>\n",
       "    .dataframe tbody tr th:only-of-type {\n",
       "        vertical-align: middle;\n",
       "    }\n",
       "\n",
       "    .dataframe tbody tr th {\n",
       "        vertical-align: top;\n",
       "    }\n",
       "\n",
       "    .dataframe thead th {\n",
       "        text-align: right;\n",
       "    }\n",
       "</style>\n",
       "<table border=\"1\" class=\"dataframe\">\n",
       "  <thead>\n",
       "    <tr style=\"text-align: right;\">\n",
       "      <th></th>\n",
       "      <th>Recall</th>\n",
       "      <th>Jaccard</th>\n",
       "      <th>M</th>\n",
       "      <th>Type</th>\n",
       "    </tr>\n",
       "  </thead>\n",
       "  <tbody>\n",
       "    <tr>\n",
       "      <th>0</th>\n",
       "      <td>0.351930</td>\n",
       "      <td>0.122210</td>\n",
       "      <td>10</td>\n",
       "      <td>base</td>\n",
       "    </tr>\n",
       "    <tr>\n",
       "      <th>1</th>\n",
       "      <td>0.580562</td>\n",
       "      <td>0.050145</td>\n",
       "      <td>50</td>\n",
       "      <td>base</td>\n",
       "    </tr>\n",
       "    <tr>\n",
       "      <th>2</th>\n",
       "      <td>0.660344</td>\n",
       "      <td>0.032331</td>\n",
       "      <td>90</td>\n",
       "      <td>base</td>\n",
       "    </tr>\n",
       "    <tr>\n",
       "      <th>3</th>\n",
       "      <td>0.330060</td>\n",
       "      <td>0.113752</td>\n",
       "      <td>10</td>\n",
       "      <td>nn</td>\n",
       "    </tr>\n",
       "    <tr>\n",
       "      <th>4</th>\n",
       "      <td>0.528230</td>\n",
       "      <td>0.045420</td>\n",
       "      <td>50</td>\n",
       "      <td>nn</td>\n",
       "    </tr>\n",
       "    <tr>\n",
       "      <th>5</th>\n",
       "      <td>0.603660</td>\n",
       "      <td>0.029474</td>\n",
       "      <td>90</td>\n",
       "      <td>nn</td>\n",
       "    </tr>\n",
       "    <tr>\n",
       "      <th>6</th>\n",
       "      <td>0.004463</td>\n",
       "      <td>0.001383</td>\n",
       "      <td>10</td>\n",
       "      <td>Random</td>\n",
       "    </tr>\n",
       "    <tr>\n",
       "      <th>7</th>\n",
       "      <td>0.025552</td>\n",
       "      <td>0.002106</td>\n",
       "      <td>50</td>\n",
       "      <td>Random</td>\n",
       "    </tr>\n",
       "    <tr>\n",
       "      <th>8</th>\n",
       "      <td>0.046976</td>\n",
       "      <td>0.002233</td>\n",
       "      <td>90</td>\n",
       "      <td>Random</td>\n",
       "    </tr>\n",
       "  </tbody>\n",
       "</table>\n",
       "</div>"
      ],
      "text/plain": [
       "     Recall   Jaccard   M    Type\n",
       "0  0.351930  0.122210  10    base\n",
       "1  0.580562  0.050145  50    base\n",
       "2  0.660344  0.032331  90    base\n",
       "3  0.330060  0.113752  10      nn\n",
       "4  0.528230  0.045420  50      nn\n",
       "5  0.603660  0.029474  90      nn\n",
       "6  0.004463  0.001383  10  Random\n",
       "7  0.025552  0.002106  50  Random\n",
       "8  0.046976  0.002233  90  Random"
      ]
     },
     "execution_count": 201,
     "metadata": {},
     "output_type": "execute_result"
    }
   ],
   "source": [
    "df = pd.DataFrame(k_list_base + k_list_nn + k_list_random, columns=[\"Recall\", \"Jaccard\", \"M\", \"Type\"])\n",
    "df"
   ]
  },
  {
   "cell_type": "code",
   "execution_count": null,
   "metadata": {},
   "outputs": [],
   "source": []
  },
  {
   "cell_type": "code",
   "execution_count": 202,
   "metadata": {},
   "outputs": [],
   "source": [
    "sns.set_style(\"whitegrid\")"
   ]
  },
  {
   "cell_type": "code",
   "execution_count": 203,
   "metadata": {},
   "outputs": [
    {
     "data": {
      "image/png": "[encoded data removed]",
      "text/plain": [
       "<Figure size 432x288 with 1 Axes>"
      ]
     },
     "metadata": {},
     "output_type": "display_data"
    }
   ],
   "source": [
    "plot = sns.lineplot(x=\"M\", y=\"Recall\", marker=\"o\", hue=\"Type\", data=df)"
   ]
  },
  {
   "cell_type": "code",
   "execution_count": null,
   "metadata": {},
   "outputs": [],
   "source": [
    "plot.figure.savefig(\"M_plot_nn_base.svg\")"
   ]
  },
  {
   "cell_type": "markdown",
   "metadata": {},
   "source": [
    "# Cold start"
   ]
  },
  {
   "cell_type": "markdown",
   "metadata": {},
   "source": [
    "### Load dataset"
   ]
  },
  {
   "cell_type": "code",
   "execution_count": null,
   "metadata": {},
   "outputs": [],
   "source": [
    "test_set_path = os.path.join(PROJ_ROOT_DIR, \"data\", \"cold_0.0_test_tag_dataset.pkl\")\n",
    "with open(test_set_path, 'rb') as f:\n",
    "    X, y, mlbx, mlby, val_y, test_y = pickle.load(f)\n",
    "    y = y.tocsr()\n",
    "    X = sp.csr_matrix(X)\n",
    "    test_y = test_y.toarray()\n",
    "NUM_USER_TAGS = y.shape[1]"
   ]
  },
  {
   "cell_type": "markdown",
   "metadata": {},
   "source": [
    "Otherwise identical; do a function instead!"
   ]
  },
  {
   "cell_type": "code",
   "execution_count": 7,
   "metadata": {},
   "outputs": [],
   "source": [
    "import sys \n",
    "sys.path.append('..')"
   ]
  },
  {
   "cell_type": "code",
   "execution_count": 8,
   "metadata": {},
   "outputs": [],
   "source": [
    "import lib.utils as utils\n",
    "import baseline.estimators as estimators\n",
    "import nncf.run_model_test as nn_test\n",
    "from nncf.evaluate_recall import evaluate_model_recall\n",
    "\n",
    "import os\n",
    "import pickle\n",
    "import scipy.sparse as sp\n",
    "import numpy as np\n",
    "from sklearn.metrics import jaccard_score, recall_score\n",
    "import seaborn as sns\n",
    "import pandas as pd"
   ]
  },
  {
   "cell_type": "code",
   "execution_count": 9,
   "metadata": {},
   "outputs": [],
   "source": [
    "def compute_metrics(test_y, preds):\n",
    "    return recall_score(test_y, preds, average='micro'), jaccard_score(test_y, preds, average='micro')"
   ]
  },
  {
   "cell_type": "code",
   "execution_count": 10,
   "metadata": {},
   "outputs": [],
   "source": [
    "def get_base_results(X, y, test_y, m_space):\n",
    "    test_part_size = test_y.shape[0]\n",
    "    \n",
    "    base_model = estimators.BaselineModel(factors=1000,\n",
    "                                        regularization=7,\n",
    "                                        iterations=15,\n",
    "                                        show_progress=False,\n",
    "                                        n=3,\n",
    "                                        content_scale_factor=0.0424,\n",
    "                                        alpha=2.17)\n",
    "    base_model.fit(X, y)\n",
    "    \n",
    "    k_list_base = [\n",
    "        (*compute_metrics(test_y, base_model.predict(X[:test_part_size], start_index=0, n=K)), K, \"Base\")\n",
    "        for K in m_space\n",
    "    ]\n",
    "    \n",
    "    return k_list_base"
   ]
  },
  {
   "cell_type": "code",
   "execution_count": 21,
   "metadata": {},
   "outputs": [],
   "source": [
    "def get_nn_results(X, y, test_y, proj_root_dir, config_file_path, m_space):\n",
    "    test_part_size = test_y.shape[0]\n",
    "\n",
    "    params = nn_test.read_params(config_file_path)\n",
    "\n",
    "    nn_model = nn_test.build_model(params, y.shape, X.shape[1])\n",
    "    \n",
    "    k_list_nn = [\n",
    "        (*evaluate_model_recall(nn_model, y[:test_part_size], \n",
    "                                test_y, K, X[:test_part_size].toarray(), False), K, \"nn\")\n",
    "        for K in m_space\n",
    "    ]\n",
    "    \n",
    "    return k_list_nn"
   ]
  },
  {
   "cell_type": "code",
   "execution_count": 12,
   "metadata": {},
   "outputs": [],
   "source": [
    "def get_random_results(test_y, m_space, num_user_tags):\n",
    "    np.random.seed(0)\n",
    "    def generate_random_preds(shape, m):\n",
    "        matrix = np.zeros(shape)\n",
    "        for row in matrix:\n",
    "            row[np.random.choice(shape[1], m, replace=False)] = 1\n",
    "        return matrix\n",
    "    k_list_random = [\n",
    "        (*compute_metrics(test_y, generate_random_preds(test_y.shape, K)), K, \"Random\")\n",
    "        for K in m_space\n",
    "    ]\n",
    "    \n",
    "    return k_list_random"
   ]
  },
  {
   "cell_type": "code",
   "execution_count": 22,
   "metadata": {},
   "outputs": [],
   "source": [
    "def produce_df_for_plot(m_space, proj_root_dir, dataset_file_name, nn_rel_path):\n",
    "    test_set_path = os.path.join(proj_root_dir, \"data\", dataset_file_name)\n",
    "    with open(test_set_path, 'rb') as f:\n",
    "        X, y, mlbx, mlby, val_y, test_y = pickle.load(f)\n",
    "        y = y.tocsr()\n",
    "        X = sp.csr_matrix(X)\n",
    "        test_y = test_y.toarray()\n",
    "    num_user_tags = y.shape[1]\n",
    "\n",
    "    nn_file_path = os.path.join(proj_root_dir, nn_rel_path)\n",
    "    nn = get_nn_results(X, y, test_y, proj_root_dir, nn_file_path, m_space)\n",
    "\n",
    "    base = get_base_results(X, y, test_y, m_space)\n",
    "    random = get_random_results(test_y, m_space, num_user_tags)\n",
    "\n",
    "    df = pd.DataFrame(nn + base + random, columns=[\"Recall\", \"Jaccard\", \"M\", \"Type\"])\n",
    "    return df"
   ]
  },
  {
   "cell_type": "code",
   "execution_count": 43,
   "metadata": {},
   "outputs": [],
   "source": [
    "M_SPACE = np.linspace(10, 90, 3, dtype=\"int32\")\n",
    "PROJ_ROOT_DIR = os.path.join(os.path.abspath(''), '..')"
   ]
  },
  {
   "cell_type": "code",
   "execution_count": 12,
   "metadata": {},
   "outputs": [],
   "source": [
    "sns.set_style(\"whitegrid\")"
   ]
  },
  {
   "cell_type": "code",
   "execution_count": 13,
   "metadata": {
    "scrolled": false
   },
   "outputs": [
    {
     "data": {
      "image/png": "[encoded data removed]",
      "text/plain": [
       "<Figure size 432x288 with 1 Axes>"
      ]
     },
     "metadata": {},
     "output_type": "display_data"
    }
   ],
   "source": [
    "dataset_file_name = \"test_tag_dataset.pkl\"\n",
    "nn_rel_path = os.path.join(\"nncf\", \"runs\", \"past_runs\", \"runu\", \"runu4.yml\")\n",
    "df = produce_df_for_plot(M_SPACE, PROJ_ROOT_DIR, dataset_file_name, nn_rel_path)\n",
    "plot = sns.lineplot(x=\"M\", y=\"Recall\", marker=\"o\", hue=\"Type\", data=df)"
   ]
  },
  {
   "cell_type": "code",
   "execution_count": 23,
   "metadata": {
    "scrolled": false
   },
   "outputs": [
    {
     "data": {
      "image/png": "[encoded data removed]",
      "text/plain": [
       "<Figure size 432x288 with 1 Axes>"
      ]
     },
     "metadata": {
      "needs_background": "light"
     },
     "output_type": "display_data"
    }
   ],
   "source": [
    "dataset_file_name = \"cold_0.1_test_tag_dataset.pkl\"\n",
    "nn_rel_path = os.path.join(\"nncf\", \"runs\", \"past_runs\", \"runu\", \"runu8.yml\")\n",
    "df_cold_01 = produce_df_for_plot(M_SPACE, PROJ_ROOT_DIR, dataset_file_name, nn_rel_path)\n",
    "plot01 = sns.lineplot(x=\"M\", y=\"Recall\", marker=\"o\", hue=\"Type\", data=df_cold_01)"
   ]
  },
  {
   "cell_type": "code",
   "execution_count": 24,
   "metadata": {},
   "outputs": [
    {
     "data": {
      "image/png": "[encoded data removed]",
      "text/plain": [
       "<Figure size 432x288 with 1 Axes>"
      ]
     },
     "metadata": {
      "needs_background": "light"
     },
     "output_type": "display_data"
    }
   ],
   "source": [
    "dataset_file_name = \"cold_0.0_test_tag_dataset.pkl\"\n",
    "nn_rel_path = os.path.join(\"nncf\", \"runs\", \"past_runs\", \"runu\", \"runu11.yml\")\n",
    "df_cold_00 = produce_df_for_plot(M_SPACE, PROJ_ROOT_DIR, dataset_file_name, nn_rel_path)\n",
    "plot00 = sns.lineplot(x=\"M\", y=\"Recall\", marker=\"o\", hue=\"Type\", data=df_cold_00)"
   ]
  },
  {
   "cell_type": "code",
   "execution_count": null,
   "metadata": {},
   "outputs": [],
   "source": [
    "plot.figure.savefig(\"M_plot_nn_base.svg\")"
   ]
  },
  {
   "cell_type": "code",
   "execution_count": null,
   "metadata": {},
   "outputs": [],
   "source": []
  },
  {
   "cell_type": "code",
   "execution_count": 37,
   "metadata": {},
   "outputs": [],
   "source": [
    "import os"
   ]
  },
  {
   "cell_type": "code",
   "execution_count": 46,
   "metadata": {},
   "outputs": [],
   "source": [
    "proj_root_dir = PROJ_ROOT_DIR\n",
    "dataset_file_name = \"\"\n",
    "test_set_path = os.path.join(proj_root_dir, \"data\", \"cold_0.0_test_tag_dataset.pkl\")\n",
    "with open(test_set_path, 'rb') as f:\n",
    "    X, y, mlbx, mlby, val_y, test_y = pickle.load(f)\n",
    "    y = y.tocsr()\n",
    "    X = sp.csr_matrix(X)\n",
    "    test_y = test_y.toarray()\n",
    "num_user_tags = y.shape[1]\n"
   ]
  },
  {
   "cell_type": "code",
   "execution_count": 53,
   "metadata": {
    "scrolled": true
   },
   "outputs": [],
   "source": [
    "m_space = M_SPACE\n",
    "nn_file_path = os.path.join(proj_root_dir, \"nncf\", \"runs\", \"several_runs\", \"runu4.yml\")\n",
    "nn = get_nn_results(X, y, test_y, proj_root_dir, nn_file_path, m_space)\n"
   ]
  },
  {
   "cell_type": "code",
   "execution_count": 54,
   "metadata": {},
   "outputs": [],
   "source": [
    "df = pd.DataFrame(nn, columns=[\"Recall\", \"Jaccard\", \"M\", \"Type\"])"
   ]
  },
  {
   "cell_type": "code",
   "execution_count": 55,
   "metadata": {},
   "outputs": [
    {
     "data": {
      "image/png": "[encoded data removed]",
      "text/plain": [
       "<Figure size 432x288 with 1 Axes>"
      ]
     },
     "metadata": {
      "needs_background": "light"
     },
     "output_type": "display_data"
    }
   ],
   "source": [
    "ploto = sns.lineplot(x=\"M\", y=\"Recall\", marker=\"o\", hue=\"Type\", data=df)"
   ]
  },
  {
   "cell_type": "code",
   "execution_count": 62,
   "metadata": {},
   "outputs": [
    {
     "data": {
      "text/html": [
       "<div>\n",
       "<style scoped>\n",
       "    .dataframe tbody tr th:only-of-type {\n",
       "        vertical-align: middle;\n",
       "    }\n",
       "\n",
       "    .dataframe tbody tr th {\n",
       "        vertical-align: top;\n",
       "    }\n",
       "\n",
       "    .dataframe thead th {\n",
       "        text-align: right;\n",
       "    }\n",
       "</style>\n",
       "<table border=\"1\" class=\"dataframe\">\n",
       "  <thead>\n",
       "    <tr style=\"text-align: right;\">\n",
       "      <th></th>\n",
       "      <th>Recall</th>\n",
       "      <th>Jaccard</th>\n",
       "      <th>M</th>\n",
       "      <th>Type</th>\n",
       "    </tr>\n",
       "  </thead>\n",
       "  <tbody>\n",
       "    <tr>\n",
       "      <th>0</th>\n",
       "      <td>0.605434</td>\n",
       "      <td>0.404470</td>\n",
       "      <td>10</td>\n",
       "      <td>nn</td>\n",
       "    </tr>\n",
       "    <tr>\n",
       "      <th>1</th>\n",
       "      <td>0.758543</td>\n",
       "      <td>0.131853</td>\n",
       "      <td>50</td>\n",
       "      <td>nn</td>\n",
       "    </tr>\n",
       "    <tr>\n",
       "      <th>2</th>\n",
       "      <td>0.800209</td>\n",
       "      <td>0.079069</td>\n",
       "      <td>90</td>\n",
       "      <td>nn</td>\n",
       "    </tr>\n",
       "  </tbody>\n",
       "</table>\n",
       "</div>"
      ],
      "text/plain": [
       "     Recall   Jaccard   M Type\n",
       "0  0.605434  0.404470  10   nn\n",
       "1  0.758543  0.131853  50   nn\n",
       "2  0.800209  0.079069  90   nn"
      ]
     },
     "execution_count": 62,
     "metadata": {},
     "output_type": "execute_result"
    }
   ],
   "source": [
    "df"
   ]
  },
  {
   "cell_type": "code",
   "execution_count": null,
   "metadata": {},
   "outputs": [],
   "source": [
    "\n",
    "base = get_base_results(X, y, test_y, m_space)\n",
    "random = get_random_results(test_y, m_space, num_user_tags)\n",
    "\n",
    "df = pd.DataFrame(nn + base + random, columns=[\"Recall\", \"Jaccard\", \"M\", \"Type\"])\n",
    "return df"
   ]
  },
  {
   "cell_type": "code",
   "execution_count": null,
   "metadata": {},
   "outputs": [],
   "source": []
  },
  {
   "cell_type": "markdown",
   "metadata": {},
   "source": [
    "### Trams"
   ]
  },
  {
   "cell_type": "code",
   "execution_count": 8,
   "metadata": {},
   "outputs": [
    {
     "data": {
      "text/plain": [
       "2"
      ]
     },
     "execution_count": 8,
     "metadata": {},
     "output_type": "execute_result"
    }
   ],
   "source": [
    "1+1"
   ]
  },
  {
   "cell_type": "code",
   "execution_count": 34,
   "metadata": {},
   "outputs": [
    {
     "name": "stdout",
     "output_type": "stream",
     "text": [
      "1\n"
     ]
    }
   ],
   "source": [
    "david2 = 2\n",
    "\n",
    "def david():\n",
    "    tre = 2\n",
    "    vari = 5\n",
    "    def oliwer():\n",
    "        global david2\n",
    "        print(david2)\n",
    "        david2 = 2\n",
    "    oliwer()\n",
    "#david()\n",
    "\n",
    "def oliwer():\n",
    "    global tre\n",
    "    print(tre)\n",
    "oliwer()"
   ]
  }
 ],
 "metadata": {
  "kernelspec": {
   "display_name": "Python 3",
   "language": "python",
   "name": "python3"
  },
  "language_info": {
   "codemirror_mode": {
    "name": "ipython",
    "version": 3
   },
   "file_extension": ".py",
   "mimetype": "text/x-python",
   "name": "python",
   "nbconvert_exporter": "python",
   "pygments_lexer": "ipython3",
   "version": "3.6.7"
  }
 },
 "nbformat": 4,
 "nbformat_minor": 2
}
