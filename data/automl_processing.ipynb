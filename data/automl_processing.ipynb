{
 "cells": [
  {
   "cell_type": "code",
   "execution_count": 1,
   "metadata": {},
   "outputs": [],
   "source": [
    "import pandas as pd"
   ]
  },
  {
   "cell_type": "code",
   "execution_count": 2,
   "metadata": {},
   "outputs": [],
   "source": [
    "X, y, mlbx, mlby, val_y, test_y = pd.read_pickle('test_tag_dataset.pkl')"
   ]
  },
  {
   "cell_type": "markdown",
   "metadata": {},
   "source": [
    "## reverse the multi-label-binarization"
   ]
  },
  {
   "cell_type": "code",
   "execution_count": 3,
   "metadata": {},
   "outputs": [],
   "source": [
    "user_tags = mlby.inverse_transform(y)\n",
    "autotags = mlbx.inverse_transform(X)"
   ]
  },
  {
   "cell_type": "code",
   "execution_count": 4,
   "metadata": {},
   "outputs": [],
   "source": [
    "train_set = pd.DataFrame(data={'autotags': pd.Series(autotags), 'user_tags': pd.Series(user_tags)})"
   ]
  },
  {
   "cell_type": "code",
   "execution_count": 5,
   "metadata": {},
   "outputs": [],
   "source": [
    "train_set['user'] = train_set.index"
   ]
  },
  {
   "cell_type": "code",
   "execution_count": 6,
   "metadata": {
    "scrolled": false
   },
   "outputs": [
    {
     "data": {
      "text/html": [
       "<div>\n",
       "<style scoped>\n",
       "    .dataframe tbody tr th:only-of-type {\n",
       "        vertical-align: middle;\n",
       "    }\n",
       "\n",
       "    .dataframe tbody tr th {\n",
       "        vertical-align: top;\n",
       "    }\n",
       "\n",
       "    .dataframe thead th {\n",
       "        text-align: right;\n",
       "    }\n",
       "</style>\n",
       "<table border=\"1\" class=\"dataframe\">\n",
       "  <thead>\n",
       "    <tr style=\"text-align: right;\">\n",
       "      <th></th>\n",
       "      <th>autotags</th>\n",
       "      <th>user_tags</th>\n",
       "      <th>user</th>\n",
       "    </tr>\n",
       "  </thead>\n",
       "  <tbody>\n",
       "    <tr>\n",
       "      <th>0</th>\n",
       "      <td>(concert, dark red, ensemble, indoor, light, m...</td>\n",
       "      <td>(chris, dave, jack, march)</td>\n",
       "      <td>0</td>\n",
       "    </tr>\n",
       "    <tr>\n",
       "      <th>1</th>\n",
       "      <td>(amusement park, carousel, display window, flo...</td>\n",
       "      <td>(asia, breakfast, thailand)</td>\n",
       "      <td>1</td>\n",
       "    </tr>\n",
       "    <tr>\n",
       "      <th>2</th>\n",
       "      <td>(cosplay, fashion, outerwear, outfit, parade, ...</td>\n",
       "      <td>(anaheim, cosplay, show)</td>\n",
       "      <td>2</td>\n",
       "    </tr>\n",
       "    <tr>\n",
       "      <th>3</th>\n",
       "      <td>(almond tree, animal, bird, bird of prey, blos...</td>\n",
       "      <td>(asia, bloom, blue, city, february, spring, tr...</td>\n",
       "      <td>3</td>\n",
       "    </tr>\n",
       "    <tr>\n",
       "      <th>4</th>\n",
       "      <td>(animal, blue, bright, depth of field, flower,...</td>\n",
       "      <td>(blue, denmark, flower, flowers, spring, winter)</td>\n",
       "      <td>4</td>\n",
       "    </tr>\n",
       "  </tbody>\n",
       "</table>\n",
       "</div>"
      ],
      "text/plain": [
       "                                            autotags  \\\n",
       "0  (concert, dark red, ensemble, indoor, light, m...   \n",
       "1  (amusement park, carousel, display window, flo...   \n",
       "2  (cosplay, fashion, outerwear, outfit, parade, ...   \n",
       "3  (almond tree, animal, bird, bird of prey, blos...   \n",
       "4  (animal, blue, bright, depth of field, flower,...   \n",
       "\n",
       "                                           user_tags  user  \n",
       "0                         (chris, dave, jack, march)     0  \n",
       "1                        (asia, breakfast, thailand)     1  \n",
       "2                           (anaheim, cosplay, show)     2  \n",
       "3  (asia, bloom, blue, city, february, spring, tr...     3  \n",
       "4   (blue, denmark, flower, flowers, spring, winter)     4  "
      ]
     },
     "execution_count": 6,
     "metadata": {},
     "output_type": "execute_result"
    }
   ],
   "source": [
    "train_set.head()"
   ]
  },
  {
   "cell_type": "code",
   "execution_count": 7,
   "metadata": {},
   "outputs": [],
   "source": [
    "# save the train set for later use\n",
    "orig_train_set = train_set.copy()"
   ]
  },
  {
   "cell_type": "markdown",
   "metadata": {},
   "source": [
    "### For each user-tag, add 4 negative training examples."
   ]
  },
  {
   "cell_type": "code",
   "execution_count": 8,
   "metadata": {},
   "outputs": [],
   "source": [
    "import numpy as np"
   ]
  },
  {
   "cell_type": "code",
   "execution_count": 9,
   "metadata": {},
   "outputs": [],
   "source": [
    "import scipy.sparse as sp"
   ]
  },
  {
   "cell_type": "code",
   "execution_count": 10,
   "metadata": {},
   "outputs": [],
   "source": [
    "np.random.seed(0)\n",
    "num_negatives = 4\n",
    "num_tags = y.shape[1]\n",
    "items, u_tags, labels = [],[],[]\n",
    "for i, u in y.keys():\n",
    "    for t in range(num_negatives):\n",
    "        j = np.random.randint(num_tags)\n",
    "        while (i, j) in y:\n",
    "            j = np.random.randint(num_tags)\n",
    "        items.append(i)\n",
    "        u_tags.append(j)\n",
    "        labels.append(0)"
   ]
  },
  {
   "cell_type": "code",
   "execution_count": 11,
   "metadata": {},
   "outputs": [],
   "source": [
    "y_neg = sp.dok_matrix(y.shape)"
   ]
  },
  {
   "cell_type": "code",
   "execution_count": 12,
   "metadata": {},
   "outputs": [],
   "source": [
    "for i, u in zip(items, u_tags):\n",
    "    y_neg[i, u] = 1"
   ]
  },
  {
   "cell_type": "code",
   "execution_count": 13,
   "metadata": {},
   "outputs": [],
   "source": [
    "neg_user_tags = mlby.inverse_transform(y_neg)"
   ]
  },
  {
   "cell_type": "code",
   "execution_count": 37,
   "metadata": {},
   "outputs": [],
   "source": [
    "# make function of it\n",
    "def gen_negative_user_tags(num_negatives, binary_data, mlb):\n",
    "    \"\"\"generates <num_negatives> negative user-tag examples\n",
    "    per positivt user-tag in <binary_data>. Transforms the\n",
    "    negative examples to a list of tuples of user-tag strings\n",
    "    using <mlb>.<\"\"\"\n",
    "    np.random.seed(0)\n",
    "    num_tags = binary_data.shape[1]\n",
    "    items, u_tags, labels = [],[],[]\n",
    "    for i, u in binary_data.keys():\n",
    "        for t in range(num_negatives):\n",
    "            j = np.random.randint(num_tags)\n",
    "            while (i, j) in binary_data:\n",
    "                j = np.random.randint(num_tags)\n",
    "            items.append(i)\n",
    "            u_tags.append(j)\n",
    "            labels.append(0)\n",
    "            \n",
    "    negatives = sp.dok_matrix(binary_data.shape)\n",
    "    for i, u in zip(items, u_tags):\n",
    "        negatives[i, u] = 1\n",
    "    return mlb.inverse_transform(negatives)"
   ]
  },
  {
   "cell_type": "code",
   "execution_count": null,
   "metadata": {},
   "outputs": [],
   "source": []
  },
  {
   "cell_type": "markdown",
   "metadata": {},
   "source": [
    "## Add to train set"
   ]
  },
  {
   "cell_type": "code",
   "execution_count": 14,
   "metadata": {},
   "outputs": [
    {
     "data": {
      "text/html": [
       "<div>\n",
       "<style scoped>\n",
       "    .dataframe tbody tr th:only-of-type {\n",
       "        vertical-align: middle;\n",
       "    }\n",
       "\n",
       "    .dataframe tbody tr th {\n",
       "        vertical-align: top;\n",
       "    }\n",
       "\n",
       "    .dataframe thead th {\n",
       "        text-align: right;\n",
       "    }\n",
       "</style>\n",
       "<table border=\"1\" class=\"dataframe\">\n",
       "  <thead>\n",
       "    <tr style=\"text-align: right;\">\n",
       "      <th></th>\n",
       "      <th>autotags</th>\n",
       "      <th>user_tags</th>\n",
       "      <th>user</th>\n",
       "    </tr>\n",
       "  </thead>\n",
       "  <tbody>\n",
       "    <tr>\n",
       "      <th>0</th>\n",
       "      <td>(concert, dark red, ensemble, indoor, light, m...</td>\n",
       "      <td>(chris, dave, jack, march)</td>\n",
       "      <td>0</td>\n",
       "    </tr>\n",
       "    <tr>\n",
       "      <th>1</th>\n",
       "      <td>(amusement park, carousel, display window, flo...</td>\n",
       "      <td>(asia, breakfast, thailand)</td>\n",
       "      <td>1</td>\n",
       "    </tr>\n",
       "    <tr>\n",
       "      <th>2</th>\n",
       "      <td>(cosplay, fashion, outerwear, outfit, parade, ...</td>\n",
       "      <td>(anaheim, cosplay, show)</td>\n",
       "      <td>2</td>\n",
       "    </tr>\n",
       "    <tr>\n",
       "      <th>3</th>\n",
       "      <td>(almond tree, animal, bird, bird of prey, blos...</td>\n",
       "      <td>(asia, bloom, blue, city, february, spring, tr...</td>\n",
       "      <td>3</td>\n",
       "    </tr>\n",
       "    <tr>\n",
       "      <th>4</th>\n",
       "      <td>(animal, blue, bright, depth of field, flower,...</td>\n",
       "      <td>(blue, denmark, flower, flowers, spring, winter)</td>\n",
       "      <td>4</td>\n",
       "    </tr>\n",
       "  </tbody>\n",
       "</table>\n",
       "</div>"
      ],
      "text/plain": [
       "                                            autotags  \\\n",
       "0  (concert, dark red, ensemble, indoor, light, m...   \n",
       "1  (amusement park, carousel, display window, flo...   \n",
       "2  (cosplay, fashion, outerwear, outfit, parade, ...   \n",
       "3  (almond tree, animal, bird, bird of prey, blos...   \n",
       "4  (animal, blue, bright, depth of field, flower,...   \n",
       "\n",
       "                                           user_tags  user  \n",
       "0                         (chris, dave, jack, march)     0  \n",
       "1                        (asia, breakfast, thailand)     1  \n",
       "2                           (anaheim, cosplay, show)     2  \n",
       "3  (asia, bloom, blue, city, february, spring, tr...     3  \n",
       "4   (blue, denmark, flower, flowers, spring, winter)     4  "
      ]
     },
     "execution_count": 14,
     "metadata": {},
     "output_type": "execute_result"
    }
   ],
   "source": [
    "train_set.head()"
   ]
  },
  {
   "cell_type": "code",
   "execution_count": 15,
   "metadata": {},
   "outputs": [
    {
     "data": {
      "text/html": [
       "<div>\n",
       "<style scoped>\n",
       "    .dataframe tbody tr th:only-of-type {\n",
       "        vertical-align: middle;\n",
       "    }\n",
       "\n",
       "    .dataframe tbody tr th {\n",
       "        vertical-align: top;\n",
       "    }\n",
       "\n",
       "    .dataframe thead th {\n",
       "        text-align: right;\n",
       "    }\n",
       "</style>\n",
       "<table border=\"1\" class=\"dataframe\">\n",
       "  <thead>\n",
       "    <tr style=\"text-align: right;\">\n",
       "      <th></th>\n",
       "      <th>autotags</th>\n",
       "      <th>user_tags</th>\n",
       "      <th>user</th>\n",
       "      <th>label</th>\n",
       "    </tr>\n",
       "  </thead>\n",
       "  <tbody>\n",
       "    <tr>\n",
       "      <th>18885</th>\n",
       "      <td>(ancient, art, ceramic, food, indoor, kitchen ...</td>\n",
       "      <td>(leaves, nature, park)</td>\n",
       "      <td>18885</td>\n",
       "      <td>1</td>\n",
       "    </tr>\n",
       "  </tbody>\n",
       "</table>\n",
       "</div>"
      ],
      "text/plain": [
       "                                                autotags  \\\n",
       "18885  (ancient, art, ceramic, food, indoor, kitchen ...   \n",
       "\n",
       "                    user_tags   user  label  \n",
       "18885  (leaves, nature, park)  18885      1  "
      ]
     },
     "execution_count": 15,
     "metadata": {},
     "output_type": "execute_result"
    }
   ],
   "source": [
    "train_set['label'] = 1\n",
    "train_set.sample(1)"
   ]
  },
  {
   "cell_type": "code",
   "execution_count": 16,
   "metadata": {},
   "outputs": [
    {
     "data": {
      "text/html": [
       "<div>\n",
       "<style scoped>\n",
       "    .dataframe tbody tr th:only-of-type {\n",
       "        vertical-align: middle;\n",
       "    }\n",
       "\n",
       "    .dataframe tbody tr th {\n",
       "        vertical-align: top;\n",
       "    }\n",
       "\n",
       "    .dataframe thead th {\n",
       "        text-align: right;\n",
       "    }\n",
       "</style>\n",
       "<table border=\"1\" class=\"dataframe\">\n",
       "  <thead>\n",
       "    <tr style=\"text-align: right;\">\n",
       "      <th></th>\n",
       "      <th>user_tags</th>\n",
       "    </tr>\n",
       "  </thead>\n",
       "  <tbody>\n",
       "    <tr>\n",
       "      <th>0</th>\n",
       "      <td>(ottawa, neighborhood, cliff, blue, ontario, b...</td>\n",
       "    </tr>\n",
       "    <tr>\n",
       "      <th>1</th>\n",
       "      <td>(xsi, crowd, splash, tx, hands, bristol, wing,...</td>\n",
       "    </tr>\n",
       "    <tr>\n",
       "      <th>2</th>\n",
       "      <td>(scenery, taxi, sxsw, daniel, 550d, houses, sp...</td>\n",
       "    </tr>\n",
       "  </tbody>\n",
       "</table>\n",
       "</div>"
      ],
      "text/plain": [
       "                                           user_tags\n",
       "0  (ottawa, neighborhood, cliff, blue, ontario, b...\n",
       "1  (xsi, crowd, splash, tx, hands, bristol, wing,...\n",
       "2  (scenery, taxi, sxsw, daniel, 550d, houses, sp..."
      ]
     },
     "execution_count": 16,
     "metadata": {},
     "output_type": "execute_result"
    }
   ],
   "source": [
    "neg_u_set = pd.DataFrame({\"user_tags\": pd.Series(neg_user_tags)})\n",
    "neg_u_set.head(3)"
   ]
  },
  {
   "cell_type": "code",
   "execution_count": 17,
   "metadata": {},
   "outputs": [],
   "source": [
    "neg_u_set['user'] = neg_u_set.index"
   ]
  },
  {
   "cell_type": "code",
   "execution_count": 18,
   "metadata": {},
   "outputs": [],
   "source": [
    "neg_u_set['autotags'] = train_set.autotags\n",
    "neg_u_set['label'] = 0"
   ]
  },
  {
   "cell_type": "code",
   "execution_count": 19,
   "metadata": {},
   "outputs": [
    {
     "data": {
      "text/html": [
       "<div>\n",
       "<style scoped>\n",
       "    .dataframe tbody tr th:only-of-type {\n",
       "        vertical-align: middle;\n",
       "    }\n",
       "\n",
       "    .dataframe tbody tr th {\n",
       "        vertical-align: top;\n",
       "    }\n",
       "\n",
       "    .dataframe thead th {\n",
       "        text-align: right;\n",
       "    }\n",
       "</style>\n",
       "<table border=\"1\" class=\"dataframe\">\n",
       "  <thead>\n",
       "    <tr style=\"text-align: right;\">\n",
       "      <th></th>\n",
       "      <th>user_tags</th>\n",
       "      <th>user</th>\n",
       "      <th>autotags</th>\n",
       "      <th>label</th>\n",
       "    </tr>\n",
       "  </thead>\n",
       "  <tbody>\n",
       "    <tr>\n",
       "      <th>0</th>\n",
       "      <td>(ottawa, neighborhood, cliff, blue, ontario, b...</td>\n",
       "      <td>0</td>\n",
       "      <td>(concert, dark red, ensemble, indoor, light, m...</td>\n",
       "      <td>0</td>\n",
       "    </tr>\n",
       "    <tr>\n",
       "      <th>1</th>\n",
       "      <td>(xsi, crowd, splash, tx, hands, bristol, wing,...</td>\n",
       "      <td>1</td>\n",
       "      <td>(amusement park, carousel, display window, flo...</td>\n",
       "      <td>0</td>\n",
       "    </tr>\n",
       "    <tr>\n",
       "      <th>2</th>\n",
       "      <td>(scenery, taxi, sxsw, daniel, 550d, houses, sp...</td>\n",
       "      <td>2</td>\n",
       "      <td>(cosplay, fashion, outerwear, outfit, parade, ...</td>\n",
       "      <td>0</td>\n",
       "    </tr>\n",
       "  </tbody>\n",
       "</table>\n",
       "</div>"
      ],
      "text/plain": [
       "                                           user_tags  user  \\\n",
       "0  (ottawa, neighborhood, cliff, blue, ontario, b...     0   \n",
       "1  (xsi, crowd, splash, tx, hands, bristol, wing,...     1   \n",
       "2  (scenery, taxi, sxsw, daniel, 550d, houses, sp...     2   \n",
       "\n",
       "                                            autotags  label  \n",
       "0  (concert, dark red, ensemble, indoor, light, m...      0  \n",
       "1  (amusement park, carousel, display window, flo...      0  \n",
       "2  (cosplay, fashion, outerwear, outfit, parade, ...      0  "
      ]
     },
     "execution_count": 19,
     "metadata": {},
     "output_type": "execute_result"
    }
   ],
   "source": [
    "neg_u_set.head(3)"
   ]
  },
  {
   "cell_type": "code",
   "execution_count": 20,
   "metadata": {},
   "outputs": [],
   "source": [
    "train_set = pd.concat([train_set, neg_u_set], axis = 0, sort=False, ignore_index=True)"
   ]
  },
  {
   "cell_type": "code",
   "execution_count": 21,
   "metadata": {
    "scrolled": true
   },
   "outputs": [
    {
     "data": {
      "text/plain": [
       "(40000, 4)"
      ]
     },
     "execution_count": 21,
     "metadata": {},
     "output_type": "execute_result"
    }
   ],
   "source": [
    "train_set.shape"
   ]
  },
  {
   "cell_type": "code",
   "execution_count": 22,
   "metadata": {
    "scrolled": true
   },
   "outputs": [
    {
     "data": {
      "text/html": [
       "<div>\n",
       "<style scoped>\n",
       "    .dataframe tbody tr th:only-of-type {\n",
       "        vertical-align: middle;\n",
       "    }\n",
       "\n",
       "    .dataframe tbody tr th {\n",
       "        vertical-align: top;\n",
       "    }\n",
       "\n",
       "    .dataframe thead th {\n",
       "        text-align: right;\n",
       "    }\n",
       "</style>\n",
       "<table border=\"1\" class=\"dataframe\">\n",
       "  <thead>\n",
       "    <tr style=\"text-align: right;\">\n",
       "      <th></th>\n",
       "      <th>autotags</th>\n",
       "      <th>user_tags</th>\n",
       "      <th>user</th>\n",
       "      <th>label</th>\n",
       "    </tr>\n",
       "  </thead>\n",
       "  <tbody>\n",
       "    <tr>\n",
       "      <th>0</th>\n",
       "      <td>(concert, dark red, ensemble, indoor, light, m...</td>\n",
       "      <td>(chris, dave, jack, march)</td>\n",
       "      <td>0</td>\n",
       "      <td>1</td>\n",
       "    </tr>\n",
       "    <tr>\n",
       "      <th>1</th>\n",
       "      <td>(amusement park, carousel, display window, flo...</td>\n",
       "      <td>(asia, breakfast, thailand)</td>\n",
       "      <td>1</td>\n",
       "      <td>1</td>\n",
       "    </tr>\n",
       "    <tr>\n",
       "      <th>2</th>\n",
       "      <td>(cosplay, fashion, outerwear, outfit, parade, ...</td>\n",
       "      <td>(anaheim, cosplay, show)</td>\n",
       "      <td>2</td>\n",
       "      <td>1</td>\n",
       "    </tr>\n",
       "    <tr>\n",
       "      <th>3</th>\n",
       "      <td>(almond tree, animal, bird, bird of prey, blos...</td>\n",
       "      <td>(asia, bloom, blue, city, february, spring, tr...</td>\n",
       "      <td>3</td>\n",
       "      <td>1</td>\n",
       "    </tr>\n",
       "    <tr>\n",
       "      <th>4</th>\n",
       "      <td>(animal, blue, bright, depth of field, flower,...</td>\n",
       "      <td>(blue, denmark, flower, flowers, spring, winter)</td>\n",
       "      <td>4</td>\n",
       "      <td>1</td>\n",
       "    </tr>\n",
       "  </tbody>\n",
       "</table>\n",
       "</div>"
      ],
      "text/plain": [
       "                                            autotags  \\\n",
       "0  (concert, dark red, ensemble, indoor, light, m...   \n",
       "1  (amusement park, carousel, display window, flo...   \n",
       "2  (cosplay, fashion, outerwear, outfit, parade, ...   \n",
       "3  (almond tree, animal, bird, bird of prey, blos...   \n",
       "4  (animal, blue, bright, depth of field, flower,...   \n",
       "\n",
       "                                           user_tags  user  label  \n",
       "0                         (chris, dave, jack, march)     0      1  \n",
       "1                        (asia, breakfast, thailand)     1      1  \n",
       "2                           (anaheim, cosplay, show)     2      1  \n",
       "3  (asia, bloom, blue, city, february, spring, tr...     3      1  \n",
       "4   (blue, denmark, flower, flowers, spring, winter)     4      1  "
      ]
     },
     "execution_count": 22,
     "metadata": {},
     "output_type": "execute_result"
    }
   ],
   "source": [
    "train_set.head()"
   ]
  },
  {
   "cell_type": "markdown",
   "metadata": {},
   "source": [
    "Expand user_tag list"
   ]
  },
  {
   "cell_type": "code",
   "execution_count": 23,
   "metadata": {},
   "outputs": [],
   "source": [
    "expanded = pd.DataFrame(train_set.user_tags.tolist(), index=train_set.index)\\\n",
    "           .stack().reset_index(level=1, drop=True).rename('user_tag')\n",
    "expanded_train = train_set.join(expanded)"
   ]
  },
  {
   "cell_type": "code",
   "execution_count": 24,
   "metadata": {
    "scrolled": true
   },
   "outputs": [
    {
     "data": {
      "text/html": [
       "<div>\n",
       "<style scoped>\n",
       "    .dataframe tbody tr th:only-of-type {\n",
       "        vertical-align: middle;\n",
       "    }\n",
       "\n",
       "    .dataframe tbody tr th {\n",
       "        vertical-align: top;\n",
       "    }\n",
       "\n",
       "    .dataframe thead th {\n",
       "        text-align: right;\n",
       "    }\n",
       "</style>\n",
       "<table border=\"1\" class=\"dataframe\">\n",
       "  <thead>\n",
       "    <tr style=\"text-align: right;\">\n",
       "      <th></th>\n",
       "      <th>autotags</th>\n",
       "      <th>user_tags</th>\n",
       "      <th>user</th>\n",
       "      <th>label</th>\n",
       "      <th>user_tag</th>\n",
       "    </tr>\n",
       "  </thead>\n",
       "  <tbody>\n",
       "    <tr>\n",
       "      <th>0</th>\n",
       "      <td>(concert, dark red, ensemble, indoor, light, m...</td>\n",
       "      <td>(chris, dave, jack, march)</td>\n",
       "      <td>0</td>\n",
       "      <td>1</td>\n",
       "      <td>chris</td>\n",
       "    </tr>\n",
       "    <tr>\n",
       "      <th>0</th>\n",
       "      <td>(concert, dark red, ensemble, indoor, light, m...</td>\n",
       "      <td>(chris, dave, jack, march)</td>\n",
       "      <td>0</td>\n",
       "      <td>1</td>\n",
       "      <td>dave</td>\n",
       "    </tr>\n",
       "    <tr>\n",
       "      <th>0</th>\n",
       "      <td>(concert, dark red, ensemble, indoor, light, m...</td>\n",
       "      <td>(chris, dave, jack, march)</td>\n",
       "      <td>0</td>\n",
       "      <td>1</td>\n",
       "      <td>jack</td>\n",
       "    </tr>\n",
       "    <tr>\n",
       "      <th>0</th>\n",
       "      <td>(concert, dark red, ensemble, indoor, light, m...</td>\n",
       "      <td>(chris, dave, jack, march)</td>\n",
       "      <td>0</td>\n",
       "      <td>1</td>\n",
       "      <td>march</td>\n",
       "    </tr>\n",
       "    <tr>\n",
       "      <th>1</th>\n",
       "      <td>(amusement park, carousel, display window, flo...</td>\n",
       "      <td>(asia, breakfast, thailand)</td>\n",
       "      <td>1</td>\n",
       "      <td>1</td>\n",
       "      <td>asia</td>\n",
       "    </tr>\n",
       "  </tbody>\n",
       "</table>\n",
       "</div>"
      ],
      "text/plain": [
       "                                            autotags  \\\n",
       "0  (concert, dark red, ensemble, indoor, light, m...   \n",
       "0  (concert, dark red, ensemble, indoor, light, m...   \n",
       "0  (concert, dark red, ensemble, indoor, light, m...   \n",
       "0  (concert, dark red, ensemble, indoor, light, m...   \n",
       "1  (amusement park, carousel, display window, flo...   \n",
       "\n",
       "                     user_tags  user  label user_tag  \n",
       "0   (chris, dave, jack, march)     0      1    chris  \n",
       "0   (chris, dave, jack, march)     0      1     dave  \n",
       "0   (chris, dave, jack, march)     0      1     jack  \n",
       "0   (chris, dave, jack, march)     0      1    march  \n",
       "1  (asia, breakfast, thailand)     1      1     asia  "
      ]
     },
     "execution_count": 24,
     "metadata": {},
     "output_type": "execute_result"
    }
   ],
   "source": [
    "expanded_train.head()"
   ]
  },
  {
   "cell_type": "code",
   "execution_count": 25,
   "metadata": {},
   "outputs": [],
   "source": [
    "expanded_train = expanded_train.drop('user_tags', axis=1)"
   ]
  },
  {
   "cell_type": "code",
   "execution_count": 26,
   "metadata": {
    "scrolled": true
   },
   "outputs": [
    {
     "data": {
      "text/html": [
       "<div>\n",
       "<style scoped>\n",
       "    .dataframe tbody tr th:only-of-type {\n",
       "        vertical-align: middle;\n",
       "    }\n",
       "\n",
       "    .dataframe tbody tr th {\n",
       "        vertical-align: top;\n",
       "    }\n",
       "\n",
       "    .dataframe thead th {\n",
       "        text-align: right;\n",
       "    }\n",
       "</style>\n",
       "<table border=\"1\" class=\"dataframe\">\n",
       "  <thead>\n",
       "    <tr style=\"text-align: right;\">\n",
       "      <th></th>\n",
       "      <th>autotags</th>\n",
       "      <th>user</th>\n",
       "      <th>label</th>\n",
       "      <th>user_tag</th>\n",
       "    </tr>\n",
       "  </thead>\n",
       "  <tbody>\n",
       "    <tr>\n",
       "      <th>0</th>\n",
       "      <td>(concert, dark red, ensemble, indoor, light, m...</td>\n",
       "      <td>0</td>\n",
       "      <td>1</td>\n",
       "      <td>chris</td>\n",
       "    </tr>\n",
       "    <tr>\n",
       "      <th>0</th>\n",
       "      <td>(concert, dark red, ensemble, indoor, light, m...</td>\n",
       "      <td>0</td>\n",
       "      <td>1</td>\n",
       "      <td>dave</td>\n",
       "    </tr>\n",
       "    <tr>\n",
       "      <th>0</th>\n",
       "      <td>(concert, dark red, ensemble, indoor, light, m...</td>\n",
       "      <td>0</td>\n",
       "      <td>1</td>\n",
       "      <td>jack</td>\n",
       "    </tr>\n",
       "    <tr>\n",
       "      <th>0</th>\n",
       "      <td>(concert, dark red, ensemble, indoor, light, m...</td>\n",
       "      <td>0</td>\n",
       "      <td>1</td>\n",
       "      <td>march</td>\n",
       "    </tr>\n",
       "    <tr>\n",
       "      <th>1</th>\n",
       "      <td>(amusement park, carousel, display window, flo...</td>\n",
       "      <td>1</td>\n",
       "      <td>1</td>\n",
       "      <td>asia</td>\n",
       "    </tr>\n",
       "  </tbody>\n",
       "</table>\n",
       "</div>"
      ],
      "text/plain": [
       "                                            autotags  user  label user_tag\n",
       "0  (concert, dark red, ensemble, indoor, light, m...     0      1    chris\n",
       "0  (concert, dark red, ensemble, indoor, light, m...     0      1     dave\n",
       "0  (concert, dark red, ensemble, indoor, light, m...     0      1     jack\n",
       "0  (concert, dark red, ensemble, indoor, light, m...     0      1    march\n",
       "1  (amusement park, carousel, display window, flo...     1      1     asia"
      ]
     },
     "execution_count": 26,
     "metadata": {},
     "output_type": "execute_result"
    }
   ],
   "source": [
    "expanded_train.head()"
   ]
  },
  {
   "cell_type": "markdown",
   "metadata": {},
   "source": [
    "Make function of it:"
   ]
  },
  {
   "cell_type": "code",
   "execution_count": 27,
   "metadata": {},
   "outputs": [],
   "source": [
    "def expand_user_tag_lists(df):\n",
    "    expand = pd.DataFrame(df.user_tags.tolist(), index=df.index)\\\n",
    "           .stack().reset_index(level=1, drop=True).rename('user_tag')\n",
    "    df = df.join(expand)\n",
    "    df = df.drop('user_tags', axis=1)\n",
    "    return df"
   ]
  },
  {
   "cell_type": "code",
   "execution_count": 82,
   "metadata": {},
   "outputs": [],
   "source": [
    "asd = expand_user_tag_lists(train_set)"
   ]
  },
  {
   "cell_type": "code",
   "execution_count": 95,
   "metadata": {
    "scrolled": true
   },
   "outputs": [
    {
     "data": {
      "text/plain": [
       "scipy.sparse.dok.dok_matrix"
      ]
     },
     "execution_count": 95,
     "metadata": {},
     "output_type": "execute_result"
    }
   ],
   "source": [
    "type(y)"
   ]
  },
  {
   "cell_type": "code",
   "execution_count": 94,
   "metadata": {},
   "outputs": [
    {
     "data": {
      "text/plain": [
       "20000"
      ]
     },
     "execution_count": 94,
     "metadata": {},
     "output_type": "execute_result"
    }
   ],
   "source": [
    "y.shape[0]"
   ]
  },
  {
   "cell_type": "code",
   "execution_count": null,
   "metadata": {},
   "outputs": [],
   "source": []
  },
  {
   "cell_type": "markdown",
   "metadata": {},
   "source": [
    "## Get and prepare val set"
   ]
  },
  {
   "cell_type": "code",
   "execution_count": 66,
   "metadata": {},
   "outputs": [],
   "source": [
    "val_user_tags = mlby.inverse_transform(val_y)"
   ]
  },
  {
   "cell_type": "code",
   "execution_count": 67,
   "metadata": {},
   "outputs": [
    {
     "data": {
      "text/html": [
       "<div>\n",
       "<style scoped>\n",
       "    .dataframe tbody tr th:only-of-type {\n",
       "        vertical-align: middle;\n",
       "    }\n",
       "\n",
       "    .dataframe tbody tr th {\n",
       "        vertical-align: top;\n",
       "    }\n",
       "\n",
       "    .dataframe thead th {\n",
       "        text-align: right;\n",
       "    }\n",
       "</style>\n",
       "<table border=\"1\" class=\"dataframe\">\n",
       "  <thead>\n",
       "    <tr style=\"text-align: right;\">\n",
       "      <th></th>\n",
       "      <th>user_tags</th>\n",
       "      <th>user</th>\n",
       "    </tr>\n",
       "  </thead>\n",
       "  <tbody>\n",
       "    <tr>\n",
       "      <th>0</th>\n",
       "      <td>(model, portrait, street)</td>\n",
       "      <td>18000</td>\n",
       "    </tr>\n",
       "    <tr>\n",
       "      <th>1</th>\n",
       "      <td>(airplane, aviation, boeing)</td>\n",
       "      <td>18001</td>\n",
       "    </tr>\n",
       "    <tr>\n",
       "      <th>2</th>\n",
       "      <td>(film, graffiti, london)</td>\n",
       "      <td>18002</td>\n",
       "    </tr>\n",
       "    <tr>\n",
       "      <th>3</th>\n",
       "      <td>(florida, kayak, surfing, usa)</td>\n",
       "      <td>18003</td>\n",
       "    </tr>\n",
       "    <tr>\n",
       "      <th>4</th>\n",
       "      <td>(fountain, heritage, history, monument, ruins)</td>\n",
       "      <td>18004</td>\n",
       "    </tr>\n",
       "  </tbody>\n",
       "</table>\n",
       "</div>"
      ],
      "text/plain": [
       "                                        user_tags   user\n",
       "0                       (model, portrait, street)  18000\n",
       "1                    (airplane, aviation, boeing)  18001\n",
       "2                        (film, graffiti, london)  18002\n",
       "3                  (florida, kayak, surfing, usa)  18003\n",
       "4  (fountain, heritage, history, monument, ruins)  18004"
      ]
     },
     "execution_count": 67,
     "metadata": {},
     "output_type": "execute_result"
    }
   ],
   "source": [
    "val_set = pd.DataFrame(data={'user_tags': val_user_tags})\n",
    "val_set['user'] = pd.Series(range(18000, 20000))\n",
    "val_set.head()"
   ]
  },
  {
   "cell_type": "code",
   "execution_count": 68,
   "metadata": {},
   "outputs": [
    {
     "data": {
      "text/html": [
       "<div>\n",
       "<style scoped>\n",
       "    .dataframe tbody tr th:only-of-type {\n",
       "        vertical-align: middle;\n",
       "    }\n",
       "\n",
       "    .dataframe tbody tr th {\n",
       "        vertical-align: top;\n",
       "    }\n",
       "\n",
       "    .dataframe thead th {\n",
       "        text-align: right;\n",
       "    }\n",
       "</style>\n",
       "<table border=\"1\" class=\"dataframe\">\n",
       "  <thead>\n",
       "    <tr style=\"text-align: right;\">\n",
       "      <th></th>\n",
       "      <th>user_tags</th>\n",
       "      <th>user</th>\n",
       "      <th>autotags</th>\n",
       "    </tr>\n",
       "  </thead>\n",
       "  <tbody>\n",
       "    <tr>\n",
       "      <th>0</th>\n",
       "      <td>(model, portrait, street)</td>\n",
       "      <td>18000</td>\n",
       "      <td>(beachwear, bikini, bokeh, cosplay, depth of f...</td>\n",
       "    </tr>\n",
       "    <tr>\n",
       "      <th>1</th>\n",
       "      <td>(airplane, aviation, boeing)</td>\n",
       "      <td>18001</td>\n",
       "      <td>(aircraft, airframe, airliner, airplane, airpl...</td>\n",
       "    </tr>\n",
       "    <tr>\n",
       "      <th>2</th>\n",
       "      <td>(film, graffiti, london)</td>\n",
       "      <td>18002</td>\n",
       "      <td>(alligator, animal, art, crocodile, painting, ...</td>\n",
       "    </tr>\n",
       "    <tr>\n",
       "      <th>3</th>\n",
       "      <td>(florida, kayak, surfing, usa)</td>\n",
       "      <td>18003</td>\n",
       "      <td>(animal, boat, bokeh, depth of field, gymnasti...</td>\n",
       "    </tr>\n",
       "    <tr>\n",
       "      <th>4</th>\n",
       "      <td>(fountain, heritage, history, monument, ruins)</td>\n",
       "      <td>18004</td>\n",
       "      <td>(architecture, art, ethereal, fountain, light ...</td>\n",
       "    </tr>\n",
       "  </tbody>\n",
       "</table>\n",
       "</div>"
      ],
      "text/plain": [
       "                                        user_tags   user  \\\n",
       "0                       (model, portrait, street)  18000   \n",
       "1                    (airplane, aviation, boeing)  18001   \n",
       "2                        (film, graffiti, london)  18002   \n",
       "3                  (florida, kayak, surfing, usa)  18003   \n",
       "4  (fountain, heritage, history, monument, ruins)  18004   \n",
       "\n",
       "                                            autotags  \n",
       "0  (beachwear, bikini, bokeh, cosplay, depth of f...  \n",
       "1  (aircraft, airframe, airliner, airplane, airpl...  \n",
       "2  (alligator, animal, art, crocodile, painting, ...  \n",
       "3  (animal, boat, bokeh, depth of field, gymnasti...  \n",
       "4  (architecture, art, ethereal, fountain, light ...  "
      ]
     },
     "execution_count": 68,
     "metadata": {},
     "output_type": "execute_result"
    }
   ],
   "source": [
    "val_set = pd.merge(val_set, orig_train_set[['autotags', 'user']], on='user')\n",
    "val_set.head()"
   ]
  },
  {
   "cell_type": "code",
   "execution_count": 69,
   "metadata": {},
   "outputs": [],
   "source": [
    "val_set['label'] = 1"
   ]
  },
  {
   "cell_type": "code",
   "execution_count": 70,
   "metadata": {},
   "outputs": [],
   "source": [
    "neg_val = gen_negative_user_tags(4, val_y, mlby)"
   ]
  },
  {
   "cell_type": "code",
   "execution_count": 71,
   "metadata": {},
   "outputs": [],
   "source": [
    "neg_val_set = pd.DataFrame({'user_tags': pd.Series(neg_val)})\n",
    "neg_val_set['user'] = val_set.user"
   ]
  },
  {
   "cell_type": "code",
   "execution_count": 72,
   "metadata": {},
   "outputs": [
    {
     "data": {
      "text/html": [
       "<div>\n",
       "<style scoped>\n",
       "    .dataframe tbody tr th:only-of-type {\n",
       "        vertical-align: middle;\n",
       "    }\n",
       "\n",
       "    .dataframe tbody tr th {\n",
       "        vertical-align: top;\n",
       "    }\n",
       "\n",
       "    .dataframe thead th {\n",
       "        text-align: right;\n",
       "    }\n",
       "</style>\n",
       "<table border=\"1\" class=\"dataframe\">\n",
       "  <thead>\n",
       "    <tr style=\"text-align: right;\">\n",
       "      <th></th>\n",
       "      <th>user_tags</th>\n",
       "      <th>user</th>\n",
       "      <th>autotags</th>\n",
       "      <th>label</th>\n",
       "    </tr>\n",
       "  </thead>\n",
       "  <tbody>\n",
       "    <tr>\n",
       "      <th>0</th>\n",
       "      <td>(femme, diesel, sp, national, guy, fujifilm, s...</td>\n",
       "      <td>18000</td>\n",
       "      <td>(beachwear, bikini, bokeh, cosplay, depth of f...</td>\n",
       "      <td>0</td>\n",
       "    </tr>\n",
       "    <tr>\n",
       "      <th>1</th>\n",
       "      <td>(truck, dutch, male, river, dynamic, portraits...</td>\n",
       "      <td>18001</td>\n",
       "      <td>(aircraft, airframe, airliner, airplane, airpl...</td>\n",
       "      <td>0</td>\n",
       "    </tr>\n",
       "    <tr>\n",
       "      <th>2</th>\n",
       "      <td>(slide, hawaii, street, del, harbor, africa, g...</td>\n",
       "      <td>18002</td>\n",
       "      <td>(alligator, animal, art, crocodile, painting, ...</td>\n",
       "      <td>0</td>\n",
       "    </tr>\n",
       "    <tr>\n",
       "      <th>3</th>\n",
       "      <td>(valencia, rabbit, concierto, hdr, american, m...</td>\n",
       "      <td>18003</td>\n",
       "      <td>(animal, boat, bokeh, depth of field, gymnasti...</td>\n",
       "      <td>0</td>\n",
       "    </tr>\n",
       "    <tr>\n",
       "      <th>4</th>\n",
       "      <td>(euskadi, deporte, department, floor, bleu, at...</td>\n",
       "      <td>18004</td>\n",
       "      <td>(architecture, art, ethereal, fountain, light ...</td>\n",
       "      <td>0</td>\n",
       "    </tr>\n",
       "  </tbody>\n",
       "</table>\n",
       "</div>"
      ],
      "text/plain": [
       "                                           user_tags   user  \\\n",
       "0  (femme, diesel, sp, national, guy, fujifilm, s...  18000   \n",
       "1  (truck, dutch, male, river, dynamic, portraits...  18001   \n",
       "2  (slide, hawaii, street, del, harbor, africa, g...  18002   \n",
       "3  (valencia, rabbit, concierto, hdr, american, m...  18003   \n",
       "4  (euskadi, deporte, department, floor, bleu, at...  18004   \n",
       "\n",
       "                                            autotags  label  \n",
       "0  (beachwear, bikini, bokeh, cosplay, depth of f...      0  \n",
       "1  (aircraft, airframe, airliner, airplane, airpl...      0  \n",
       "2  (alligator, animal, art, crocodile, painting, ...      0  \n",
       "3  (animal, boat, bokeh, depth of field, gymnasti...      0  \n",
       "4  (architecture, art, ethereal, fountain, light ...      0  "
      ]
     },
     "execution_count": 72,
     "metadata": {},
     "output_type": "execute_result"
    }
   ],
   "source": [
    "neg_val_set['autotags'] = val_set.autotags\n",
    "neg_val_set['label'] = 0\n",
    "neg_val_set.head()"
   ]
  },
  {
   "cell_type": "code",
   "execution_count": 73,
   "metadata": {
    "scrolled": false
   },
   "outputs": [
    {
     "data": {
      "text/html": [
       "<div>\n",
       "<style scoped>\n",
       "    .dataframe tbody tr th:only-of-type {\n",
       "        vertical-align: middle;\n",
       "    }\n",
       "\n",
       "    .dataframe tbody tr th {\n",
       "        vertical-align: top;\n",
       "    }\n",
       "\n",
       "    .dataframe thead th {\n",
       "        text-align: right;\n",
       "    }\n",
       "</style>\n",
       "<table border=\"1\" class=\"dataframe\">\n",
       "  <thead>\n",
       "    <tr style=\"text-align: right;\">\n",
       "      <th></th>\n",
       "      <th>user_tags</th>\n",
       "      <th>user</th>\n",
       "      <th>autotags</th>\n",
       "      <th>label</th>\n",
       "    </tr>\n",
       "  </thead>\n",
       "  <tbody>\n",
       "    <tr>\n",
       "      <th>0</th>\n",
       "      <td>(model, portrait, street)</td>\n",
       "      <td>18000</td>\n",
       "      <td>(beachwear, bikini, bokeh, cosplay, depth of f...</td>\n",
       "      <td>1</td>\n",
       "    </tr>\n",
       "    <tr>\n",
       "      <th>1</th>\n",
       "      <td>(airplane, aviation, boeing)</td>\n",
       "      <td>18001</td>\n",
       "      <td>(aircraft, airframe, airliner, airplane, airpl...</td>\n",
       "      <td>1</td>\n",
       "    </tr>\n",
       "    <tr>\n",
       "      <th>2</th>\n",
       "      <td>(film, graffiti, london)</td>\n",
       "      <td>18002</td>\n",
       "      <td>(alligator, animal, art, crocodile, painting, ...</td>\n",
       "      <td>1</td>\n",
       "    </tr>\n",
       "    <tr>\n",
       "      <th>3</th>\n",
       "      <td>(florida, kayak, surfing, usa)</td>\n",
       "      <td>18003</td>\n",
       "      <td>(animal, boat, bokeh, depth of field, gymnasti...</td>\n",
       "      <td>1</td>\n",
       "    </tr>\n",
       "    <tr>\n",
       "      <th>4</th>\n",
       "      <td>(fountain, heritage, history, monument, ruins)</td>\n",
       "      <td>18004</td>\n",
       "      <td>(architecture, art, ethereal, fountain, light ...</td>\n",
       "      <td>1</td>\n",
       "    </tr>\n",
       "  </tbody>\n",
       "</table>\n",
       "</div>"
      ],
      "text/plain": [
       "                                        user_tags   user  \\\n",
       "0                       (model, portrait, street)  18000   \n",
       "1                    (airplane, aviation, boeing)  18001   \n",
       "2                        (film, graffiti, london)  18002   \n",
       "3                  (florida, kayak, surfing, usa)  18003   \n",
       "4  (fountain, heritage, history, monument, ruins)  18004   \n",
       "\n",
       "                                            autotags  label  \n",
       "0  (beachwear, bikini, bokeh, cosplay, depth of f...      1  \n",
       "1  (aircraft, airframe, airliner, airplane, airpl...      1  \n",
       "2  (alligator, animal, art, crocodile, painting, ...      1  \n",
       "3  (animal, boat, bokeh, depth of field, gymnasti...      1  \n",
       "4  (architecture, art, ethereal, fountain, light ...      1  "
      ]
     },
     "execution_count": 73,
     "metadata": {},
     "output_type": "execute_result"
    }
   ],
   "source": [
    "total_val_set = pd.concat([val_set, neg_val_set], sort=False)\n",
    "total_val_set.head()"
   ]
  },
  {
   "cell_type": "code",
   "execution_count": 114,
   "metadata": {},
   "outputs": [],
   "source": [
    "dataset = total_val_set.copy()"
   ]
  },
  {
   "cell_type": "code",
   "execution_count": 90,
   "metadata": {},
   "outputs": [
    {
     "data": {
      "text/plain": [
       "43613"
      ]
     },
     "execution_count": 90,
     "metadata": {},
     "output_type": "execute_result"
    }
   ],
   "source": [
    "pd.Series([tag for user_tags in total_val_set.user_tags for tag in user_tags]).value_counts().sum()"
   ]
  },
  {
   "cell_type": "code",
   "execution_count": 93,
   "metadata": {
    "scrolled": true
   },
   "outputs": [],
   "source": [
    "expand = pd.DataFrame(dataset.user_tags.tolist(), index=dataset.index)\\\n",
    "           .stack().reset_index(level=1, drop=True).rename('user_tag')\n"
   ]
  },
  {
   "cell_type": "code",
   "execution_count": 104,
   "metadata": {},
   "outputs": [],
   "source": [
    "dataset = dataset.join(expand)"
   ]
  },
  {
   "cell_type": "code",
   "execution_count": 109,
   "metadata": {},
   "outputs": [
    {
     "data": {
      "text/plain": [
       "0       model\n",
       "0    portrait\n",
       "0      street\n",
       "1    airplane\n",
       "1    aviation\n",
       "Name: user_tag, dtype: object"
      ]
     },
     "execution_count": 109,
     "metadata": {},
     "output_type": "execute_result"
    }
   ],
   "source": [
    "expand.head()"
   ]
  },
  {
   "cell_type": "code",
   "execution_count": 108,
   "metadata": {
    "scrolled": true
   },
   "outputs": [
    {
     "data": {
      "text/html": [
       "<div>\n",
       "<style scoped>\n",
       "    .dataframe tbody tr th:only-of-type {\n",
       "        vertical-align: middle;\n",
       "    }\n",
       "\n",
       "    .dataframe tbody tr th {\n",
       "        vertical-align: top;\n",
       "    }\n",
       "\n",
       "    .dataframe thead th {\n",
       "        text-align: right;\n",
       "    }\n",
       "</style>\n",
       "<table border=\"1\" class=\"dataframe\">\n",
       "  <thead>\n",
       "    <tr style=\"text-align: right;\">\n",
       "      <th></th>\n",
       "      <th>user_tags</th>\n",
       "      <th>user</th>\n",
       "      <th>autotags</th>\n",
       "      <th>label</th>\n",
       "    </tr>\n",
       "  </thead>\n",
       "  <tbody>\n",
       "    <tr>\n",
       "      <th>0</th>\n",
       "      <td>(model, portrait, street)</td>\n",
       "      <td>18000</td>\n",
       "      <td>(beachwear, bikini, bokeh, cosplay, depth of f...</td>\n",
       "      <td>1</td>\n",
       "    </tr>\n",
       "    <tr>\n",
       "      <th>1</th>\n",
       "      <td>(airplane, aviation, boeing)</td>\n",
       "      <td>18001</td>\n",
       "      <td>(aircraft, airframe, airliner, airplane, airpl...</td>\n",
       "      <td>1</td>\n",
       "    </tr>\n",
       "    <tr>\n",
       "      <th>2</th>\n",
       "      <td>(film, graffiti, london)</td>\n",
       "      <td>18002</td>\n",
       "      <td>(alligator, animal, art, crocodile, painting, ...</td>\n",
       "      <td>1</td>\n",
       "    </tr>\n",
       "    <tr>\n",
       "      <th>3</th>\n",
       "      <td>(florida, kayak, surfing, usa)</td>\n",
       "      <td>18003</td>\n",
       "      <td>(animal, boat, bokeh, depth of field, gymnasti...</td>\n",
       "      <td>1</td>\n",
       "    </tr>\n",
       "    <tr>\n",
       "      <th>4</th>\n",
       "      <td>(fountain, heritage, history, monument, ruins)</td>\n",
       "      <td>18004</td>\n",
       "      <td>(architecture, art, ethereal, fountain, light ...</td>\n",
       "      <td>1</td>\n",
       "    </tr>\n",
       "  </tbody>\n",
       "</table>\n",
       "</div>"
      ],
      "text/plain": [
       "                                        user_tags   user  \\\n",
       "0                       (model, portrait, street)  18000   \n",
       "1                    (airplane, aviation, boeing)  18001   \n",
       "2                        (film, graffiti, london)  18002   \n",
       "3                  (florida, kayak, surfing, usa)  18003   \n",
       "4  (fountain, heritage, history, monument, ruins)  18004   \n",
       "\n",
       "                                            autotags  label  \n",
       "0  (beachwear, bikini, bokeh, cosplay, depth of f...      1  \n",
       "1  (aircraft, airframe, airliner, airplane, airpl...      1  \n",
       "2  (alligator, animal, art, crocodile, painting, ...      1  \n",
       "3  (animal, boat, bokeh, depth of field, gymnasti...      1  \n",
       "4  (architecture, art, ethereal, fountain, light ...      1  "
      ]
     },
     "execution_count": 108,
     "metadata": {},
     "output_type": "execute_result"
    }
   ],
   "source": [
    "dataset.head()"
   ]
  },
  {
   "cell_type": "code",
   "execution_count": 110,
   "metadata": {},
   "outputs": [],
   "source": [
    "dataset = dataset.join(expand)\n",
    "dataset = dataset.drop('user_tags', axis=1)"
   ]
  },
  {
   "cell_type": "code",
   "execution_count": null,
   "metadata": {},
   "outputs": [],
   "source": []
  },
  {
   "cell_type": "code",
   "execution_count": 118,
   "metadata": {
    "scrolled": true
   },
   "outputs": [
    {
     "data": {
      "text/plain": [
       "user_tags    (femme, diesel, sp, national, guy, fujifilm, s...\n",
       "user                                                     18000\n",
       "autotags     (beachwear, bikini, bokeh, cosplay, depth of f...\n",
       "label                                                        0\n",
       "Name: 0, dtype: object"
      ]
     },
     "execution_count": 118,
     "metadata": {},
     "output_type": "execute_result"
    }
   ],
   "source": [
    "dataset.iloc[2000]"
   ]
  },
  {
   "cell_type": "code",
   "execution_count": 74,
   "metadata": {},
   "outputs": [
    {
     "data": {
      "text/plain": [
       "(87226, 4)"
      ]
     },
     "execution_count": 74,
     "metadata": {},
     "output_type": "execute_result"
    }
   ],
   "source": [
    "expanded_val_set = expand_user_tag_lists(total_val_set)\n",
    "expanded_val_set.shape"
   ]
  },
  {
   "cell_type": "markdown",
   "metadata": {},
   "source": [
    "## Prepare test set"
   ]
  },
  {
   "cell_type": "markdown",
   "metadata": {},
   "source": [
    "asdasd"
   ]
  },
  {
   "cell_type": "code",
   "execution_count": 28,
   "metadata": {
    "scrolled": true
   },
   "outputs": [
    {
     "data": {
      "text/html": [
       "<div>\n",
       "<style scoped>\n",
       "    .dataframe tbody tr th:only-of-type {\n",
       "        vertical-align: middle;\n",
       "    }\n",
       "\n",
       "    .dataframe tbody tr th {\n",
       "        vertical-align: top;\n",
       "    }\n",
       "\n",
       "    .dataframe thead th {\n",
       "        text-align: right;\n",
       "    }\n",
       "</style>\n",
       "<table border=\"1\" class=\"dataframe\">\n",
       "  <thead>\n",
       "    <tr style=\"text-align: right;\">\n",
       "      <th></th>\n",
       "      <th>user_tags</th>\n",
       "      <th>user</th>\n",
       "      <th>autotags</th>\n",
       "    </tr>\n",
       "  </thead>\n",
       "  <tbody>\n",
       "    <tr>\n",
       "      <th>0</th>\n",
       "      <td>(ball, david, fl, joe)</td>\n",
       "      <td>0</td>\n",
       "      <td>(concert, dark red, ensemble, indoor, light, m...</td>\n",
       "    </tr>\n",
       "    <tr>\n",
       "      <th>1</th>\n",
       "      <td>(island, resort, travel)</td>\n",
       "      <td>1</td>\n",
       "      <td>(amusement park, carousel, display window, flo...</td>\n",
       "    </tr>\n",
       "    <tr>\n",
       "      <th>2</th>\n",
       "      <td>(convention, costume, world)</td>\n",
       "      <td>2</td>\n",
       "      <td>(cosplay, fashion, outerwear, outfit, parade, ...</td>\n",
       "    </tr>\n",
       "    <tr>\n",
       "      <th>3</th>\n",
       "      <td>(cold, flower, japan, pink, river, sky, sunny,...</td>\n",
       "      <td>3</td>\n",
       "      <td>(almond tree, animal, bird, bird of prey, blos...</td>\n",
       "    </tr>\n",
       "    <tr>\n",
       "      <th>4</th>\n",
       "      <td>(garden, green, leaves, march, purple, white, ...</td>\n",
       "      <td>4</td>\n",
       "      <td>(animal, blue, bright, depth of field, flower,...</td>\n",
       "    </tr>\n",
       "  </tbody>\n",
       "</table>\n",
       "</div>"
      ],
      "text/plain": [
       "                                           user_tags  user  \\\n",
       "0                             (ball, david, fl, joe)     0   \n",
       "1                           (island, resort, travel)     1   \n",
       "2                       (convention, costume, world)     2   \n",
       "3  (cold, flower, japan, pink, river, sky, sunny,...     3   \n",
       "4  (garden, green, leaves, march, purple, white, ...     4   \n",
       "\n",
       "                                            autotags  \n",
       "0  (concert, dark red, ensemble, indoor, light, m...  \n",
       "1  (amusement park, carousel, display window, flo...  \n",
       "2  (cosplay, fashion, outerwear, outfit, parade, ...  \n",
       "3  (almond tree, animal, bird, bird of prey, blos...  \n",
       "4  (animal, blue, bright, depth of field, flower,...  "
      ]
     },
     "execution_count": 28,
     "metadata": {},
     "output_type": "execute_result"
    }
   ],
   "source": [
    "test_user_tags = mlby.inverse_transform(test_y)\n",
    "test_set = pd.DataFrame(data={'user_tags': test_user_tags})\n",
    "test_set['user'] = pd.Series(range(2000))\n",
    "test_set = pd.merge(test_set, orig_train_set[['autotags', 'user']], on='user')\n",
    "test_set.head()"
   ]
  },
  {
   "cell_type": "code",
   "execution_count": 30,
   "metadata": {},
   "outputs": [],
   "source": [
    "test_set = expand_user_tag_lists(test_set)"
   ]
  },
  {
   "cell_type": "code",
   "execution_count": 33,
   "metadata": {},
   "outputs": [],
   "source": [
    "test_set['label'] = 1"
   ]
  },
  {
   "cell_type": "code",
   "execution_count": 35,
   "metadata": {
    "scrolled": false
   },
   "outputs": [
    {
     "data": {
      "text/html": [
       "<div>\n",
       "<style scoped>\n",
       "    .dataframe tbody tr th:only-of-type {\n",
       "        vertical-align: middle;\n",
       "    }\n",
       "\n",
       "    .dataframe tbody tr th {\n",
       "        vertical-align: top;\n",
       "    }\n",
       "\n",
       "    .dataframe thead th {\n",
       "        text-align: right;\n",
       "    }\n",
       "</style>\n",
       "<table border=\"1\" class=\"dataframe\">\n",
       "  <thead>\n",
       "    <tr style=\"text-align: right;\">\n",
       "      <th></th>\n",
       "      <th>user</th>\n",
       "      <th>autotags</th>\n",
       "      <th>user_tag</th>\n",
       "      <th>label</th>\n",
       "    </tr>\n",
       "  </thead>\n",
       "  <tbody>\n",
       "    <tr>\n",
       "      <th>0</th>\n",
       "      <td>0</td>\n",
       "      <td>(concert, dark red, ensemble, indoor, light, m...</td>\n",
       "      <td>ball</td>\n",
       "      <td>1</td>\n",
       "    </tr>\n",
       "    <tr>\n",
       "      <th>0</th>\n",
       "      <td>0</td>\n",
       "      <td>(concert, dark red, ensemble, indoor, light, m...</td>\n",
       "      <td>david</td>\n",
       "      <td>1</td>\n",
       "    </tr>\n",
       "    <tr>\n",
       "      <th>0</th>\n",
       "      <td>0</td>\n",
       "      <td>(concert, dark red, ensemble, indoor, light, m...</td>\n",
       "      <td>fl</td>\n",
       "      <td>1</td>\n",
       "    </tr>\n",
       "    <tr>\n",
       "      <th>0</th>\n",
       "      <td>0</td>\n",
       "      <td>(concert, dark red, ensemble, indoor, light, m...</td>\n",
       "      <td>joe</td>\n",
       "      <td>1</td>\n",
       "    </tr>\n",
       "    <tr>\n",
       "      <th>1</th>\n",
       "      <td>1</td>\n",
       "      <td>(amusement park, carousel, display window, flo...</td>\n",
       "      <td>island</td>\n",
       "      <td>1</td>\n",
       "    </tr>\n",
       "  </tbody>\n",
       "</table>\n",
       "</div>"
      ],
      "text/plain": [
       "   user                                           autotags user_tag  label\n",
       "0     0  (concert, dark red, ensemble, indoor, light, m...     ball      1\n",
       "0     0  (concert, dark red, ensemble, indoor, light, m...    david      1\n",
       "0     0  (concert, dark red, ensemble, indoor, light, m...       fl      1\n",
       "0     0  (concert, dark red, ensemble, indoor, light, m...      joe      1\n",
       "1     1  (amusement park, carousel, display window, flo...   island      1"
      ]
     },
     "execution_count": 35,
     "metadata": {},
     "output_type": "execute_result"
    }
   ],
   "source": [
    "test_set.head()"
   ]
  },
  {
   "cell_type": "code",
   "execution_count": 62,
   "metadata": {},
   "outputs": [
    {
     "data": {
      "text/plain": [
       "(8962, 4)"
      ]
     },
     "execution_count": 62,
     "metadata": {},
     "output_type": "execute_result"
    }
   ],
   "source": [
    "test_set.shape"
   ]
  },
  {
   "cell_type": "code",
   "execution_count": null,
   "metadata": {},
   "outputs": [],
   "source": []
  },
  {
   "cell_type": "code",
   "execution_count": 65,
   "metadata": {},
   "outputs": [
    {
     "data": {
      "text/plain": [
       "3          japan\n",
       "3           pink\n",
       "3          river\n",
       "3            sky\n",
       "3          sunny\n",
       "3          tokyo\n",
       "3           walk\n",
       "4         garden\n",
       "4          green\n",
       "4         leaves\n",
       "4          march\n",
       "4         purple\n",
       "4          white\n",
       "4         yellow\n",
       "5           arte\n",
       "5         design\n",
       "5       interior\n",
       "5    m%C3%A9xico\n",
       "5     university\n",
       "6       arkansas\n",
       "6          b%26w\n",
       "Name: user_tag, dtype: object"
      ]
     },
     "execution_count": 65,
     "metadata": {},
     "output_type": "execute_result"
    }
   ],
   "source": [
    "test_set.user_tag[12:33]"
   ]
  },
  {
   "cell_type": "code",
   "execution_count": null,
   "metadata": {},
   "outputs": [],
   "source": [
    " "
   ]
  },
  {
   "cell_type": "code",
   "execution_count": null,
   "metadata": {},
   "outputs": [],
   "source": []
  },
  {
   "cell_type": "code",
   "execution_count": 14,
   "metadata": {
    "scrolled": false
   },
   "outputs": [
    {
     "data": {
      "text/plain": [
       "<2000x2000 sparse matrix of type '<class 'numpy.int64'>'\n",
       "\twith 8962 stored elements in Dictionary Of Keys format>"
      ]
     },
     "execution_count": 14,
     "metadata": {},
     "output_type": "execute_result"
    }
   ],
   "source": [
    "test_y"
   ]
  },
  {
   "cell_type": "code",
   "execution_count": 3,
   "metadata": {},
   "outputs": [],
   "source": [
    "data = pd.read_pickle('preprocessed_user_auto_tags.pkl')"
   ]
  },
  {
   "cell_type": "code",
   "execution_count": null,
   "metadata": {},
   "outputs": [],
   "source": []
  },
  {
   "cell_type": "code",
   "execution_count": 16,
   "metadata": {},
   "outputs": [
    {
     "data": {
      "text/html": [
       "<div>\n",
       "<style scoped>\n",
       "    .dataframe tbody tr th:only-of-type {\n",
       "        vertical-align: middle;\n",
       "    }\n",
       "\n",
       "    .dataframe tbody tr th {\n",
       "        vertical-align: top;\n",
       "    }\n",
       "\n",
       "    .dataframe thead th {\n",
       "        text-align: right;\n",
       "    }\n",
       "</style>\n",
       "<table border=\"1\" class=\"dataframe\">\n",
       "  <thead>\n",
       "    <tr style=\"text-align: right;\">\n",
       "      <th></th>\n",
       "      <th>User_tags</th>\n",
       "      <th>autotags</th>\n",
       "    </tr>\n",
       "    <tr>\n",
       "      <th>Line_number</th>\n",
       "      <th></th>\n",
       "      <th></th>\n",
       "    </tr>\n",
       "  </thead>\n",
       "  <tbody>\n",
       "    <tr>\n",
       "      <th>31</th>\n",
       "      <td>[america, arab, child, children, facebook, fre...</td>\n",
       "      <td>[arch, architecture, fort, fortification, goth...</td>\n",
       "    </tr>\n",
       "    <tr>\n",
       "      <th>34</th>\n",
       "      <td>[2004, august, canal, church, grand, health, i...</td>\n",
       "      <td>[architecture, belfry, building, campanile, ca...</td>\n",
       "    </tr>\n",
       "    <tr>\n",
       "      <th>39</th>\n",
       "      <td>[ancient, architecture, buildings, cambridge, ...</td>\n",
       "      <td>[friends, outdoor, people]</td>\n",
       "    </tr>\n",
       "    <tr>\n",
       "      <th>126</th>\n",
       "      <td>[%E9%A6%99%E6%B8%AF, farm, garden, hong+kong, ...</td>\n",
       "      <td>[blossom, calliandra, flower, geranium, hibisc...</td>\n",
       "    </tr>\n",
       "    <tr>\n",
       "      <th>143</th>\n",
       "      <td>[color, film, fujifilm, home, life, minolta]</td>\n",
       "      <td>[drawer, furniture, indoor]</td>\n",
       "    </tr>\n",
       "  </tbody>\n",
       "</table>\n",
       "</div>"
      ],
      "text/plain": [
       "                                                     User_tags  \\\n",
       "Line_number                                                      \n",
       "31           [america, arab, child, children, facebook, fre...   \n",
       "34           [2004, august, canal, church, grand, health, i...   \n",
       "39           [ancient, architecture, buildings, cambridge, ...   \n",
       "126          [%E9%A6%99%E6%B8%AF, farm, garden, hong+kong, ...   \n",
       "143               [color, film, fujifilm, home, life, minolta]   \n",
       "\n",
       "                                                      autotags  \n",
       "Line_number                                                     \n",
       "31           [arch, architecture, fort, fortification, goth...  \n",
       "34           [architecture, belfry, building, campanile, ca...  \n",
       "39                                  [friends, outdoor, people]  \n",
       "126          [blossom, calliandra, flower, geranium, hibisc...  \n",
       "143                                [drawer, furniture, indoor]  "
      ]
     },
     "execution_count": 16,
     "metadata": {},
     "output_type": "execute_result"
    }
   ],
   "source": [
    "data.head()"
   ]
  },
  {
   "cell_type": "code",
   "execution_count": 10,
   "metadata": {},
   "outputs": [
    {
     "data": {
      "text/plain": [
       "Line_number\n",
       "31        [america, arab, child, children, facebook, fre...\n",
       "34        [2004, august, canal, church, grand, health, i...\n",
       "39        [ancient, architecture, buildings, cambridge, ...\n",
       "126       [%E9%A6%99%E6%B8%AF, farm, garden, hong+kong, ...\n",
       "143            [color, film, fujifilm, home, life, minolta]\n",
       "145       [2012, april, bali, elephant, fall, indonesia,...\n",
       "198       [europe, germany, music, musicians, singing, t...\n",
       "201       [hdr, landscape, landschaft, natur, nature, vo...\n",
       "220       [2, barcelona, best, club, dance, drinks, firs...\n",
       "227       [ben, castle, day, lakewood, seattle, special,...\n",
       "248                 [bc, bird, canada, delta, male, winter]\n",
       "254       [blue, blues, glass, house, japan, japanese, l...\n",
       "297       [d80, fountain, holiday, hotel, spain, water, ...\n",
       "307       [cars, chevy, chrome, custom, mustang, wisconsin]\n",
       "310       [canon, deutschland, germany, hamburg, powersh...\n",
       "315       [2009, bridge, gothamist, island, manhattan, n...\n",
       "317       [concert, d90, festival, nikon, photo, rock, s...\n",
       "352         [2010, army, band, ceremony, soldier, soldiers]\n",
       "355       [architecture, architektur, arquitectura, buil...\n",
       "360       [20d, angels, blue, canon, delta, jet, photo, ...\n",
       "362       [california, portrait, san+francisco, sf, stro...\n",
       "382       [california, friends, mount, mountain, snow, t...\n",
       "385       [2010, brasil, de, governo, marina, natural, s...\n",
       "399       [40d, bavaria, bayern, blue, butterfly, canon,...\n",
       "411       [action, dslr, flash, flickr, madison, night, ...\n",
       "454       [ancient, church, light, medieval, night, pana...\n",
       "466       [%E4%B8%AD%E9%80%94%E4%B9%8B%E5%AE%B6, %E5%8F%...\n",
       "473        [5k, family, health, imcom, korea, run, soldier]\n",
       "480       [b%26w, black+and+white, hospital, lights, nor...\n",
       "494       [%E4%B8%AD%E9%80%94%E4%B9%8B%E5%AE%B6, %E5%8F%...\n",
       "                                ...                        \n",
       "799425    [europe, france, french, historic, history, ho...\n",
       "799449    [business, ca, capital, event, local, technolo...\n",
       "799460    [botanical, caribbean, gardens, st., vacation,...\n",
       "799505    [400d, canon, dslr, hawaii, hills, mountains, ...\n",
       "799516    [2009, church, europe, honeymoon, october, por...\n",
       "799537    [%E4%B8%AD%E5%9B%BD, b%26w, black, black+and+w...\n",
       "799552     [brown, fall, love, nashville, red, tn, wedding]\n",
       "799578    [bay, beach, blog, canon, cc, commons, creativ...\n",
       "799579        [analog, china, city, holga, shanghai, urban]\n",
       "799611    [%E5%A4%A7%E9%98%AA, bw, face, film, kodak, ni...\n",
       "799635    [flower, flowers, garden, national, rose, roya...\n",
       "799639    [copenhagen, denmark, man, people, street, str...\n",
       "799666    [2011, bmw, ca, car, chevrolet, chevy, de, fer...\n",
       "799672    [belgium, brussel, brussels, march, stage, world]\n",
       "799673           [18-55mm, casa, color, d5000, dogs, nikon]\n",
       "799700    [club, dj, drinks, electro, friends, music, ni...\n",
       "799713    [girl, new+york, newyorkcity, ny, nyc, play, p...\n",
       "799714    [2009, bc, british+columbia, canada, ski, whis...\n",
       "799736    [ball, england, great+britain, lion, london, u...\n",
       "799743    [ancient, british, good, grave, horse, italian...\n",
       "799756              [drive, driving, road, sign, sky, snow]\n",
       "799809    [highway, new+york, road, rotterdam, route, sh...\n",
       "799824    [action, cars, drift, drive, norway, rally, sn...\n",
       "799832    [boys, children, color, football, high+school,...\n",
       "799833              [beach, house, orange, raw, tree, yard]\n",
       "799861    [boats, cornwall, harbour, polaroid, sea, seas...\n",
       "799874    [europe, events, flickr, geo%3Acity%3D, geo%3A...\n",
       "799875    [2006, arizona, baseball, bw, d300, raw, toronto]\n",
       "799892    [art, basketball, bench, boat, bridge, diving,...\n",
       "799916            [aquarium, green, live, plant, red, tank]\n",
       "Name: User_tags, Length: 50297, dtype: object"
      ]
     },
     "execution_count": 10,
     "metadata": {},
     "output_type": "execute_result"
    }
   ],
   "source": [
    "data['User_tags']"
   ]
  },
  {
   "cell_type": "code",
   "execution_count": 14,
   "metadata": {
    "scrolled": true
   },
   "outputs": [],
   "source": [
    "tag_counts = pd.Series([user_tag for user_tags in data['User_tags'] for user_tag in user_tags]).value_counts()"
   ]
  },
  {
   "cell_type": "code",
   "execution_count": 20,
   "metadata": {},
   "outputs": [
    {
     "data": {
      "text/plain": [
       "(1486,)"
      ]
     },
     "execution_count": 20,
     "metadata": {},
     "output_type": "execute_result"
    }
   ],
   "source": [
    "tag_counts[tag_counts > 80].shape"
   ]
  },
  {
   "cell_type": "code",
   "execution_count": 21,
   "metadata": {},
   "outputs": [],
   "source": [
    "autotag_counts = pd.Series([autotag for autotags in data['autotags'] for autotag in autotags]).value_counts()"
   ]
  },
  {
   "cell_type": "code",
   "execution_count": 24,
   "metadata": {},
   "outputs": [
    {
     "data": {
      "text/plain": [
       "(909,)"
      ]
     },
     "execution_count": 24,
     "metadata": {},
     "output_type": "execute_result"
    }
   ],
   "source": [
    "autotag_counts[autotag_counts > 50].shape"
   ]
  },
  {
   "cell_type": "code",
   "execution_count": null,
   "metadata": {},
   "outputs": [],
   "source": [
    "data['User_tags'].value_counts()"
   ]
  },
  {
   "cell_type": "code",
   "execution_count": 20,
   "metadata": {
    "scrolled": true
   },
   "outputs": [
    {
     "data": {
      "text/plain": [
       "50297"
      ]
     },
     "execution_count": 20,
     "metadata": {},
     "output_type": "execute_result"
    }
   ],
   "source": [
    "[user_tag for user_tag in data['User_tags']]"
   ]
  },
  {
   "cell_type": "code",
   "execution_count": 25,
   "metadata": {},
   "outputs": [
    {
     "data": {
      "text/html": [
       "<div>\n",
       "<style scoped>\n",
       "    .dataframe tbody tr th:only-of-type {\n",
       "        vertical-align: middle;\n",
       "    }\n",
       "\n",
       "    .dataframe tbody tr th {\n",
       "        vertical-align: top;\n",
       "    }\n",
       "\n",
       "    .dataframe thead th {\n",
       "        text-align: right;\n",
       "    }\n",
       "</style>\n",
       "<table border=\"1\" class=\"dataframe\">\n",
       "  <thead>\n",
       "    <tr style=\"text-align: right;\">\n",
       "      <th></th>\n",
       "      <th>User_tags</th>\n",
       "      <th>autotags</th>\n",
       "    </tr>\n",
       "    <tr>\n",
       "      <th>Line_number</th>\n",
       "      <th></th>\n",
       "      <th></th>\n",
       "    </tr>\n",
       "  </thead>\n",
       "  <tbody>\n",
       "    <tr>\n",
       "      <th>31</th>\n",
       "      <td>[america, arab, child, children, facebook, fre...</td>\n",
       "      <td>[arch, architecture, fort, fortification, goth...</td>\n",
       "    </tr>\n",
       "    <tr>\n",
       "      <th>34</th>\n",
       "      <td>[2004, august, canal, church, grand, health, i...</td>\n",
       "      <td>[architecture, belfry, building, campanile, ca...</td>\n",
       "    </tr>\n",
       "    <tr>\n",
       "      <th>39</th>\n",
       "      <td>[ancient, architecture, buildings, cambridge, ...</td>\n",
       "      <td>[friends, outdoor, people]</td>\n",
       "    </tr>\n",
       "    <tr>\n",
       "      <th>126</th>\n",
       "      <td>[%E9%A6%99%E6%B8%AF, farm, garden, hong+kong, ...</td>\n",
       "      <td>[blossom, calliandra, flower, geranium, hibisc...</td>\n",
       "    </tr>\n",
       "    <tr>\n",
       "      <th>143</th>\n",
       "      <td>[color, film, fujifilm, home, life, minolta]</td>\n",
       "      <td>[drawer, furniture, indoor]</td>\n",
       "    </tr>\n",
       "  </tbody>\n",
       "</table>\n",
       "</div>"
      ],
      "text/plain": [
       "                                                     User_tags  \\\n",
       "Line_number                                                      \n",
       "31           [america, arab, child, children, facebook, fre...   \n",
       "34           [2004, august, canal, church, grand, health, i...   \n",
       "39           [ancient, architecture, buildings, cambridge, ...   \n",
       "126          [%E9%A6%99%E6%B8%AF, farm, garden, hong+kong, ...   \n",
       "143               [color, film, fujifilm, home, life, minolta]   \n",
       "\n",
       "                                                      autotags  \n",
       "Line_number                                                     \n",
       "31           [arch, architecture, fort, fortification, goth...  \n",
       "34           [architecture, belfry, building, campanile, ca...  \n",
       "39                                  [friends, outdoor, people]  \n",
       "126          [blossom, calliandra, flower, geranium, hibisc...  \n",
       "143                                [drawer, furniture, indoor]  "
      ]
     },
     "execution_count": 25,
     "metadata": {},
     "output_type": "execute_result"
    }
   ],
   "source": [
    "data.head()"
   ]
  },
  {
   "cell_type": "code",
   "execution_count": null,
   "metadata": {},
   "outputs": [],
   "source": [
    "data"
   ]
  }
 ],
 "metadata": {
  "kernelspec": {
   "display_name": "Python 3",
   "language": "python",
   "name": "python3"
  },
  "language_info": {
   "codemirror_mode": {
    "name": "ipython",
    "version": 3
   },
   "file_extension": ".py",
   "mimetype": "text/x-python",
   "name": "python",
   "nbconvert_exporter": "python",
   "pygments_lexer": "ipython3",
   "version": "3.6.7"
  }
 },
 "nbformat": 4,
 "nbformat_minor": 2
}
